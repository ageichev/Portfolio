{
 "cells": [
  {
   "cell_type": "code",
   "execution_count": 3,
   "metadata": {},
   "outputs": [],
   "source": [
    "import requests\n",
    "import pandas as pd\n",
    "from datetime import timedelta\n",
    "from datetime import datetime\n",
    "\n",
    "from airflow import DAG\n",
    "from airflow.operators.python import PythonOperator\n"
   ]
  },
  {
   "cell_type": "code",
   "execution_count": 4,
   "metadata": {},
   "outputs": [],
   "source": [
    "TOP_1M_DOMAINS = 'http://s3.amazonaws.com/alexa-static/top-1m.csv.zip'\n",
    "TOP_1M_DOMAINS_FILE = 'top-1m.csv'\n",
    "\n",
    "\n",
    "def get_data():\n",
    "    # Здесь пока оставили запись в файл, как передавать переменую между тасками будет в третьем уроке\n",
    "    top_doms = pd.read_csv(TOP_1M_DOMAINS)\n",
    "    top_data = top_doms.to_csv(index=False)\n",
    "\n",
    "    with open(TOP_1M_DOMAINS_FILE, 'w') as f:\n",
    "        f.write(top_data)\n"
   ]
  },
  {
   "cell_type": "code",
   "execution_count": 5,
   "metadata": {},
   "outputs": [],
   "source": [
    "get_data()"
   ]
  },
  {
   "cell_type": "code",
   "execution_count": 6,
   "metadata": {},
   "outputs": [],
   "source": [
    "def get_domen():\n",
    "    top_data_df = pd.read_csv(TOP_1M_DOMAINS_FILE, names=['rank', 'domain'])\n",
    "    top_domen_10 = top_data_df.domain.str.split('.', expand=True)[1].value_counts().head(10)\n",
    "    with open('top_domen_10.csv', 'w') as f:\n",
    "        f.write(top_domen_10.to_csv( header=False))\n",
    "    "
   ]
  },
  {
   "cell_type": "code",
   "execution_count": 7,
   "metadata": {},
   "outputs": [],
   "source": [
    "def print_data(ds):\n",
    "    top_domen_10 = pd.read_csv('top_domen_10.csv', header=None)\n",
    "    longest_domain = pd.read_csv('longest_domain.csv')\n",
    "    place_airflow = pd.read_csv('place_airflow.csv')\n",
    "        \n",
    "    date = ds\n",
    "\n",
    "    print(f'Top domains for date {date}')\n",
    "    print(top_domen_10[0])\n",
    "    \n",
    "    print(f'Domain with longest name {date}')\n",
    "    print(longest_domain.domain[0])\n",
    "    \n",
    "    print(f'Airflow place {date}')\n",
    "    if place_airflow.shape[0] == 0:\n",
    "        print('no data about - airflow.com')\n",
    "    else:\n",
    "        print('place_airflow.place[0]')"
   ]
  },
  {
   "cell_type": "code",
   "execution_count": 11,
   "metadata": {},
   "outputs": [],
   "source": [
    "def get_longest_domain():\n",
    "    top_data_df = pd.read_csv(TOP_1M_DOMAINS_FILE, names=['rank', 'domain'])\n",
    "    longest_domain = \\\n",
    "    (top_data_df\n",
    "     .assign(\n",
    "     domain_len = lambda x: x.domain.apply(len)\n",
    "     )\n",
    "     .sort_values(['domain_len', 'domain'], ascending = [False, False])\n",
    "     .head(1)\n",
    "     .loc[:,['domain','domain_len' ]]\n",
    "    )\n",
    "    with open('longest_domain.csv', 'w') as f:\n",
    "        f.write(longest_domain.to_csv( header=True, index = False))"
   ]
  },
  {
   "cell_type": "code",
   "execution_count": 16,
   "metadata": {},
   "outputs": [],
   "source": [
    "get_longest_domain()"
   ]
  },
  {
   "cell_type": "code",
   "execution_count": 36,
   "metadata": {},
   "outputs": [],
   "source": [
    "def place_airflow():\n",
    "    top_data_df = pd.read_csv(TOP_1M_DOMAINS_FILE, names=['rank', 'domain'])\n",
    "    longest_domain = \\\n",
    "    (top_data_df\n",
    "     .assign(\n",
    "     domain_len = lambda x: x.domain.apply(len)\n",
    "     )\n",
    "     .sort_values(['domain_len', 'domain'], ascending = [False, False])\n",
    "     .assign(\n",
    "         place = lambda x: range(1,len(x)+1)\n",
    "     )\n",
    "     .query(\"domain == 'airflow.com'\")\n",
    "    )\n",
    "    with open('place_airflow.csv', 'w') as f:\n",
    "        f.write(longest_domain.to_csv( header=True, index = False))"
   ]
  },
  {
   "cell_type": "code",
   "execution_count": 37,
   "metadata": {},
   "outputs": [],
   "source": [
    "place_airflow()"
   ]
  },
  {
   "cell_type": "code",
   "execution_count": 40,
   "metadata": {},
   "outputs": [],
   "source": [
    "place_airflow = pd.read_csv('place_airflow.csv')"
   ]
  },
  {
   "cell_type": "code",
   "execution_count": 43,
   "metadata": {},
   "outputs": [
    {
     "data": {
      "text/plain": [
       "0"
      ]
     },
     "execution_count": 43,
     "metadata": {},
     "output_type": "execute_result"
    }
   ],
   "source": [
    "print(f'Airflow place {date}')\n",
    "if place_airflow.shape[0] == 0:\n",
    "    print('no data about - airflow.com')\n",
    "else:\n",
    "    print('place_airflow.place[0]')\n",
    "    "
   ]
  },
  {
   "cell_type": "code",
   "execution_count": 47,
   "metadata": {},
   "outputs": [
    {
     "data": {
      "text/plain": [
       "Series([], Name: place, dtype: object)"
      ]
     },
     "execution_count": 47,
     "metadata": {},
     "output_type": "execute_result"
    }
   ],
   "source": [
    "place_airflow.place[0]"
   ]
  },
  {
   "cell_type": "code",
   "execution_count": null,
   "metadata": {},
   "outputs": [],
   "source": []
  },
  {
   "cell_type": "code",
   "execution_count": null,
   "metadata": {},
   "outputs": [],
   "source": []
  },
  {
   "cell_type": "code",
   "execution_count": null,
   "metadata": {},
   "outputs": [],
   "source": []
  },
  {
   "cell_type": "code",
   "execution_count": 28,
   "metadata": {},
   "outputs": [],
   "source": [
    "top_data_df = pd.read_csv(TOP_1M_DOMAINS_FILE, names=['rank', 'domain'])\n",
    "# longest_domain = \\\n",
    "#     (top_data_df\n",
    "#      .assign(\n",
    "#      domain_len = lambda x: x.domain.apply(len)\n",
    "#      )\n",
    "#      .sort_values(['domain_len', 'domain'], ascending = [False, False])\n",
    "#      .head(1)\n",
    "#      .loc[:,['domain','domain_len' ]]\n",
    "#     )"
   ]
  },
  {
   "cell_type": "code",
   "execution_count": 32,
   "metadata": {},
   "outputs": [
    {
     "data": {
      "text/html": [
       "<div>\n",
       "<style scoped>\n",
       "    .dataframe tbody tr th:only-of-type {\n",
       "        vertical-align: middle;\n",
       "    }\n",
       "\n",
       "    .dataframe tbody tr th {\n",
       "        vertical-align: top;\n",
       "    }\n",
       "\n",
       "    .dataframe thead th {\n",
       "        text-align: right;\n",
       "    }\n",
       "</style>\n",
       "<table border=\"1\" class=\"dataframe\">\n",
       "  <thead>\n",
       "    <tr style=\"text-align: right;\">\n",
       "      <th></th>\n",
       "      <th>rank</th>\n",
       "      <th>domain</th>\n",
       "      <th>domain_len</th>\n",
       "      <th>place</th>\n",
       "    </tr>\n",
       "  </thead>\n",
       "  <tbody>\n",
       "  </tbody>\n",
       "</table>\n",
       "</div>"
      ],
      "text/plain": [
       "Empty DataFrame\n",
       "Columns: [rank, domain, domain_len, place]\n",
       "Index: []"
      ]
     },
     "execution_count": 32,
     "metadata": {},
     "output_type": "execute_result"
    }
   ],
   "source": [
    "(top_data_df\n",
    " .assign(\n",
    " domain_len = lambda x: x.domain.apply(len)\n",
    " )\n",
    " .sort_values(['domain_len', 'domain'], ascending = [False, False])\n",
    " .assign(\n",
    "     place = lambda x: range(1,len(x)+1)\n",
    " )\n",
    " .query(\"domain == 'airflow.com'\")\n",
    ")"
   ]
  },
  {
   "cell_type": "code",
   "execution_count": null,
   "metadata": {},
   "outputs": [],
   "source": []
  }
 ],
 "metadata": {
  "kernelspec": {
   "display_name": "Python 3",
   "language": "python",
   "name": "python3"
  },
  "language_info": {
   "codemirror_mode": {
    "name": "ipython",
    "version": 3
   },
   "file_extension": ".py",
   "mimetype": "text/x-python",
   "name": "python",
   "nbconvert_exporter": "python",
   "pygments_lexer": "ipython3",
   "version": "3.7.3"
  },
  "toc": {
   "base_numbering": 1,
   "nav_menu": {},
   "number_sections": true,
   "sideBar": true,
   "skip_h1_title": false,
   "title_cell": "Table of Contents",
   "title_sidebar": "Contents",
   "toc_cell": false,
   "toc_position": {},
   "toc_section_display": true,
   "toc_window_display": false
  }
 },
 "nbformat": 4,
 "nbformat_minor": 4
}
