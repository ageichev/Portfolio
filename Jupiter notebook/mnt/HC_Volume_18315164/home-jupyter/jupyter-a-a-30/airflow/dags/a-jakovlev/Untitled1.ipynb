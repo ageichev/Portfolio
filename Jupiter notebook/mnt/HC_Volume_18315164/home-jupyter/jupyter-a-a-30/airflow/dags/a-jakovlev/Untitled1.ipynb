{
 "cells": [
  {
   "cell_type": "code",
   "execution_count": 1,
   "metadata": {},
   "outputs": [],
   "source": [
    "import requests\n",
    "from zipfile import ZipFile\n",
    "from io import BytesIO\n",
    "import pandas as pd\n",
    "import numpy as np\n",
    "from datetime import timedelta\n",
    "from datetime import datetime\n",
    "from io import StringIO\n",
    "import telegram\n",
    "\n",
    "from airflow.decorators import dag, task\n",
    "from airflow.operators.python import get_current_context\n",
    "from airflow.models import Variable\n",
    "\n",
    "#data = pd.read_csv('vgsales.csv')\n",
    "#data = data[data['Year'] == 1994]\n",
    "\n",
    "default_args = {\n",
    "    'owner': 'a-jakovlev',\n",
    "    'depends_on_past': False,\n",
    "    'retries': 2,\n",
    "    'retry_delay': timedelta(minutes=5),\n",
    "    'start_date': datetime(2022, 9, 5),\n",
    "    'schedule_interval': '0 12 * * *'\n",
    "}\n",
    "\n",
    "\n",
    "@dag(default_args = default_argsm cathup = False)\n",
    "def a_jakovlev_2():\n",
    "    \n",
    "    @task()\n",
    "    def get_data():\n",
    "        data = pd.read_csv('/var/lib/airflow/airflow.git/dags/a.batalov/vgsales.csv')\n",
    "        return data\n",
    "        \n",
    "    #Какая игра была самой продаваемой в этом году во всем мире?\n",
    "    @task()\n",
    "    def best_seller_game(data):\n",
    "        return data.loc[data['Global_Sales'].idxmax(),\"Name\"]\n",
    "\n",
    "\n",
    "    #Игры какого жанра были самыми продаваемыми в Европе? Перечислить все, если их несколько\n",
    "    @task()\n",
    "    def best_seller_genre_eu(data):\n",
    "        eu_sales_by_genre = data.groupby('Genre', as_index=False).agg({'EU_Sales':'sum'})\n",
    "        return eu_sales_by_genre.loc[eu_sales_by_genre['EU_Sales'].idxmax(), \"Genre\"]\n",
    "\n",
    "\n",
    "    #На какой платформе было больше всего игр, которые продались более чем миллионным тиражом в Северной Америке?\n",
    "    @task()\n",
    "    def best_seller_platforn_na(data):\n",
    "        en_games_by_platform = data.query('NA_Sales >= 1') \\\n",
    "            .groupby('Platform', as_index=False)[\"Name\"].count().rename(columns={'Name':\"count\"})\n",
    "        return en_games_by_platform.loc[en_games_by_platform['count'].idxmax() ,\"Platform\"]\n",
    "\n",
    "\n",
    "    # У какого издателя самые высокие средние продажи в Японии?\n",
    "    @task()\n",
    "    def best_seller_publisher_jp(data):\n",
    "        jp_sales_by_publisher = data.groupby('Publisher', as_index=False).JP_Sales.mean()\n",
    "        return jp_sales_by_publisher.loc[jp_sales_by_publisher['JP_Sales'].idxmax(),\"Publisher\"]\n",
    "\n",
    "\n",
    "    #Сколько игр продались лучше в Европе, чем в Японии\n",
    "    @task()\n",
    "    def better_in_eu_that_in_jp(data)\n",
    "        return data.query(\"EU_Sales > JP_Sales\").Name.count()\n",
    "    \n",
    "    @task()\n",
    "    def print_results(res1, res2, res3, res4, res5):\n",
    "        context = get_current_context()\n",
    "        date = context['ds']\n",
    "        ptint(f'Данные на {date}')\n",
    "        print(f'самой продаваемой в этом году во всем мире: {res1}')\n",
    "        print(f'Жанр игр, которые были самыми продаваемыми в Европе: {res2}')\n",
    "        print(f'Платформа с мамым большим числом игр, которые продались более чем миллионным тиражом в Северной Америке: {res3}')\n",
    "        print(f'Издатель с самыми высокими средними продажами в Японии: {res4}')\n",
    "        print(f'Количество игр, которые продались лучше в Европе, чем в Японии: {res5}')\n",
    "        \n",
    "    \n",
    "    data = get_data()\n",
    "    res1 = best_seller_game(data)\n",
    "    res2 = best_seller_genre_eu(data)\n",
    "    res3 = best_seller_platforn_na(data)\n",
    "    res4 = best_seller_publisher_jp(data)\n",
    "    res5 = better_in_eu_that_in_jp(data)\n",
    "    print_results(res1, res2, res3, res4, res5)\n",
    "\n",
    "a_jakovlev_2 = a_jakovlev_2()"
   ]
  },
  {
   "cell_type": "code",
   "execution_count": 2,
   "metadata": {},
   "outputs": [],
   "source": []
  },
  {
   "cell_type": "code",
   "execution_count": 17,
   "metadata": {},
   "outputs": [],
   "source": [
    "data = pd.read_csv('vgsales.csv')\n",
    "year = 1994 + hash(f'a-jakovlev') % 23\n",
    "data = data[data['Year'] == year]\n"
   ]
  },
  {
   "cell_type": "code",
   "execution_count": 18,
   "metadata": {},
   "outputs": [
    {
     "data": {
      "text/plain": [
       "'Grand Theft Auto: San Andreas'"
      ]
     },
     "execution_count": 18,
     "metadata": {},
     "output_type": "execute_result"
    }
   ],
   "source": [
    "#Какая игра была самой продаваемой в этом году во всем мире?\n",
    "data.loc[data['Global_Sales'].idxmax(),\"Name\"]"
   ]
  },
  {
   "cell_type": "code",
   "execution_count": 19,
   "metadata": {},
   "outputs": [
    {
     "data": {
      "text/plain": [
       "'Role-Playing'"
      ]
     },
     "execution_count": 19,
     "metadata": {},
     "output_type": "execute_result"
    }
   ],
   "source": [
    "#Игры какого жанра были самыми продаваемыми в Европе? Перечислить все, если их несколько\n",
    "eu_sales_by_genre = data.groupby('Genre', as_index=False).agg({'EU_Sales':'sum'})\n",
    "eu_sales_by_genre.loc[eu_sales_by_genre['EU_Sales'].idxmax(), \"Genre\"]"
   ]
  },
  {
   "cell_type": "code",
   "execution_count": 20,
   "metadata": {},
   "outputs": [
    {
     "data": {
      "text/plain": [
       "'PS2'"
      ]
     },
     "execution_count": 20,
     "metadata": {},
     "output_type": "execute_result"
    }
   ],
   "source": [
    "#На какой платформе было больше всего игр, которые продались более чем миллионным тиражом в Северной Америке?\n",
    "en_games_by_platform = data.query('NA_Sales >= 1') \\\n",
    "    .groupby('Platform', as_index=False)[\"Name\"].count().rename(columns={'Name':\"count\"})\n",
    "en_games_by_platform.loc[en_games_by_platform['count'].idxmax() ,\"Platform\"]"
   ]
  },
  {
   "cell_type": "code",
   "execution_count": 21,
   "metadata": {},
   "outputs": [
    {
     "data": {
      "text/plain": [
       "'Enix Corporation'"
      ]
     },
     "execution_count": 21,
     "metadata": {},
     "output_type": "execute_result"
    }
   ],
   "source": [
    "# У какого издателя самые высокие средние продажи в Японии?\n",
    "jp_sales_by_publisher = data.groupby('Publisher', as_index=False).JP_Sales.mean()\n",
    "jp_sales_by_publisher.loc[jp_sales_by_publisher['JP_Sales'].idxmax(),\"Publisher\"]"
   ]
  },
  {
   "cell_type": "code",
   "execution_count": 22,
   "metadata": {},
   "outputs": [
    {
     "data": {
      "text/plain": [
       "625"
      ]
     },
     "execution_count": 22,
     "metadata": {},
     "output_type": "execute_result"
    }
   ],
   "source": [
    "#Сколько игр продались лучше в Европе, чем в Японии\n",
    "data.query(\"EU_Sales > JP_Sales\").Name.count()"
   ]
  },
  {
   "cell_type": "code",
   "execution_count": 15,
   "metadata": {},
   "outputs": [],
   "source": []
  },
  {
   "cell_type": "code",
   "execution_count": null,
   "metadata": {},
   "outputs": [],
   "source": []
  },
  {
   "cell_type": "code",
   "execution_count": null,
   "metadata": {},
   "outputs": [],
   "source": []
  }
 ],
 "metadata": {
  "kernelspec": {
   "display_name": "Python 3",
   "language": "python",
   "name": "python3"
  },
  "language_info": {
   "codemirror_mode": {
    "name": "ipython",
    "version": 3
   },
   "file_extension": ".py",
   "mimetype": "text/x-python",
   "name": "python",
   "nbconvert_exporter": "python",
   "pygments_lexer": "ipython3",
   "version": "3.7.3"
  }
 },
 "nbformat": 4,
 "nbformat_minor": 4
}
