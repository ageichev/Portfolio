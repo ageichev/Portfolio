{
 "cells": [
  {
   "cell_type": "code",
   "execution_count": 1,
   "metadata": {},
   "outputs": [
    {
     "data": {
      "text/plain": [
       "<Task(PythonOperator): print_data>"
      ]
     },
     "execution_count": 1,
     "metadata": {},
     "output_type": "execute_result"
    }
   ],
   "source": [
    "import requests\n",
    "import pandas as pd\n",
    "from datetime import timedelta\n",
    "from datetime import datetime\n",
    "\n",
    "from airflow import DAG\n",
    "from airflow.operators.python import PythonOperator\n",
    "\n",
    "TOP_1M_DOMAINS = 'http://s3.amazonaws.com/alexa-static/top-1m.csv.zip'\n",
    "TOP_1M_DOMAINS_FILE = 'top-1m.csv'\n",
    "\n",
    "\n",
    "def get_data():\n",
    "    # Здесь пока оставили запись в файл, как передавать переменую между тасками будет в третьем уроке\n",
    "    top_doms = pd.read_csv(TOP_1M_DOMAINS)\n",
    "    top_data = top_doms.to_csv(index=False)\n",
    "\n",
    "    with open(TOP_1M_DOMAINS_FILE, 'w') as f:\n",
    "        f.write(top_data)\n",
    "\n",
    "\n",
    "def get_domzones():\n",
    "    top_data_df = pd.read_csv(TOP_1M_DOMAINS_FILE, names=['rank', 'domain'])\n",
    "    top_data_df['domain_zone'] = top_data_df['domain'].apply(lambda x : x.rsplit(\".\")[len(x.rsplit(\".\"))-1])\n",
    "    top_data_top_10 = top_data_df.domain_zone.value_counts() \\\n",
    "        .reset_index().rename(columns={'domain_zone': 'count','index':'domain_zone'}).head(10)\n",
    "\n",
    "    with open('top_data_top_10.csv', 'w') as f:\n",
    "        f.write(top_data_top_10.to_csv(index=False, header=False))\n",
    "\n",
    "\n",
    "\n",
    "def get_longest_domain():\n",
    "    top_data_df = pd.read_csv(TOP_1M_DOMAINS_FILE, names=['rank', 'domain'])\n",
    "    top_data_df['dom_len'] = top_data_df['domain'].apply(lambda x : len(x))\n",
    "    top_data_df = top_data_df[top_data_df['dom_len'] == top_data_df['dom_len'].max()]    \n",
    "    longest_domain = top_data_df.sort_values('domain').reset_index()\n",
    "    with open('longest_domain.csv', 'w') as f:\n",
    "        f.write(longest_domain.to_csv(index=False, header=False))\n",
    "    \n",
    "def airflow_domlen_rank():\n",
    "    top_data_df = pd.read_csv(TOP_1M_DOMAINS_FILE, names=['rank', 'domain'])\n",
    "    top_data_df[top_data_df['domain'] == 'airflow.su']['rank'].values[0]\n",
    "    airflow_domlen_rank = top_data_df[top_data_df['domain'] == 'airflow.su']\n",
    "    with open('airflow_domlen_rank.csv', 'w') as f:\n",
    "        f.write(airflow_domlen_rank.to_csv(index=False, header=False))\n",
    "        \n",
    "\n",
    "\n",
    "\n",
    "def print_data(ds):\n",
    "    with open('top_data_top_10.csv', 'r') as f:\n",
    "        top_10_data = f.read()\n",
    "    with open('longest_domain.csv', 'r') as f:\n",
    "        longest_domain = f.read()\n",
    "    with open('airflow_domlen_rank.csv', 'r') as f:\n",
    "        airflow_domlen_rank = f.read()\n",
    "    date = ds\n",
    "\n",
    "    print(f'Top domain zones for date {date}')\n",
    "    print(top_10_data)\n",
    "\n",
    "    print(f'longest domain name for date {date}')\n",
    "    print(longest_domain.domain.values[0])\n",
    "    \n",
    "    print(f'airflow.su domlen rank for date {date}')\n",
    "    print(airflow_domlen_rank['rank'].values[0])\n",
    "\n",
    "\n",
    "default_args = {\n",
    "    'owner': 'a-jakovlev',\n",
    "    'depends_on_past': False,\n",
    "    'retries': 2,\n",
    "    'retry_delay': timedelta(minutes=5),\n",
    "    'start_date': datetime(2022, 8, 29),\n",
    "}\n",
    "schedule_interval = '59 20 * * *'\n",
    "\n",
    "a_jakovlev_dag = DAG('a_jakovlev_dag', default_args=default_args, schedule_interval=schedule_interval)\n",
    "\n",
    "t1 = PythonOperator(task_id='get_data',\n",
    "                    python_callable=get_data,\n",
    "                    dag=a_jakovlev_dag)\n",
    "\n",
    "t2_1 = PythonOperator(task_id='get_domzones',\n",
    "                    python_callable=get_domzones,\n",
    "                    dag=a_jakovlev_dag)\n",
    "\n",
    "t2_2 = PythonOperator(task_id='get_longest_domain',\n",
    "                        python_callable=get_longest_domain,\n",
    "                        dag=a_jakovlev_dag)\n",
    "\n",
    "t2_3 = PythonOperator(task_id='airflow_domlen_rank',\n",
    "                        python_callable=airflow_domlen_rank,\n",
    "                        dag=a_jakovlev_dag)\n",
    "\n",
    "t3 = PythonOperator(task_id='print_data',\n",
    "                    python_callable=print_data,\n",
    "                    dag=a_jakovlev_dag)\n",
    "\n",
    "t1 >> [t2_1, t2_2, t2_3] >> t3\n",
    "\n",
    "#t1.set_downstream(t2)\n",
    "#t1.set_downstream(t2_com)\n",
    "#t2.set_downstream(t3)\n",
    "#t2_com.set_downstream(t3)\n"
   ]
  },
  {
   "cell_type": "code",
   "execution_count": 23,
   "metadata": {},
   "outputs": [],
   "source": [
    "    # Здесь пока оставили запись в файл, как передавать переменую между тасками будет в третьем уроке\n",
    "    top_doms = pd.read_csv(TOP_1M_DOMAINS)\n",
    "    top_data = top_doms.to_csv(index=False)\n",
    "\n",
    "    with open(TOP_1M_DOMAINS_FILE, 'w') as f:\n",
    "        f.write(top_data)\n"
   ]
  },
  {
   "cell_type": "code",
   "execution_count": 24,
   "metadata": {},
   "outputs": [],
   "source": [
    "    top_data_df = pd.read_csv(TOP_1M_DOMAINS_FILE, names=['rank', 'domain'])\n",
    "    top_data_df['domain_zone'] = top_data_df['domain'].apply(lambda x : x.rsplit(\".\")[len(x.rsplit(\".\"))-1])\n",
    "    top_data_top_10 = top_data_df.domain_zone.value_counts() \\\n",
    "        .reset_index().rename(columns={'domain_zone': 'count','index':'domain_zone'}).head(10)\n",
    "\n",
    "    with open('top_data_top_10.csv', 'w') as f:\n",
    "        f.write(top_data_top_10.to_csv(index=False, header=False))\n"
   ]
  },
  {
   "cell_type": "code",
   "execution_count": 28,
   "metadata": {},
   "outputs": [],
   "source": [
    "    top_data_df = pd.read_csv(TOP_1M_DOMAINS_FILE, names=['rank', 'domain'])\n",
    "    top_data_df['dom_len'] = top_data_df['domain'].apply(lambda x : len(x))\n",
    "    top_data_df = top_data_df[top_data_df['dom_len'] == top_data_df['dom_len'].max()]    \n",
    "    longest_domain = top_data_df.sort_values('domain').reset_index().domain.values[0]\n",
    "    with open('longest_domain.txt', 'w') as f:\n",
    "        f.write(longest_domain)"
   ]
  },
  {
   "cell_type": "code",
   "execution_count": 87,
   "metadata": {},
   "outputs": [],
   "source": [
    "    top_data_df = pd.read_csv(TOP_1M_DOMAINS_FILE, names=['rank', 'domain'])\n",
    "    airflow_domlen_rank = top_data_df[top_data_df['domain'] == 'airflow.su']['rank'].values[0]\n",
    "    with open('airflow_domlen_rank.txt', 'w') as f:\n",
    "        f.write('%d' % airflow_domlen_rank)"
   ]
  },
  {
   "cell_type": "code",
   "execution_count": 88,
   "metadata": {},
   "outputs": [
    {
     "name": "stdout",
     "output_type": "stream",
     "text": [
      "Top domain zones for date\n",
      "com,360848\n",
      "org,27274\n",
      "net,26919\n",
      "ru,19162\n",
      "au,11567\n",
      "de,11538\n",
      "ir,9761\n",
      "in,8592\n",
      "uk,8558\n",
      "nl,7951\n",
      "\n",
      "longest domain name for date\n",
      "file-service-default-114c67af0763a8a98e770ff3ee495371.fra1.digitaloceanspaces.com\n",
      "airflow.su domlen rank for date\n",
      "44399,airflow.su\n",
      "\n"
     ]
    }
   ],
   "source": [
    "    with open('top_data_top_10.csv', 'r') as f:\n",
    "        top_10_data = f.read()\n",
    "    with open('longest_domain.txt', 'r') as f:\n",
    "        longest_domain = f.read()\n",
    "    with open('airflow_domlen_rank.csv', 'r') as f:\n",
    "        airflow_domlen_rank = f.read()\n",
    "\n",
    "\n",
    "    print('Top domain zones for date')\n",
    "    print(top_10_data)\n",
    "\n",
    "    print('longest domain name for date')\n",
    "    print(longest_domain)\n",
    "    \n",
    "    print('airflow.su domlen rank for date')\n",
    "    print(airflow_domlen_rank)"
   ]
  },
  {
   "cell_type": "code",
   "execution_count": 20,
   "metadata": {},
   "outputs": [
    {
     "data": {
      "text/html": [
       "<div>\n",
       "<style scoped>\n",
       "    .dataframe tbody tr th:only-of-type {\n",
       "        vertical-align: middle;\n",
       "    }\n",
       "\n",
       "    .dataframe tbody tr th {\n",
       "        vertical-align: top;\n",
       "    }\n",
       "\n",
       "    .dataframe thead th {\n",
       "        text-align: right;\n",
       "    }\n",
       "</style>\n",
       "<table border=\"1\" class=\"dataframe\">\n",
       "  <thead>\n",
       "    <tr style=\"text-align: right;\">\n",
       "      <th></th>\n",
       "      <th>index</th>\n",
       "      <th>rank</th>\n",
       "      <th>domain</th>\n",
       "      <th>dom_len</th>\n",
       "    </tr>\n",
       "  </thead>\n",
       "  <tbody>\n",
       "    <tr>\n",
       "      <th>0</th>\n",
       "      <td>89322</td>\n",
       "      <td>89323</td>\n",
       "      <td>file-service-default-114c67af0763a8a98e770ff3e...</td>\n",
       "      <td>81</td>\n",
       "    </tr>\n",
       "  </tbody>\n",
       "</table>\n",
       "</div>"
      ],
      "text/plain": [
       "   index   rank                                             domain  dom_len\n",
       "0  89322  89323  file-service-default-114c67af0763a8a98e770ff3e...       81"
      ]
     },
     "execution_count": 20,
     "metadata": {},
     "output_type": "execute_result"
    }
   ],
   "source": [
    "top_data_df.sort_values('domain').reset_index()"
   ]
  },
  {
   "cell_type": "code",
   "execution_count": 22,
   "metadata": {},
   "outputs": [
    {
     "data": {
      "text/plain": [
       "0    file-service-default-114c67af0763a8a98e770ff3e...\n",
       "Name: domain, dtype: object"
      ]
     },
     "execution_count": 22,
     "metadata": {},
     "output_type": "execute_result"
    }
   ],
   "source": [
    "longest_domain.domain"
   ]
  },
  {
   "cell_type": "code",
   "execution_count": 34,
   "metadata": {},
   "outputs": [
    {
     "data": {
      "text/plain": [
       "'44399'"
      ]
     },
     "execution_count": 34,
     "metadata": {},
     "output_type": "execute_result"
    }
   ],
   "source": [
    "str(top_data_df[top_data_df['domain'] == 'airflow.su']['rank'].values[0])"
   ]
  },
  {
   "cell_type": "code",
   "execution_count": 39,
   "metadata": {},
   "outputs": [],
   "source": [
    "x = top_data_df[top_data_df['domain'] == 'airflow.su']"
   ]
  },
  {
   "cell_type": "code",
   "execution_count": 48,
   "metadata": {},
   "outputs": [
    {
     "data": {
      "text/plain": [
       "44399"
      ]
     },
     "execution_count": 48,
     "metadata": {},
     "output_type": "execute_result"
    }
   ],
   "source": [
    "x['rank'].values[0]"
   ]
  },
  {
   "cell_type": "code",
   "execution_count": 55,
   "metadata": {},
   "outputs": [
    {
     "ename": "TypeError",
     "evalue": "string indices must be integers",
     "output_type": "error",
     "traceback": [
      "\u001b[0;31m---------------------------------------------------------------------------\u001b[0m",
      "\u001b[0;31mTypeError\u001b[0m                                 Traceback (most recent call last)",
      "\u001b[0;32m<ipython-input-55-9ca192a8018f>\u001b[0m in \u001b[0;36m<module>\u001b[0;34m\u001b[0m\n\u001b[0;32m----> 1\u001b[0;31m \u001b[0mairflow_domlen_rank\u001b[0m\u001b[0;34m[\u001b[0m\u001b[0;34m'rank'\u001b[0m\u001b[0;34m]\u001b[0m\u001b[0;34m\u001b[0m\u001b[0;34m\u001b[0m\u001b[0m\n\u001b[0m",
      "\u001b[0;31mTypeError\u001b[0m: string indices must be integers"
     ]
    }
   ],
   "source": [
    "airflow_domlen_rank['rank']"
   ]
  },
  {
   "cell_type": "code",
   "execution_count": 75,
   "metadata": {},
   "outputs": [
    {
     "data": {
      "text/plain": [
       "'44399'"
      ]
     },
     "execution_count": 75,
     "metadata": {},
     "output_type": "execute_result"
    }
   ],
   "source": [
    "x = str(top_data_df[top_data_df['domain'] == 'airflow.su']['rank'].values[0])\n",
    "    with open('x.txt', 'w') as f:\n",
    "        f.write(x)"
   ]
  },
  {
   "cell_type": "code",
   "execution_count": 92,
   "metadata": {},
   "outputs": [
    {
     "data": {
      "text/plain": [
       "44400"
      ]
     },
     "execution_count": 92,
     "metadata": {},
     "output_type": "execute_result"
    }
   ],
   "source": [
    "top_data_df[top_data_df['domain'] == 'airflow.su']['rank'].values[0]+1"
   ]
  },
  {
   "cell_type": "code",
   "execution_count": null,
   "metadata": {},
   "outputs": [],
   "source": []
  }
 ],
 "metadata": {
  "kernelspec": {
   "display_name": "Python 3",
   "language": "python",
   "name": "python3"
  },
  "language_info": {
   "codemirror_mode": {
    "name": "ipython",
    "version": 3
   },
   "file_extension": ".py",
   "mimetype": "text/x-python",
   "name": "python",
   "nbconvert_exporter": "python",
   "pygments_lexer": "ipython3",
   "version": "3.7.3"
  }
 },
 "nbformat": 4,
 "nbformat_minor": 4
}
