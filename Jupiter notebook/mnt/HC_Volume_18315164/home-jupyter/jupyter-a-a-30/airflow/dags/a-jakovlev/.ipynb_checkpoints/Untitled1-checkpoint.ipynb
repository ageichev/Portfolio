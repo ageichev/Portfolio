{
 "cells": [
  {
   "cell_type": "code",
   "execution_count": 1,
   "metadata": {},
   "outputs": [],
   "source": [
    "import requests\n",
    "from zipfile import ZipFile\n",
    "from io import BytesIO\n",
    "import pandas as pd\n",
    "import numpy as np\n",
    "from datetime import timedelta\n",
    "from datetime import datetime\n",
    "from io import StringIO\n",
    "import telegram\n",
    "\n",
    "from airflow.decorators import dag, task\n",
    "from airflow.operators.python import get_current_context\n",
    "from airflow.models import Variable\n",
    "\n",
    "#data = pd.read_csv('vgsales.csv')\n",
    "#data = data[data['Year'] == 1994]\n",
    "\n",
    "default_args = {\n",
    "    'owner': 'a-jakovlev',\n",
    "    'depends_on_past': False,\n",
    "    'retries': 2,\n",
    "    'retry_delay': timedelta(minutes=5),\n",
    "    'start_date': datetime(2022, 9, 5),\n",
    "    'schedule_interval': '0 12 * * *'\n",
    "}\n",
    "\n",
    "\n",
    "@dag(default_args = default_argsm cathup = False)\n",
    "def a_jakovlev_2():\n",
    "    \n",
    "    @task()\n",
    "    def get_data():\n",
    "        data = pd.read_csv('/var/lib/airflow/airflow.git/dags/a.batalov/vgsales.csv')\n",
    "        return data\n",
    "        \n",
    "    #Какая игра была самой продаваемой в этом году во всем мире?\n",
    "    @task()\n",
    "    def best_seller_game(data):\n",
    "        return data.loc[data['Global_Sales'].idxmax(),\"Name\"]\n",
    "\n",
    "\n",
    "    #Игры какого жанра были самыми продаваемыми в Европе? Перечислить все, если их несколько\n",
    "    @task()\n",
    "    def best_seller_genre_eu(data):\n",
    "        eu_sales_by_genre = data.groupby('Genre', as_index=False).agg({'EU_Sales':'sum'})\n",
    "        return eu_sales_by_genre.loc[eu_sales_by_genre['EU_Sales'].idxmax(), \"Genre\"]\n",
    "\n",
    "\n",
    "    #На какой платформе было больше всего игр, которые продались более чем миллионным тиражом в Северной Америке?\n",
    "    @task()\n",
    "    def best_seller_platforn_na(data):\n",
    "        en_games_by_platform = data.query('NA_Sales >= 1') \\\n",
    "            .groupby('Platform', as_index=False)[\"Name\"].count().rename(columns={'Name':\"count\"})\n",
    "        return en_games_by_platform.loc[en_games_by_platform['count'].idxmax() ,\"Platform\"]\n",
    "\n",
    "\n",
    "    # У какого издателя самые высокие средние продажи в Японии?\n",
    "    @task()\n",
    "    def best_seller_publisher_jp(data):\n",
    "        jp_sales_by_publisher = data.groupby('Publisher', as_index=False).JP_Sales.mean()\n",
    "        return jp_sales_by_publisher.loc[jp_sales_by_publisher['JP_Sales'].idxmax(),\"Publisher\"]\n",
    "\n",
    "\n",
    "    #Сколько игр продались лучше в Европе, чем в Японии\n",
    "    @task()\n",
    "    def better_in_eu_that_in_jp(data)\n",
    "        return data.query(\"EU_Sales > JP_Sales\").Name.count()\n",
    "    \n",
    "    @task()\n",
    "    def print_results(res1, res2, res3, res4, res5):\n",
    "        context = get_current_context()\n",
    "        date = context['ds']\n",
    "        ptint(f'Данные на {date}')\n",
    "        print(f'самой продаваемой в этом году во всем мире: {res1}')\n",
    "        print(f'Жанр игр, которые были самыми продаваемыми в Европе: {res2}')\n",
    "        print(f'Платформа с мамым большим числом игр, которые продались более чем миллионным тиражом в Северной Америке: {res3}')\n",
    "        print(f'Издатель с самыми высокими средними продажами в Японии: {res4}')\n",
    "        print(f'Количество игр, которые продались лучше в Европе, чем в Японии: {res5}')\n",
    "        \n",
    "    \n",
    "    data = get_data()\n",
    "    res1 = best_seller_game(data)\n",
    "    res2 = best_seller_genre_eu(data)\n",
    "    res3 = best_seller_platforn_na(data)\n",
    "    res4 = best_seller_publisher_jp(data)\n",
    "    res5 = better_in_eu_that_in_jp(data)\n",
    "    print_results(res1, res2, res3, res4, res5)\n",
    "\n",
    "a_jakovlev_2 = a_jakovlev_2()"
   ]
  },
  {
   "cell_type": "code",
   "execution_count": 2,
   "metadata": {},
   "outputs": [],
   "source": []
  },
  {
   "cell_type": "code",
   "execution_count": 3,
   "metadata": {},
   "outputs": [
    {
     "data": {
      "text/html": [
       "<div>\n",
       "<style scoped>\n",
       "    .dataframe tbody tr th:only-of-type {\n",
       "        vertical-align: middle;\n",
       "    }\n",
       "\n",
       "    .dataframe tbody tr th {\n",
       "        vertical-align: top;\n",
       "    }\n",
       "\n",
       "    .dataframe thead th {\n",
       "        text-align: right;\n",
       "    }\n",
       "</style>\n",
       "<table border=\"1\" class=\"dataframe\">\n",
       "  <thead>\n",
       "    <tr style=\"text-align: right;\">\n",
       "      <th></th>\n",
       "      <th>Rank</th>\n",
       "      <th>Name</th>\n",
       "      <th>Platform</th>\n",
       "      <th>Year</th>\n",
       "      <th>Genre</th>\n",
       "      <th>Publisher</th>\n",
       "      <th>NA_Sales</th>\n",
       "      <th>EU_Sales</th>\n",
       "      <th>JP_Sales</th>\n",
       "      <th>Other_Sales</th>\n",
       "      <th>Global_Sales</th>\n",
       "    </tr>\n",
       "  </thead>\n",
       "  <tbody>\n",
       "    <tr>\n",
       "      <th>71</th>\n",
       "      <td>72</td>\n",
       "      <td>Donkey Kong Country</td>\n",
       "      <td>SNES</td>\n",
       "      <td>1994.0</td>\n",
       "      <td>Platform</td>\n",
       "      <td>Nintendo</td>\n",
       "      <td>4.36</td>\n",
       "      <td>1.71</td>\n",
       "      <td>3.00</td>\n",
       "      <td>0.23</td>\n",
       "      <td>9.30</td>\n",
       "    </tr>\n",
       "    <tr>\n",
       "      <th>184</th>\n",
       "      <td>185</td>\n",
       "      <td>Super Mario Land 3: Wario Land</td>\n",
       "      <td>GB</td>\n",
       "      <td>1994.0</td>\n",
       "      <td>Platform</td>\n",
       "      <td>Nintendo</td>\n",
       "      <td>2.49</td>\n",
       "      <td>0.98</td>\n",
       "      <td>1.57</td>\n",
       "      <td>0.15</td>\n",
       "      <td>5.19</td>\n",
       "    </tr>\n",
       "    <tr>\n",
       "      <th>305</th>\n",
       "      <td>306</td>\n",
       "      <td>Donkey Kong Land</td>\n",
       "      <td>GB</td>\n",
       "      <td>1994.0</td>\n",
       "      <td>Platform</td>\n",
       "      <td>Nintendo</td>\n",
       "      <td>1.97</td>\n",
       "      <td>0.76</td>\n",
       "      <td>1.07</td>\n",
       "      <td>0.11</td>\n",
       "      <td>3.91</td>\n",
       "    </tr>\n",
       "    <tr>\n",
       "      <th>353</th>\n",
       "      <td>354</td>\n",
       "      <td>Doom II: Hell on Earth</td>\n",
       "      <td>PC</td>\n",
       "      <td>1994.0</td>\n",
       "      <td>Shooter</td>\n",
       "      <td>Virgin Interactive</td>\n",
       "      <td>2.05</td>\n",
       "      <td>1.40</td>\n",
       "      <td>0.00</td>\n",
       "      <td>0.16</td>\n",
       "      <td>3.61</td>\n",
       "    </tr>\n",
       "    <tr>\n",
       "      <th>389</th>\n",
       "      <td>390</td>\n",
       "      <td>Final Fantasy III</td>\n",
       "      <td>SNES</td>\n",
       "      <td>1994.0</td>\n",
       "      <td>Role-Playing</td>\n",
       "      <td>SquareSoft</td>\n",
       "      <td>0.86</td>\n",
       "      <td>0.00</td>\n",
       "      <td>2.55</td>\n",
       "      <td>0.02</td>\n",
       "      <td>3.42</td>\n",
       "    </tr>\n",
       "  </tbody>\n",
       "</table>\n",
       "</div>"
      ],
      "text/plain": [
       "     Rank                            Name Platform    Year         Genre  \\\n",
       "71     72             Donkey Kong Country     SNES  1994.0      Platform   \n",
       "184   185  Super Mario Land 3: Wario Land       GB  1994.0      Platform   \n",
       "305   306                Donkey Kong Land       GB  1994.0      Platform   \n",
       "353   354          Doom II: Hell on Earth       PC  1994.0       Shooter   \n",
       "389   390               Final Fantasy III     SNES  1994.0  Role-Playing   \n",
       "\n",
       "              Publisher  NA_Sales  EU_Sales  JP_Sales  Other_Sales  \\\n",
       "71             Nintendo      4.36      1.71      3.00         0.23   \n",
       "184            Nintendo      2.49      0.98      1.57         0.15   \n",
       "305            Nintendo      1.97      0.76      1.07         0.11   \n",
       "353  Virgin Interactive      2.05      1.40      0.00         0.16   \n",
       "389          SquareSoft      0.86      0.00      2.55         0.02   \n",
       "\n",
       "     Global_Sales  \n",
       "71           9.30  \n",
       "184          5.19  \n",
       "305          3.91  \n",
       "353          3.61  \n",
       "389          3.42  "
      ]
     },
     "execution_count": 3,
     "metadata": {},
     "output_type": "execute_result"
    }
   ],
   "source": [
    "data.head()"
   ]
  },
  {
   "cell_type": "code",
   "execution_count": 4,
   "metadata": {},
   "outputs": [
    {
     "data": {
      "text/plain": [
       "'Donkey Kong Country'"
      ]
     },
     "execution_count": 4,
     "metadata": {},
     "output_type": "execute_result"
    }
   ],
   "source": [
    "#Какая игра была самой продаваемой в этом году во всем мире?\n",
    "data.loc[data['Global_Sales'].idxmax(),\"Name\"]"
   ]
  },
  {
   "cell_type": "code",
   "execution_count": 5,
   "metadata": {},
   "outputs": [
    {
     "data": {
      "text/plain": [
       "'Platform'"
      ]
     },
     "execution_count": 5,
     "metadata": {},
     "output_type": "execute_result"
    }
   ],
   "source": [
    "#Игры какого жанра были самыми продаваемыми в Европе? Перечислить все, если их несколько\n",
    "eu_sales_by_genre = data.groupby('Genre', as_index=False).agg({'EU_Sales':'sum'})\n",
    "eu_sales_by_genre.loc[eu_sales_by_genre['EU_Sales'].idxmax(), \"Genre\"]"
   ]
  },
  {
   "cell_type": "code",
   "execution_count": 6,
   "metadata": {},
   "outputs": [
    {
     "data": {
      "text/plain": [
       "'SNES'"
      ]
     },
     "execution_count": 6,
     "metadata": {},
     "output_type": "execute_result"
    }
   ],
   "source": [
    "#На какой платформе было больше всего игр, которые продались более чем миллионным тиражом в Северной Америке?\n",
    "en_games_by_platform = data.query('NA_Sales >= 1') \\\n",
    "    .groupby('Platform', as_index=False)[\"Name\"].count().rename(columns={'Name':\"count\"})\n",
    "en_games_by_platform.loc[en_games_by_platform['count'].idxmax() ,\"Platform\"]"
   ]
  },
  {
   "cell_type": "code",
   "execution_count": 11,
   "metadata": {},
   "outputs": [
    {
     "data": {
      "text/plain": [
       "'SquareSoft'"
      ]
     },
     "execution_count": 11,
     "metadata": {},
     "output_type": "execute_result"
    }
   ],
   "source": [
    "# У какого издателя самые высокие средние продажи в Японии?\n",
    "jp_sales_by_publisher = data.groupby('Publisher', as_index=False).JP_Sales.mean()\n",
    "jp_sales_by_publisher.loc[jp_sales_by_publisher['JP_Sales'].idxmax(),\"Publisher\"]"
   ]
  },
  {
   "cell_type": "code",
   "execution_count": 14,
   "metadata": {},
   "outputs": [
    {
     "data": {
      "text/plain": [
       "21"
      ]
     },
     "execution_count": 14,
     "metadata": {},
     "output_type": "execute_result"
    }
   ],
   "source": [
    "#Сколько игр продались лучше в Европе, чем в Японии\n",
    "data.query(\"EU_Sales > JP_Sales\").Name.count()"
   ]
  },
  {
   "cell_type": "code",
   "execution_count": null,
   "metadata": {},
   "outputs": [],
   "source": []
  },
  {
   "cell_type": "code",
   "execution_count": null,
   "metadata": {},
   "outputs": [],
   "source": []
  }
 ],
 "metadata": {
  "kernelspec": {
   "display_name": "Python 3",
   "language": "python",
   "name": "python3"
  },
  "language_info": {
   "codemirror_mode": {
    "name": "ipython",
    "version": 3
   },
   "file_extension": ".py",
   "mimetype": "text/x-python",
   "name": "python",
   "nbconvert_exporter": "python",
   "pygments_lexer": "ipython3",
   "version": "3.7.3"
  }
 },
 "nbformat": 4,
 "nbformat_minor": 4
}
