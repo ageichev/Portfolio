{
 "cells": [
  {
   "cell_type": "code",
   "execution_count": 36,
   "metadata": {},
   "outputs": [
    {
     "data": {
      "text/plain": [
       "<Task(PythonOperator): print_data>"
      ]
     },
     "execution_count": 36,
     "metadata": {},
     "output_type": "execute_result"
    }
   ],
   "source": [
    "import requests\n",
    "from zipfile import ZipFile\n",
    "from io import BytesIO\n",
    "\n",
    "from datetime import timedelta\n",
    "from datetime import datetime\n",
    "import pandas as pd\n",
    "\n",
    "from airflow import DAG\n",
    "from airflow.operators.python import PythonOperator # Так как мы пишет такси в питоне\n",
    "\n",
    "TOP_1M_DOMAINS = 'http://s3.amazonaws.com/alexa-static/top-1m.csv.zip'\n",
    "TOP_1M_DOMAINS_FILE = 'top-1m.csv'\n",
    "\n",
    "\n",
    "def get_data():\n",
    "    top_doms = requests.get(TOP_1M_DOMAINS, stream=True)\n",
    "    zipfile = ZipFile(BytesIO(top_doms.content))\n",
    "    top_data = zipfile.read(TOP_1M_DOMAINS_FILE).decode('utf-8')\n",
    "    \n",
    "    with open(TOP_1M_DOMAINS_FILE, 'w') as f:\n",
    "        f.write(top_data)\n",
    "\n",
    "\n",
    "def get_stats():\n",
    "    top_data_df = pd.read_csv(TOP_1M_DOMAINS_FILE, names=['rank', 'domain'])\n",
    "    top_data_top_10  = top_data_df[top_data_df.domain.str.endswith('.ru')][:10]\n",
    "    with open('top_data_top_10.csv', 'w') as f:\n",
    "        f.write(top_data_top_10.to_csv(index=False, header=False))\n",
    "\n",
    "\n",
    "def print_data():\n",
    "    with open('top_data_top_10.csv', 'r') as f:\n",
    "        all_data = f.read()\n",
    "    print('Top domains in .Ru')\n",
    "    print(all_data)\n",
    "    with open('report.txt', 'w') as f:\n",
    "        f.write(f'Top domains in .Ru \\n{datetime.today()}\\n')\n",
    "        f.write(all_data)\n",
    "\n",
    "default_args = {\n",
    "    'owner': 'your_name', # Владелец операции \n",
    "    'depends_on_past': False, # Зависимость от прошлых запусков\n",
    "\n",
    "    'schedule_interval': '0 12 * * *', # cron выражение, также можно использовать '@daily', '@weekly'\n",
    "    #'schedule_interval': '@daily' переменные airflow\n",
    "    #'schedule_interval': timedelta() параметр timedelta\n",
    "\n",
    "    'retries': 2, # Кол-во попыток выполнить DAG\n",
    "    'retry_delay': timedelta(minutes=5), # Промежуток между перезапусками\n",
    "\n",
    "    'email': '', # Почта для уведомлений \n",
    "    'email_on_failure': '', # Почта для уведомлений при ошибке\n",
    "    'email_on_retry': '', # Почта для уведомлений при перезапуске\n",
    "\n",
    "    'retry_exponential_backoff': '', # Для установления экспоненциального времени между перезапусками\n",
    "    'max_retry_delay': '', # Максимальный промежуток времени для перезапуска\n",
    "\n",
    "    'start_date': datetime(2021, 10, 7), # Дата начала выполнения DAG\n",
    "    'end_date': '', # Дата завершения выполнения DAG\n",
    "\n",
    "    'on_failure_callback': '', # Запустить функцию если DAG упал\n",
    "    'on_success_callback': '', # Запустить функцию если DAG выполнился\n",
    "    'on_retry_callback': '', # Запустить функцию если DAG ушел на повторный запуск\n",
    "    'on_execute_callback': '', # Запустить функцию если DAG начал выполняться\n",
    "     # Задать документацию\n",
    "    'doc': '',\n",
    "    'doc_md': '',\n",
    "    'doc_rst': '',\n",
    "    'doc_json': '',\n",
    "    'doc_yaml': ''\n",
    "}\n",
    "\n",
    "dag = DAG('DAG_name', default_args=default_args)\n",
    "\n",
    "t1 = PythonOperator(task_id = 'get_data',\n",
    "            python_callable= get_data, dag = dag)\n",
    "\n",
    "t2 = PythonOperator(task_id = 'get_stats',\n",
    "            python_callable = get_stats, dag = dag)\n",
    "\n",
    "t3 = PythonOperator(task_id = 'print_data',\n",
    "            python_callable = print_data, dag = dag)\n",
    "\n",
    "\n",
    "t1 >> t2 >> t3\n",
    "\n",
    "#t1.set_downstream(t2)\n",
    "#t2.set_downstream(t3)\n"
   ]
  },
  {
   "cell_type": "code",
   "execution_count": 37,
   "metadata": {},
   "outputs": [
    {
     "name": "stdout",
     "output_type": "stream",
     "text": [
      "Top domains in .Ru\n",
      "30,yandex.ru\n",
      "43,dzen.ru\n",
      "46,mail.ru\n",
      "93,ok.ru\n",
      "110,avito.ru\n",
      "167,ya.ru\n",
      "173,google.ru\n",
      "181,gosuslugi.ru\n",
      "196,ozon.ru\n",
      "254,wildberries.ru\n",
      "\n"
     ]
    }
   ],
   "source": [
    "print_data()"
   ]
  },
  {
   "cell_type": "code",
   "execution_count": 25,
   "metadata": {},
   "outputs": [
    {
     "name": "stdout",
     "output_type": "stream",
     "text": [
      "d1 = 2022-09-16 22:51:32.530101\n"
     ]
    }
   ],
   "source": [
    "today = datetime.today()\n",
    "\n",
    "# dd/mm/YY\n",
    "d1 = today\n",
    "print(\"d1 =\", d1)"
   ]
  },
  {
   "cell_type": "code",
   "execution_count": 30,
   "metadata": {},
   "outputs": [],
   "source": [
    "curr_date = datetime.today().strftime('%Y-%m-%d')"
   ]
  },
  {
   "cell_type": "code",
   "execution_count": 31,
   "metadata": {},
   "outputs": [
    {
     "data": {
      "text/plain": [
       "'2022-09-16'"
      ]
     },
     "execution_count": 31,
     "metadata": {},
     "output_type": "execute_result"
    }
   ],
   "source": [
    "curr_date"
   ]
  },
  {
   "cell_type": "code",
   "execution_count": 4,
   "metadata": {},
   "outputs": [],
   "source": [
    "get_data(),\n",
    "get_stats()"
   ]
  },
  {
   "cell_type": "code",
   "execution_count": 10,
   "metadata": {},
   "outputs": [
    {
     "data": {
      "text/html": [
       "<div>\n",
       "<style scoped>\n",
       "    .dataframe tbody tr th:only-of-type {\n",
       "        vertical-align: middle;\n",
       "    }\n",
       "\n",
       "    .dataframe tbody tr th {\n",
       "        vertical-align: top;\n",
       "    }\n",
       "\n",
       "    .dataframe thead th {\n",
       "        text-align: right;\n",
       "    }\n",
       "</style>\n",
       "<table border=\"1\" class=\"dataframe\">\n",
       "  <thead>\n",
       "    <tr style=\"text-align: right;\">\n",
       "      <th></th>\n",
       "      <th>30</th>\n",
       "      <th>yandex.ru</th>\n",
       "    </tr>\n",
       "  </thead>\n",
       "  <tbody>\n",
       "    <tr>\n",
       "      <th>0</th>\n",
       "      <td>43</td>\n",
       "      <td>dzen.ru</td>\n",
       "    </tr>\n",
       "    <tr>\n",
       "      <th>1</th>\n",
       "      <td>46</td>\n",
       "      <td>mail.ru</td>\n",
       "    </tr>\n",
       "    <tr>\n",
       "      <th>2</th>\n",
       "      <td>93</td>\n",
       "      <td>ok.ru</td>\n",
       "    </tr>\n",
       "    <tr>\n",
       "      <th>3</th>\n",
       "      <td>110</td>\n",
       "      <td>avito.ru</td>\n",
       "    </tr>\n",
       "    <tr>\n",
       "      <th>4</th>\n",
       "      <td>167</td>\n",
       "      <td>ya.ru</td>\n",
       "    </tr>\n",
       "    <tr>\n",
       "      <th>5</th>\n",
       "      <td>173</td>\n",
       "      <td>google.ru</td>\n",
       "    </tr>\n",
       "    <tr>\n",
       "      <th>6</th>\n",
       "      <td>181</td>\n",
       "      <td>gosuslugi.ru</td>\n",
       "    </tr>\n",
       "    <tr>\n",
       "      <th>7</th>\n",
       "      <td>196</td>\n",
       "      <td>ozon.ru</td>\n",
       "    </tr>\n",
       "    <tr>\n",
       "      <th>8</th>\n",
       "      <td>254</td>\n",
       "      <td>wildberries.ru</td>\n",
       "    </tr>\n",
       "  </tbody>\n",
       "</table>\n",
       "</div>"
      ],
      "text/plain": [
       "    30       yandex.ru\n",
       "0   43         dzen.ru\n",
       "1   46         mail.ru\n",
       "2   93           ok.ru\n",
       "3  110        avito.ru\n",
       "4  167           ya.ru\n",
       "5  173       google.ru\n",
       "6  181    gosuslugi.ru\n",
       "7  196         ozon.ru\n",
       "8  254  wildberries.ru"
      ]
     },
     "execution_count": 10,
     "metadata": {},
     "output_type": "execute_result"
    }
   ],
   "source": [
    "pd.read_csv('top_data_top_10.csv')"
   ]
  },
  {
   "cell_type": "code",
   "execution_count": 11,
   "metadata": {},
   "outputs": [
    {
     "name": "stdout",
     "output_type": "stream",
     "text": [
      "Top domains in .Ru\n",
      "30,yandex.ru\n",
      "43,dzen.ru\n",
      "46,mail.ru\n",
      "93,ok.ru\n",
      "110,avito.ru\n",
      "167,ya.ru\n",
      "173,google.ru\n",
      "181,gosuslugi.ru\n",
      "196,ozon.ru\n",
      "254,wildberries.ru\n",
      "\n"
     ]
    }
   ],
   "source": [
    "print_data()"
   ]
  },
  {
   "cell_type": "code",
   "execution_count": 12,
   "metadata": {},
   "outputs": [
    {
     "data": {
      "text/plain": [
       "datetime.timedelta(seconds=300)"
      ]
     },
     "execution_count": 12,
     "metadata": {},
     "output_type": "execute_result"
    }
   ],
   "source": [
    "timedelta(minutes=5)"
   ]
  },
  {
   "cell_type": "code",
   "execution_count": 3,
   "metadata": {},
   "outputs": [
    {
     "data": {
      "text/plain": [
       "datetime.datetime(2021, 9, 16, 0, 0)"
      ]
     },
     "execution_count": 3,
     "metadata": {},
     "output_type": "execute_result"
    }
   ],
   "source": [
    "datetime(2021, 9, 16)"
   ]
  },
  {
   "cell_type": "code",
   "execution_count": 7,
   "metadata": {},
   "outputs": [
    {
     "data": {
      "text/plain": [
       "datetime.datetime(2022, 9, 16, 0, 0)"
      ]
     },
     "execution_count": 7,
     "metadata": {},
     "output_type": "execute_result"
    }
   ],
   "source": [
    "datetime(2022, 9, 16)"
   ]
  },
  {
   "cell_type": "code",
   "execution_count": 5,
   "metadata": {},
   "outputs": [
    {
     "name": "stdout",
     "output_type": "stream",
     "text": [
      "/mnt/HC_Volume_18315164/home-jupyter/jupyter-m-pleshakov-24/airflow_rep/airflow/dags/m-pleshakov-24\n"
     ]
    }
   ],
   "source": [
    "import os\n",
    "print(os.getcwd())"
   ]
  },
  {
   "cell_type": "code",
   "execution_count": null,
   "metadata": {},
   "outputs": [],
   "source": [
    "Необходимо выполнить:\n",
    "\n",
    "1) Поменять имена dag на уникальные (лучше всего как-то использовать свой логин).\n",
    "\n",
    "Поставить новую дату начала DAG и новый интервал (все еще должен быть ежедневным)\n",
    "\n",
    "2) Удалить таски get_stat и get_stat_com. Вместо них сделать свои собственные, которые\n",
    "\n",
    "считают следующие:\n",
    "\n",
    "Найти топ-10 доменных зон по численности доменов\n",
    "Найти домен с самым длинным именем (если их несколько, то взять только первый в алфавитном порядке)\n",
    "На каком месте находится домен airflow.com?\n",
    "3) Финальный таск должен писать в лог результат ответы на вопросы выше"
   ]
  },
  {
   "cell_type": "code",
   "execution_count": 317,
   "metadata": {},
   "outputs": [
    {
     "data": {
      "text/plain": [
       "<Task(PythonOperator): final_print>"
      ]
     },
     "execution_count": 317,
     "metadata": {},
     "output_type": "execute_result"
    }
   ],
   "source": [
    "import requests\n",
    "import pandas as pd\n",
    "from datetime import timedelta\n",
    "from datetime import datetime\n",
    "import os.path\n",
    "\n",
    "curr_date = datetime.today().strftime(\"%d-%m-%y %H:%M\")\n",
    "\n",
    "from airflow import DAG\n",
    "from airflow.operators.python import PythonOperator\n",
    "\n",
    "TOP_1M_DOMAINS = 'http://s3.amazonaws.com/alexa-static/top-1m.csv.zip'\n",
    "TOP_1M_DOMAINS_FILE = 'top-1m.csv'\n",
    "\n",
    "\n",
    "def get_data():\n",
    "    # Здесь пока оставили запись в файл, как передавать переменую между тасками будет в третьем уроке\n",
    "    top_doms = pd.read_csv(TOP_1M_DOMAINS)\n",
    "    top_data = top_doms.to_csv(index=False)\n",
    "    with open(TOP_1M_DOMAINS_FILE, 'w') as f:\n",
    "        f.write(top_data)\n",
    "        \n",
    "#Найти топ-10 доменных зон по численности доменов\n",
    "def get_top10():\n",
    "    top_data_df = pd.read_csv(TOP_1M_DOMAINS_FILE, names=['rank', 'domain'])\n",
    "    top_data_df = top_data_df['domain'].str.split('.').apply(lambda x: x[-1]).value_counts()[:10]\n",
    "    top_data_df = pd.DataFrame(top_data_df).reset_index().rename(columns={'domain':'counts','index':'domain'})\n",
    "    return 'Top 10 domains by regions: \\n' + str(top_data_df) + '\\n'\n",
    "\n",
    "#Найти домен с самым длинным именем (если их несколько, то взять только первый в алфавитном порядке)\n",
    "def get_max_length():\n",
    "    top_data_df = pd.read_csv(TOP_1M_DOMAINS_FILE, names=['rank', 'domain'])\n",
    "    max_length = top_data_df.domain.str.len().max()\n",
    "    return 'Largest domain: \\n' + str(list(top_data_df[top_data_df.domain.str.len() == max_length]\n",
    "                                                             .domain.sort_values().values)[0])+'\\n'\n",
    "\n",
    "#На каком месте находится домен airflow.com?\n",
    "def get_airflow_place():\n",
    "    top_data_df = pd.read_csv(TOP_1M_DOMAINS_FILE, names=['rank', 'domain'])\n",
    "    mask =  top_data_df.domain.apply(lambda x : True if re.search('^airflow.com', x , re.IGNORECASE) else False)\n",
    "    top_data_df = top_data_df[mask]\n",
    "    lines = ''\n",
    "    if len(top_data_df) > 0:\n",
    "        lines = str(top_data_df)+'\\n'\n",
    "    else:\n",
    "        lines = 'airflow.com not in top \\n'\n",
    "    return lines\n",
    "    \n",
    "def final_print(ds = 'none'):\n",
    "    curr_date = ds\n",
    "    lines = 'Report '+ curr_date + '\\n'\n",
    "    lines = lines + str(get_top10())+'\\n'\n",
    "    lines = lines + str(get_max_length())+'\\n'\n",
    "    lines = lines + str(get_airflow_place())+'\\n'\n",
    "    \n",
    "    output_hist = ''\n",
    "    if os.path.isfile('log-m-pleshakov.txt'):\n",
    "        with open('log-m-pleshakov.txt', 'r') as f:\n",
    "            output_hist = f.readlines()\n",
    "\n",
    "    with open('log-m-pleshakov.txt', 'w') as f:\n",
    "        for i in range(len(output_hist)):\n",
    "            f.write(str(output_hist[i]))\n",
    "        f.write(str(lines))\n",
    "    print(lines)\n",
    "\n",
    "\n",
    "default_args = {\n",
    "    'owner': 'm.pleshakov',\n",
    "    'depends_on_past': False,\n",
    "    'retries': 2,\n",
    "    'retry_delay': timedelta(minutes=3),\n",
    "    'start_date': datetime(2021, 9, 17),\n",
    "}\n",
    "schedule_interval = '*/30 */1 * * *'\n",
    "\n",
    "dag = DAG('project_less2_m-pleshakov', default_args=default_args, schedule_interval=schedule_interval)\n",
    "\n",
    "t1 = PythonOperator(task_id='get_data',\n",
    "                    python_callable=get_data,\n",
    "                    dag=dag)\n",
    "\n",
    "t2 = PythonOperator(task_id='get_top10',\n",
    "                    python_callable=get_top10,\n",
    "                    dag=dag)\n",
    "\n",
    "t3 = PythonOperator(task_id='get_max_length',\n",
    "                        python_callable=get_max_length,\n",
    "                        dag=dag)\n",
    "\n",
    "t4 = PythonOperator(task_id='get_airflow_place',\n",
    "                        python_callable=get_airflow_place,\n",
    "                        dag=dag)\n",
    "\n",
    "t5 = PythonOperator(task_id='final_print',\n",
    "                    python_callable=final_print,\n",
    "                    dag=dag)\n",
    "\n",
    "t1 >> [t2, t3, t4] >> t5"
   ]
  },
  {
   "cell_type": "code",
   "execution_count": 313,
   "metadata": {},
   "outputs": [],
   "source": [
    "#Найти топ-10 доменных зон по численности доменов\n",
    "def get_top10():\n",
    "    top_data_df = pd.read_csv(TOP_1M_DOMAINS_FILE, names=['rank', 'domain'])\n",
    "    top_data_df = top_data_df['domain'].str.split('.').apply(lambda x: x[-1]).value_counts()[:10]\n",
    "    top_data_df = pd.DataFrame(top_data_df).reset_index().rename(columns={'domain':'counts','index':'domain'})\n",
    "    \n",
    "    return 'Top 10 domains by regions: \\n' + str(top_data_df) + '\\n'"
   ]
  },
  {
   "cell_type": "code",
   "execution_count": 247,
   "metadata": {},
   "outputs": [
    {
     "name": "stdout",
     "output_type": "stream",
     "text": [
      "top 10 domains by regions \n",
      "com    361325\n",
      "org     30508\n",
      "net     25906\n",
      "ru      20065\n",
      "au      11726\n",
      "de      10507\n",
      "uk       9954\n",
      "nl       9455\n",
      "it       8846\n",
      "in       8546\n",
      "Name: domain, dtype: int64\n",
      "\n"
     ]
    }
   ],
   "source": [
    "print(get_top10())"
   ]
  },
  {
   "cell_type": "code",
   "execution_count": 256,
   "metadata": {},
   "outputs": [],
   "source": [
    "#Найти домен с самым длинным именем (если их несколько, то взять только первый в алфавитном порядке)\n",
    "def get_max_length():\n",
    "    top_data_df = pd.read_csv(TOP_1M_DOMAINS_FILE, names=['rank', 'domain'])\n",
    "    max_length = top_data_df.domain.str.len().max()\n",
    "    return 'Largest domain: \\n' + str(list(top_data_df[top_data_df.domain.str.len() == max_length]\n",
    "         .domain.sort_values().values)[0])+'\\n'"
   ]
  },
  {
   "cell_type": "code",
   "execution_count": 249,
   "metadata": {},
   "outputs": [
    {
     "name": "stdout",
     "output_type": "stream",
     "text": [
      "largest domain \n",
      "file-service-default-114c67af0763a8a98e770ff3ee495371.fra1.digitaloceanspaces.com\n",
      "\n"
     ]
    }
   ],
   "source": [
    "print(get_max_length())"
   ]
  },
  {
   "cell_type": "code",
   "execution_count": 258,
   "metadata": {},
   "outputs": [],
   "source": [
    "#На каком месте находится домен airflow.com?\n",
    "def get_airflow_place():\n",
    "    top_data_df = pd.read_csv(TOP_1M_DOMAINS_FILE, names=['rank', 'domain'])\n",
    "    mask =  top_data_df.domain.apply(lambda x : True if re.search('^airflow.com', x , re.IGNORECASE) else False)\n",
    "    top_data_df = top_data_df[mask]\n",
    "    lines = ''\n",
    "    if len(top_data_df) > 0:\n",
    "        lines = str(top_data_df)+'\\n'\n",
    "    else:\n",
    "        lines = 'airflow.com not in top \\n'\n",
    "    return lines\n",
    "    "
   ]
  },
  {
   "cell_type": "code",
   "execution_count": 252,
   "metadata": {},
   "outputs": [
    {
     "name": "stdout",
     "output_type": "stream",
     "text": [
      "airflow.com not in top 17-09-22 20:35\n",
      "\n"
     ]
    }
   ],
   "source": [
    "print(get_airflow_place())"
   ]
  },
  {
   "cell_type": "code",
   "execution_count": 305,
   "metadata": {},
   "outputs": [],
   "source": [
    "def final_print():\n",
    "    curr_date = datetime.today().strftime(\"%d-%m-%y %H:%M\")\n",
    "    lines = 'Report '+ curr_date + '\\n'\n",
    "    lines = lines + str(get_top10())+'\\n'\n",
    "    lines = lines + str(get_max_length())+'\\n'\n",
    "    lines = lines + str(get_airflow_place())+'\\n'\n",
    "    \n",
    "    output_hist = ''\n",
    "    if os.path.isfile('log-m-pleshakov.txt'):\n",
    "        with open('log-m-pleshakov.txt', 'r') as f:\n",
    "            output_hist = f.readlines()\n",
    "            \n",
    "    with open('log-m-pleshakov.txt', 'w') as f:\n",
    "        for i in range(len(output_hist)):\n",
    "            f.write(str(output_hist[i]))\n",
    "        f.write(str(lines))"
   ]
  },
  {
   "cell_type": "code",
   "execution_count": 314,
   "metadata": {},
   "outputs": [
    {
     "name": "stdout",
     "output_type": "stream",
     "text": [
      "Report 00:00\n",
      "Top 10 domains by regions: \n",
      "  domain  counts\n",
      "0    com  361325\n",
      "1    org   30508\n",
      "2    net   25906\n",
      "3     ru   20065\n",
      "4     au   11726\n",
      "5     de   10507\n",
      "6     uk    9954\n",
      "7     nl    9455\n",
      "8     it    8846\n",
      "9     in    8546\n",
      "\n",
      "Largest domain: \n",
      "file-service-default-114c67af0763a8a98e770ff3ee495371.fra1.digitaloceanspaces.com\n",
      "\n",
      "airflow.com not in top \n",
      "\n",
      "\n"
     ]
    }
   ],
   "source": [
    "final_print()"
   ]
  },
  {
   "cell_type": "code",
   "execution_count": 310,
   "metadata": {},
   "outputs": [
    {
     "ename": "NameError",
     "evalue": "name 'curr_time' is not defined",
     "output_type": "error",
     "traceback": [
      "\u001b[0;31m---------------------------------------------------------------------------\u001b[0m",
      "\u001b[0;31mNameError\u001b[0m                                 Traceback (most recent call last)",
      "\u001b[0;32m<ipython-input-310-100096380562>\u001b[0m in \u001b[0;36m<module>\u001b[0;34m\u001b[0m\n\u001b[0;32m----> 1\u001b[0;31m \u001b[0mcurr_time\u001b[0m\u001b[0;34m\u001b[0m\u001b[0;34m\u001b[0m\u001b[0m\n\u001b[0m",
      "\u001b[0;31mNameError\u001b[0m: name 'curr_time' is not defined"
     ]
    }
   ],
   "source": []
  },
  {
   "cell_type": "code",
   "execution_count": null,
   "metadata": {},
   "outputs": [],
   "source": []
  },
  {
   "cell_type": "code",
   "execution_count": null,
   "metadata": {},
   "outputs": [],
   "source": []
  },
  {
   "cell_type": "code",
   "execution_count": null,
   "metadata": {},
   "outputs": [],
   "source": []
  },
  {
   "cell_type": "code",
   "execution_count": 280,
   "metadata": {},
   "outputs": [
    {
     "data": {
      "text/html": [
       "<div>\n",
       "<style scoped>\n",
       "    .dataframe tbody tr th:only-of-type {\n",
       "        vertical-align: middle;\n",
       "    }\n",
       "\n",
       "    .dataframe tbody tr th {\n",
       "        vertical-align: top;\n",
       "    }\n",
       "\n",
       "    .dataframe thead th {\n",
       "        text-align: right;\n",
       "    }\n",
       "</style>\n",
       "<table border=\"1\" class=\"dataframe\">\n",
       "  <thead>\n",
       "    <tr style=\"text-align: right;\">\n",
       "      <th></th>\n",
       "      <th>domain</th>\n",
       "      <th>counts</th>\n",
       "    </tr>\n",
       "  </thead>\n",
       "  <tbody>\n",
       "    <tr>\n",
       "      <th>0</th>\n",
       "      <td>com</td>\n",
       "      <td>361325</td>\n",
       "    </tr>\n",
       "    <tr>\n",
       "      <th>1</th>\n",
       "      <td>org</td>\n",
       "      <td>30508</td>\n",
       "    </tr>\n",
       "    <tr>\n",
       "      <th>2</th>\n",
       "      <td>net</td>\n",
       "      <td>25906</td>\n",
       "    </tr>\n",
       "    <tr>\n",
       "      <th>3</th>\n",
       "      <td>ru</td>\n",
       "      <td>20065</td>\n",
       "    </tr>\n",
       "    <tr>\n",
       "      <th>4</th>\n",
       "      <td>au</td>\n",
       "      <td>11726</td>\n",
       "    </tr>\n",
       "    <tr>\n",
       "      <th>5</th>\n",
       "      <td>de</td>\n",
       "      <td>10507</td>\n",
       "    </tr>\n",
       "    <tr>\n",
       "      <th>6</th>\n",
       "      <td>uk</td>\n",
       "      <td>9954</td>\n",
       "    </tr>\n",
       "    <tr>\n",
       "      <th>7</th>\n",
       "      <td>nl</td>\n",
       "      <td>9455</td>\n",
       "    </tr>\n",
       "    <tr>\n",
       "      <th>8</th>\n",
       "      <td>it</td>\n",
       "      <td>8846</td>\n",
       "    </tr>\n",
       "    <tr>\n",
       "      <th>9</th>\n",
       "      <td>in</td>\n",
       "      <td>8546</td>\n",
       "    </tr>\n",
       "  </tbody>\n",
       "</table>\n",
       "</div>"
      ],
      "text/plain": [
       "  domain  counts\n",
       "0    com  361325\n",
       "1    org   30508\n",
       "2    net   25906\n",
       "3     ru   20065\n",
       "4     au   11726\n",
       "5     de   10507\n",
       "6     uk    9954\n",
       "7     nl    9455\n",
       "8     it    8846\n",
       "9     in    8546"
      ]
     },
     "execution_count": 280,
     "metadata": {},
     "output_type": "execute_result"
    }
   ],
   "source": [
    "# with open('output.txt', 'w') as f:\n",
    "#     f.write(str(top_data_df[:10]))\n",
    "    \n",
    "top_data_df = pd.read_csv(TOP_1M_DOMAINS_FILE, names=['rank', 'domain'])\n",
    "top_data_df = top_data_df['domain'].str.split('.').apply(lambda x: x[-1]).value_counts()[:10]\n",
    "top_data_df = pd.DataFrame(top_data_df).reset_index().rename(columns={'domain':'counts','index':'domain'})\n",
    "    "
   ]
  },
  {
   "cell_type": "code",
   "execution_count": 264,
   "metadata": {},
   "outputs": [],
   "source": [
    "top_data_df = pd.read_csv(TOP_1M_DOMAINS_FILE, names=['rank', 'domain'])"
   ]
  },
  {
   "cell_type": "code",
   "execution_count": null,
   "metadata": {},
   "outputs": [],
   "source": []
  },
  {
   "cell_type": "code",
   "execution_count": null,
   "metadata": {},
   "outputs": [],
   "source": []
  },
  {
   "cell_type": "code",
   "execution_count": null,
   "metadata": {},
   "outputs": [],
   "source": []
  },
  {
   "cell_type": "code",
   "execution_count": null,
   "metadata": {},
   "outputs": [],
   "source": []
  },
  {
   "cell_type": "code",
   "execution_count": 156,
   "metadata": {},
   "outputs": [
    {
     "data": {
      "text/plain": [
       "'17-09-22 20:26'"
      ]
     },
     "execution_count": 156,
     "metadata": {},
     "output_type": "execute_result"
    }
   ],
   "source": [
    "datetime.datetime.today().strftime(\"%d-%m-%y %H:%M\")"
   ]
  },
  {
   "cell_type": "code",
   "execution_count": 130,
   "metadata": {},
   "outputs": [
    {
     "data": {
      "text/plain": [
       "0"
      ]
     },
     "execution_count": 130,
     "metadata": {},
     "output_type": "execute_result"
    }
   ],
   "source": [
    "len(top_data_df)"
   ]
  },
  {
   "cell_type": "code",
   "execution_count": 79,
   "metadata": {},
   "outputs": [
    {
     "data": {
      "text/html": [
       "<div>\n",
       "<style scoped>\n",
       "    .dataframe tbody tr th:only-of-type {\n",
       "        vertical-align: middle;\n",
       "    }\n",
       "\n",
       "    .dataframe tbody tr th {\n",
       "        vertical-align: top;\n",
       "    }\n",
       "\n",
       "    .dataframe thead th {\n",
       "        text-align: right;\n",
       "    }\n",
       "</style>\n",
       "<table border=\"1\" class=\"dataframe\">\n",
       "  <thead>\n",
       "    <tr style=\"text-align: right;\">\n",
       "      <th></th>\n",
       "      <th>rank</th>\n",
       "      <th>domain</th>\n",
       "    </tr>\n",
       "  </thead>\n",
       "  <tbody>\n",
       "    <tr>\n",
       "      <th>0</th>\n",
       "      <td>1</td>\n",
       "      <td>google.com</td>\n",
       "    </tr>\n",
       "  </tbody>\n",
       "</table>\n",
       "</div>"
      ],
      "text/plain": [
       "   rank      domain\n",
       "0     1  google.com"
      ]
     },
     "execution_count": 79,
     "metadata": {},
     "output_type": "execute_result"
    }
   ],
   "source": [
    "top_data_df[top_data_df['domain'].values == 'google.com']"
   ]
  },
  {
   "cell_type": "code",
   "execution_count": 78,
   "metadata": {},
   "outputs": [
    {
     "data": {
      "text/html": [
       "<div>\n",
       "<style scoped>\n",
       "    .dataframe tbody tr th:only-of-type {\n",
       "        vertical-align: middle;\n",
       "    }\n",
       "\n",
       "    .dataframe tbody tr th {\n",
       "        vertical-align: top;\n",
       "    }\n",
       "\n",
       "    .dataframe thead th {\n",
       "        text-align: right;\n",
       "    }\n",
       "</style>\n",
       "<table border=\"1\" class=\"dataframe\">\n",
       "  <thead>\n",
       "    <tr style=\"text-align: right;\">\n",
       "      <th></th>\n",
       "      <th>rank</th>\n",
       "      <th>domain</th>\n",
       "    </tr>\n",
       "  </thead>\n",
       "  <tbody>\n",
       "    <tr>\n",
       "      <th>0</th>\n",
       "      <td>1</td>\n",
       "      <td>google.com</td>\n",
       "    </tr>\n",
       "    <tr>\n",
       "      <th>1</th>\n",
       "      <td>2</td>\n",
       "      <td>youtube.com</td>\n",
       "    </tr>\n",
       "    <tr>\n",
       "      <th>2</th>\n",
       "      <td>3</td>\n",
       "      <td>facebook.com</td>\n",
       "    </tr>\n",
       "    <tr>\n",
       "      <th>3</th>\n",
       "      <td>4</td>\n",
       "      <td>baidu.com</td>\n",
       "    </tr>\n",
       "    <tr>\n",
       "      <th>4</th>\n",
       "      <td>5</td>\n",
       "      <td>bilibili.com</td>\n",
       "    </tr>\n",
       "    <tr>\n",
       "      <th>...</th>\n",
       "      <td>...</td>\n",
       "      <td>...</td>\n",
       "    </tr>\n",
       "    <tr>\n",
       "      <th>705769</th>\n",
       "      <td>705770</td>\n",
       "      <td>zimbabweyp.com</td>\n",
       "    </tr>\n",
       "    <tr>\n",
       "      <th>705770</th>\n",
       "      <td>705771</td>\n",
       "      <td>zimhealthcsos.ngo</td>\n",
       "    </tr>\n",
       "    <tr>\n",
       "      <th>705771</th>\n",
       "      <td>705772</td>\n",
       "      <td>zimjobs.com</td>\n",
       "    </tr>\n",
       "    <tr>\n",
       "      <th>705772</th>\n",
       "      <td>705773</td>\n",
       "      <td>zimnews24.com</td>\n",
       "    </tr>\n",
       "    <tr>\n",
       "      <th>705773</th>\n",
       "      <td>705774</td>\n",
       "      <td>zwnews.com</td>\n",
       "    </tr>\n",
       "  </tbody>\n",
       "</table>\n",
       "<p>705774 rows × 2 columns</p>\n",
       "</div>"
      ],
      "text/plain": [
       "          rank             domain\n",
       "0            1         google.com\n",
       "1            2        youtube.com\n",
       "2            3       facebook.com\n",
       "3            4          baidu.com\n",
       "4            5       bilibili.com\n",
       "...        ...                ...\n",
       "705769  705770     zimbabweyp.com\n",
       "705770  705771  zimhealthcsos.ngo\n",
       "705771  705772        zimjobs.com\n",
       "705772  705773      zimnews24.com\n",
       "705773  705774         zwnews.com\n",
       "\n",
       "[705774 rows x 2 columns]"
      ]
     },
     "execution_count": 78,
     "metadata": {},
     "output_type": "execute_result"
    }
   ],
   "source": [
    "top_data_df"
   ]
  },
  {
   "cell_type": "code",
   "execution_count": 122,
   "metadata": {},
   "outputs": [
    {
     "data": {
      "text/html": [
       "<div>\n",
       "<style scoped>\n",
       "    .dataframe tbody tr th:only-of-type {\n",
       "        vertical-align: middle;\n",
       "    }\n",
       "\n",
       "    .dataframe tbody tr th {\n",
       "        vertical-align: top;\n",
       "    }\n",
       "\n",
       "    .dataframe thead th {\n",
       "        text-align: right;\n",
       "    }\n",
       "</style>\n",
       "<table border=\"1\" class=\"dataframe\">\n",
       "  <thead>\n",
       "    <tr style=\"text-align: right;\">\n",
       "      <th></th>\n",
       "      <th>rank</th>\n",
       "      <th>domain</th>\n",
       "      <th>domain_name</th>\n",
       "    </tr>\n",
       "  </thead>\n",
       "  <tbody>\n",
       "  </tbody>\n",
       "</table>\n",
       "</div>"
      ],
      "text/plain": [
       "Empty DataFrame\n",
       "Columns: [rank, domain, domain_name]\n",
       "Index: []"
      ]
     },
     "execution_count": 122,
     "metadata": {},
     "output_type": "execute_result"
    }
   ],
   "source": [
    "mask =  top_data_df.domain.apply(lambda x : True if re.search('^airflow.com', x , re.IGNORECASE) else False)\n",
    "top_data_df[mask]"
   ]
  },
  {
   "cell_type": "code",
   "execution_count": 108,
   "metadata": {},
   "outputs": [
    {
     "data": {
      "text/plain": [
       "0    False\n",
       "dtype: bool"
      ]
     },
     "execution_count": 108,
     "metadata": {},
     "output_type": "execute_result"
    }
   ],
   "source": [
    "pd.Series('airflow.com').isin(top_data_df.domain.values)"
   ]
  },
  {
   "cell_type": "code",
   "execution_count": 102,
   "metadata": {},
   "outputs": [
    {
     "data": {
      "text/plain": [
       "array(['google.com', 'youtube.com', 'facebook.com', ..., 'zimjobs.com',\n",
       "       'zimnews24.com', 'zwnews.com'], dtype=object)"
      ]
     },
     "execution_count": 102,
     "metadata": {},
     "output_type": "execute_result"
    }
   ],
   "source": [
    "top_data_df.domain.values"
   ]
  },
  {
   "cell_type": "code",
   "execution_count": 109,
   "metadata": {},
   "outputs": [],
   "source": [
    "top_data_df = pd.read_csv(TOP_1M_DOMAINS_FILE, names=['rank', 'domain'])\n",
    "top_data_df['domain_name'] = top_data_df['domain'].str.split('.').str[-2]\n",
    "airflow=top_data_df.query('domain_name==\"airflow\"')\n"
   ]
  },
  {
   "cell_type": "code",
   "execution_count": 116,
   "metadata": {},
   "outputs": [
    {
     "data": {
      "text/html": [
       "<div>\n",
       "<style scoped>\n",
       "    .dataframe tbody tr th:only-of-type {\n",
       "        vertical-align: middle;\n",
       "    }\n",
       "\n",
       "    .dataframe tbody tr th {\n",
       "        vertical-align: top;\n",
       "    }\n",
       "\n",
       "    .dataframe thead th {\n",
       "        text-align: right;\n",
       "    }\n",
       "</style>\n",
       "<table border=\"1\" class=\"dataframe\">\n",
       "  <thead>\n",
       "    <tr style=\"text-align: right;\">\n",
       "      <th></th>\n",
       "      <th>rank</th>\n",
       "      <th>domain</th>\n",
       "      <th>domain_name</th>\n",
       "    </tr>\n",
       "  </thead>\n",
       "  <tbody>\n",
       "  </tbody>\n",
       "</table>\n",
       "</div>"
      ],
      "text/plain": [
       "Empty DataFrame\n",
       "Columns: [rank, domain, domain_name]\n",
       "Index: []"
      ]
     },
     "execution_count": 116,
     "metadata": {},
     "output_type": "execute_result"
    }
   ],
   "source": [
    "top_data_df[top_data_df.domain_name==\"airflow\"]"
   ]
  },
  {
   "cell_type": "code",
   "execution_count": null,
   "metadata": {},
   "outputs": [],
   "source": []
  }
 ],
 "metadata": {
  "kernelspec": {
   "display_name": "Python 3",
   "language": "python",
   "name": "python3"
  },
  "language_info": {
   "codemirror_mode": {
    "name": "ipython",
    "version": 3
   },
   "file_extension": ".py",
   "mimetype": "text/x-python",
   "name": "python",
   "nbconvert_exporter": "python",
   "pygments_lexer": "ipython3",
   "version": "3.7.3"
  }
 },
 "nbformat": 4,
 "nbformat_minor": 4
}
