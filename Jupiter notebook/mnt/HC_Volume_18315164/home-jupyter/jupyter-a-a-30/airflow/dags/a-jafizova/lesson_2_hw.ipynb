{
 "cells": [
  {
   "cell_type": "code",
   "execution_count": 2,
   "metadata": {},
   "outputs": [],
   "source": [
    "import requests\n",
    "from zipfile import ZipFile\n",
    "from io import BytesIO\n",
    "import pandas as pd\n",
    "from datetime import timedelta\n",
    "from datetime import datetime\n",
    "\n",
    "from airflow import DAG\n",
    "from airflow.operators.python import PythonOperator\n"
   ]
  },
  {
   "cell_type": "code",
   "execution_count": 3,
   "metadata": {},
   "outputs": [],
   "source": [
    "TOP_1M_DOMAINS = 'http://s3.amazonaws.com/alexa-static/top-1m.csv.zip'\n",
    "TOP_1M_DOMAINS_FILE = 'top-1m.csv'"
   ]
  },
  {
   "cell_type": "code",
   "execution_count": 4,
   "metadata": {},
   "outputs": [],
   "source": [
    "def get_data():\n",
    "    top_doms = requests.get(TOP_1M_DOMAINS, stream=True)\n",
    "    zipfile = ZipFile(BytesIO(top_doms.content))\n",
    "    top_data = zipfile.read(TOP_1M_DOMAINS_FILE).decode('utf-8')\n",
    "\n",
    "    with open(TOP_1M_DOMAINS_FILE, 'w') as f:\n",
    "        f.write(top_data)\n",
    "\n",
    "\n",
    "def get_area():\n",
    "    top_data_df = pd.read_csv(TOP_1M_DOMAINS_FILE, names=['rank', 'domain'])\n",
    "    top_data_df['domain_aria'] = top_data_df['domain'].str.split('.').str[-1]\n",
    "    top_data_10 = top_data_df.groupby('domain_aria', as_index = False).agg({'domain':'count'})\\\n",
    "    .sort_values('domain', ascending = False)\n",
    "    top_data_10 = top_data_10.head(10)\n",
    "    \n",
    "    with open('top_data_10.csv', 'w') as f:\n",
    "        f.write(top_data_10.to_csv(index=False, header=False))\n",
    "\n",
    "\n",
    "def get_max_str():\n",
    "    top_data_df = pd.read_csv(TOP_1M_DOMAINS_FILE, names=['rank', 'domain'])\n",
    "    top_data_df['max_str'] = top_data_df.domain.apply(len)\n",
    "    max_domain = top_data_df[['domain', 'max_str']].sort_values('max_str', ascending = False).head(1)\n",
    "   \n",
    "    with open('max_domain.csv', 'w') as f:\n",
    "        f.write(max_domain.to_csv(index=False, header=False))\n",
    "        \n",
    "\n",
    "def airflow():\n",
    "    top_data_df = pd.read_csv(TOP_1M_DOMAINS_FILE, names=['rank', 'domain']) \n",
    "    airflow = top_data_df[top_data_df['domain'] == 'airflow.com']['rank']\n",
    "    \n",
    "    with open('airflow.csv', 'w') as f:\n",
    "        f.write(airflow)\n",
    "        \n",
    "    \n",
    "\n",
    "def print_data(ds): # передаем глобальную переменную airflow\n",
    "    with open('top_data_10.csv', 'r') as f:\n",
    "        top_data_10 = f.read()\n",
    "    with open('max_domain.csv', 'r') as f:\n",
    "        max_domain = f.read()\n",
    "    with open('airflow.csv', 'r') as f:\n",
    "        airflow = f.read()\n",
    "    date = ds\n",
    "\n",
    "    print(f'Top 10 domains zones for {date}')\n",
    "    print(top_data_10)\n",
    "\n",
    "    print(f'Longest domains for date {date}')\n",
    "    print(max_domain)\n",
    "    \n",
    "    print(f'Airflow place for {date}')\n",
    "    print(airflow)"
   ]
  },
  {
   "cell_type": "code",
   "execution_count": 5,
   "metadata": {},
   "outputs": [],
   "source": [
    "default_args = {\n",
    "    'owner': 'a-jafizova',\n",
    "    'depends_on_past': False,\n",
    "    'retries': 2,\n",
    "    'retry_delay': timedelta(minutes=5),\n",
    "    'start_date': datetime(2022, 11, 21),\n",
    "    'schedule_interval': '0 17 * * *'\n",
    "}\n",
    "dag = DAG('domains_Aigul', default_args=default_args)"
   ]
  },
  {
   "cell_type": "code",
   "execution_count": 6,
   "metadata": {},
   "outputs": [],
   "source": [
    "t1 = PythonOperator(task_id='get_data',\n",
    "                    python_callable=get_data,\n",
    "                    dag=dag)\n",
    "\n",
    "t2 = PythonOperator(task_id='get_area',\n",
    "                    python_callable=get_area,\n",
    "                    dag=dag)\n",
    "\n",
    "t3 = PythonOperator(task_id='get_max_str',\n",
    "                        python_callable=get_max_str,\n",
    "                        dag=dag)\n",
    "\n",
    "t4 = PythonOperator(task_id='airflow',\n",
    "                        python_callable=airflow,\n",
    "                        dag=dag)\n",
    "\n",
    "t5 = PythonOperator(task_id='print_data',\n",
    "                    python_callable=print_data,\n",
    "                    dag=dag)\n"
   ]
  },
  {
   "cell_type": "code",
   "execution_count": 7,
   "metadata": {
    "scrolled": true
   },
   "outputs": [
    {
     "data": {
      "text/plain": [
       "<Task(PythonOperator): print_data>"
      ]
     },
     "execution_count": 7,
     "metadata": {},
     "output_type": "execute_result"
    }
   ],
   "source": [
    "t1 >> [t2, t3, t4] >> t5"
   ]
  }
 ],
 "metadata": {
  "kernelspec": {
   "display_name": "Python 3",
   "language": "python",
   "name": "python3"
  },
  "language_info": {
   "codemirror_mode": {
    "name": "ipython",
    "version": 3
   },
   "file_extension": ".py",
   "mimetype": "text/x-python",
   "name": "python",
   "nbconvert_exporter": "python",
   "pygments_lexer": "ipython3",
   "version": "3.7.3"
  }
 },
 "nbformat": 4,
 "nbformat_minor": 4
}
