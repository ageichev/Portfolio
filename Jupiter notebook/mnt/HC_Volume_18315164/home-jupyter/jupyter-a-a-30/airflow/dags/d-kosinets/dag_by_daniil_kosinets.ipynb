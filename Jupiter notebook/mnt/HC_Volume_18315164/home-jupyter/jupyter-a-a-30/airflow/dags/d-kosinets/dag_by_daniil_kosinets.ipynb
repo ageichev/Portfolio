{
 "cells": [
  {
   "cell_type": "code",
   "execution_count": 1,
   "metadata": {},
   "outputs": [],
   "source": [
    "import requests\n",
    "import pandas as pd\n",
    "from datetime import timedelta\n",
    "from datetime import datetime\n",
    "\n",
    "from airflow import DAG\n",
    "from airflow.operators.python import PythonOperator"
   ]
  },
  {
   "cell_type": "code",
   "execution_count": 2,
   "metadata": {},
   "outputs": [],
   "source": [
    "TOP_1M_DOMAINS = 'http://s3.amazonaws.com/alexa-static/top-1m.csv.zip'"
   ]
  },
  {
   "cell_type": "code",
   "execution_count": 3,
   "metadata": {},
   "outputs": [],
   "source": [
    "TOP_1M_DOMAINS_FILE = 'top-1m.csv'"
   ]
  },
  {
   "cell_type": "code",
   "execution_count": 6,
   "metadata": {},
   "outputs": [],
   "source": [
    "def get_data():\n",
    "    # Здесь пока оставили запись в файл, как передавать переменую между тасками будет в третьем уроке\n",
    "    top_doms = pd.read_csv(TOP_1M_DOMAINS)\n",
    "    top_data = top_doms.to_csv(index=False)\n",
    "\n",
    "    with open(TOP_1M_DOMAINS_FILE, 'w') as f:\n",
    "        f.write(top_data)"
   ]
  },
  {
   "cell_type": "code",
   "execution_count": 10,
   "metadata": {},
   "outputs": [],
   "source": [
    "def get_stat_domain_size():\n",
    "    top_data_df = pd.read_csv(TOP_1M_DOMAINS_FILE, names=['rank', 'domain'])\n",
    "    top_10_domain_size = top_data_df['domain'].apply(lambda x: x.split('.')[-1]).value_counts().head(10)\n",
    "    with open('top_10_domain_size.csv', 'w') as f:\n",
    "        f.write(top_10_domain_size.to_csv(index=False, header=False))"
   ]
  },
  {
   "cell_type": "code",
   "execution_count": 12,
   "metadata": {},
   "outputs": [],
   "source": [
    "def get_stat_max_domain_name():\n",
    "    top_data_df = pd.read_csv(TOP_1M_DOMAINS_FILE, names=['rank', 'domain'])\n",
    "    max_domain_name = max(top_data_df['domain'], key=lambda i: len(i))\n",
    "    with open('max_domain_name.csv', 'w') as f:\n",
    "        f.write(max_domain_name.to_csv(index=False, header=False))"
   ]
  },
  {
   "cell_type": "code",
   "execution_count": 14,
   "metadata": {},
   "outputs": [],
   "source": [
    "def get_stat_airflow_rank():\n",
    "    top_data_df = pd.read_csv(TOP_1M_DOMAINS_FILE, names=['rank', 'domain'])\n",
    "    airflow_rank = df.query('domain == \"airflow.com\"')\n",
    "    with open('airflow_rank.csv', 'w') as f:\n",
    "        f.write(airflow_rank.to_csv(index=False, header=False))"
   ]
  },
  {
   "cell_type": "code",
   "execution_count": 16,
   "metadata": {},
   "outputs": [],
   "source": [
    "def print_data(ds):\n",
    "    with open('top_10_domain_size.csv', 'r') as f:\n",
    "        top_10_domain_size = f.read()    \n",
    "    with open('max_domain_name.csv', 'r') as f:\n",
    "        max_domain_name = f.read()\n",
    "    with open('airflow_rank.csv', 'r') as f:\n",
    "        airflow_rank = f.read()\n",
    "    date = ds\n",
    "    \n",
    "    print(f'Top 10 domain_zone for date {date}')\n",
    "    print(top_10_domain_size)\n",
    "    \n",
    "    print(f'the domain with the longest name for date {date}')\n",
    "    print(max_domain_name)\n",
    "\n",
    "    print(f'Rank of airflow.com domain for date {date}')\n",
    "    print(airflow_rank)\n"
   ]
  },
  {
   "cell_type": "code",
   "execution_count": 21,
   "metadata": {},
   "outputs": [],
   "source": [
    "default_args = {\n",
    "    'owner': 'd-kosinets',\n",
    "    'depends_on_past': False,\n",
    "    'retries': 2,\n",
    "    'retry_delay': timedelta(minutes=5),\n",
    "    'start_date': datetime(2023, 3, 2),\n",
    "}\n",
    "schedule_interval = '0 13 * * *'"
   ]
  },
  {
   "cell_type": "code",
   "execution_count": 22,
   "metadata": {},
   "outputs": [],
   "source": [
    "dag = DAG('d-kosinets_lesson_2', default_args=default_args, schedule_interval=schedule_interval)"
   ]
  },
  {
   "cell_type": "code",
   "execution_count": 23,
   "metadata": {},
   "outputs": [
    {
     "data": {
      "text/plain": [
       "<Task(PythonOperator): print_data>"
      ]
     },
     "execution_count": 23,
     "metadata": {},
     "output_type": "execute_result"
    }
   ],
   "source": [
    "t1 = PythonOperator(task_id='get_data',\n",
    "                    python_callable=get_data,\n",
    "                    dag=dag)\n",
    "\n",
    "t2_domain_size = PythonOperator(task_id='get_stat_domain_size',\n",
    "                    python_callable=get_stat_domain_size,\n",
    "                    dag=dag)\n",
    "\n",
    "t2_max_domain_name = PythonOperator(task_id='get_stat_max_domain_name',\n",
    "                        python_callable=get_stat_max_domain_name,\n",
    "                        dag=dag)\n",
    "\n",
    "t2_airflow_rank = PythonOperator(task_id='get_stat_airflow_rank',\n",
    "                        python_callable=get_stat_airflow_rank,\n",
    "                        dag=dag)\n",
    "\n",
    "\n",
    "t3 = PythonOperator(task_id='print_data',\n",
    "                    python_callable=print_data,\n",
    "                    dag=dag)\n",
    "\n",
    "t1 >> [t2_domain_size, t2_max_domain_name, t2_airflow_rank] >> t3"
   ]
  },
  {
   "cell_type": "code",
   "execution_count": null,
   "metadata": {},
   "outputs": [],
   "source": []
  }
 ],
 "metadata": {
  "kernelspec": {
   "display_name": "Python 3",
   "language": "python",
   "name": "python3"
  },
  "language_info": {
   "codemirror_mode": {
    "name": "ipython",
    "version": 3
   },
   "file_extension": ".py",
   "mimetype": "text/x-python",
   "name": "python",
   "nbconvert_exporter": "python",
   "pygments_lexer": "ipython3",
   "version": "3.7.3"
  }
 },
 "nbformat": 4,
 "nbformat_minor": 4
}
