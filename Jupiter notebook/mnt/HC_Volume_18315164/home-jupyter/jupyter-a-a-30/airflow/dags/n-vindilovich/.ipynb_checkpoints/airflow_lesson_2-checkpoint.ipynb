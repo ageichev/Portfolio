{
 "cells": [
  {
   "cell_type": "code",
   "execution_count": 10,
   "metadata": {},
   "outputs": [],
   "source": [
    "import requests\n",
    "import pandas as pd\n",
    "from datetime import timedelta\n",
    "from datetime import datetime\n",
    "\n",
    "from airflow import DAG\n",
    "from airflow.operators.python import PythonOperator"
   ]
  },
  {
   "cell_type": "code",
   "execution_count": 11,
   "metadata": {},
   "outputs": [],
   "source": [
    "TOP_1M_DOMAINS = 'http://s3.amazonaws.com/alexa-static/top-1m.csv.zip'\n",
    "TOP_1M_DOMAINS_FILE = 'top-1m.csv'"
   ]
  },
  {
   "cell_type": "code",
   "execution_count": 12,
   "metadata": {},
   "outputs": [],
   "source": [
    "def get_data():\n",
    "    # Здесь пока оставили запись в файл, как передавать переменую между тасками будет в третьем уроке\n",
    "    top_doms = pd.read_csv(TOP_1M_DOMAINS)\n",
    "    top_data = top_doms.to_csv(index=False)\n",
    "\n",
    "    with open(TOP_1M_DOMAINS_FILE, 'w') as f:\n",
    "        f.write(top_data)\n",
    "\n",
    "\n",
    "def get_top_domain():\n",
    "    top_domain_df = pd.read_csv(TOP_1M_DOMAINS_FILE, names=['rank', 'domain'])\n",
    "    top_domain_df['tail'] = top_domain_df['domain'].str.split('.').str[-1]\n",
    "    top_domain_top_10 = top_domain_df.groupby('tail', as_index = False) \\\n",
    "                    .count().sort_values('domain', ascending = False).head(10)['tail'].to_frame()\n",
    "    with open('top_domain_top_10.csv', 'w') as f:\n",
    "        f.write(top_domain_top_10.to_csv(index=False, header=False))\n",
    "\n",
    "\n",
    "def get_longest_domain():\n",
    "    top_domain_df = pd.read_csv(TOP_1M_DOMAINS_FILE, names=['rank', 'domain'])\n",
    "    top_domain_df['length'] = top_domain_df['domain'].str.len()\n",
    "    df_longest_domain = top_domain_df.sort_values(['length', 'domain'], ascending = [False, True])['domain'].head(1).to_frame()\n",
    "    with open('df_longest_domain.csv', 'w') as f:\n",
    "        f.write(df_longest_domain.to_csv(index=False, header=False))\n",
    "        \n",
    "def airflow_place():\n",
    "    top_domain_df = pd.read_csv(TOP_1M_DOMAINS_FILE, names=['rank', 'domain'])\n",
    "    air_place = top_domain_df[top_domain_df['domain']=='airflow.com']\n",
    "    with open('air_place.csv', 'w') as f:\n",
    "        f.write(air_place.to_csv(index=False, header=False))\n",
    "\n",
    "\n",
    "def print_data(ds):\n",
    "    with open('top_domain_top_10.csv', 'r') as f:\n",
    "        all_data_top = f.read()\n",
    "    with open('df_longest_domain.csv', 'r') as f:\n",
    "        all_data_long = f.read()\n",
    "    with open('air_place.csv', 'r') as f:\n",
    "        all_data_air = f.read()\n",
    "    date = ds\n",
    "\n",
    "    print(f'Top 10 domains for date {date}')\n",
    "    print(all_data_top)\n",
    "\n",
    "    print(f'The longest domain for date {date}')\n",
    "    print(all_data_long)\n",
    "    \n",
    "    print(f'Position of \"airflow.com\" for date {date}')\n",
    "    print(all_data_air)"
   ]
  },
  {
   "cell_type": "code",
   "execution_count": 14,
   "metadata": {},
   "outputs": [
    {
     "data": {
      "text/plain": [
       "<Task(PythonOperator): print_data>"
      ]
     },
     "execution_count": 14,
     "metadata": {},
     "output_type": "execute_result"
    }
   ],
   "source": [
    "default_args = {\n",
    "    'owner': 'n-vindilovich',\n",
    "    'depends_on_past': False,\n",
    "    'retries': 2,\n",
    "    'retry_delay': timedelta(minutes=5),\n",
    "    'start_date': datetime(2022, 9, 17),\n",
    "}\n",
    "schedule_interval = '0 11 * * *'\n",
    "\n",
    "dag = DAG('nvindilovich_dag', default_args=default_args, schedule_interval=schedule_interval)\n",
    "\n",
    "t1 = PythonOperator(task_id='get_data',\n",
    "                    python_callable=get_data,\n",
    "                    dag=dag)\n",
    "\n",
    "t2_top = PythonOperator(task_id='get_top_domain',\n",
    "                    python_callable=get_top_domain,\n",
    "                    dag=dag)\n",
    "\n",
    "t2_long = PythonOperator(task_id='get_longest_domain',\n",
    "                        python_callable=get_longest_domain,\n",
    "                        dag=dag)\n",
    "\n",
    "t2_air = PythonOperator(task_id='airflow_place',\n",
    "                        python_callable=airflow_place,\n",
    "                        dag=dag)\n",
    "\n",
    "t3 = PythonOperator(task_id='print_data',\n",
    "                    python_callable=print_data,\n",
    "                    dag=dag)\n",
    "\n",
    "t1 >> [t2_top, t2_long, t2_air] >> t3"
   ]
  },
  {
   "cell_type": "code",
   "execution_count": null,
   "metadata": {},
   "outputs": [],
   "source": []
  }
 ],
 "metadata": {
  "kernelspec": {
   "display_name": "Python 3",
   "language": "python",
   "name": "python3"
  },
  "language_info": {
   "codemirror_mode": {
    "name": "ipython",
    "version": 3
   },
   "file_extension": ".py",
   "mimetype": "text/x-python",
   "name": "python",
   "nbconvert_exporter": "python",
   "pygments_lexer": "ipython3",
   "version": "3.7.3"
  }
 },
 "nbformat": 4,
 "nbformat_minor": 4
}
