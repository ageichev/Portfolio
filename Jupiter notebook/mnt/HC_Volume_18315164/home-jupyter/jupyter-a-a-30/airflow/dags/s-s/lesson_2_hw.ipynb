{
 "cells": [
  {
   "cell_type": "code",
   "execution_count": 88,
   "id": "26041a5e",
   "metadata": {},
   "outputs": [],
   "source": [
    "import pandas as pd\n",
    "from datetime import timedelta\n",
    "from datetime import datetime"
   ]
  },
  {
   "cell_type": "code",
   "execution_count": 89,
   "id": "b9f88136",
   "metadata": {},
   "outputs": [],
   "source": [
    "TOP_1M_DOMAINS = 'http://s3.amazonaws.com/alexa-static/top-1m.csv.zip'\n",
    "TOP_1M_DOMAINS_FILE = 'top-1m.csv'"
   ]
  },
  {
   "cell_type": "code",
   "execution_count": 90,
   "id": "550b61f1",
   "metadata": {},
   "outputs": [],
   "source": [
    "def get_data():\n",
    "    # Здесь пока оставили запись в файл, как передавать переменую между тасками будет в третьем уроке\n",
    "    top_doms = pd.read_csv(TOP_1M_DOMAINS)\n",
    "    top_data = top_doms.to_csv(index=False)\n",
    "\n",
    "    with open(TOP_1M_DOMAINS_FILE, 'w') as f:\n",
    "        f.write(top_data)"
   ]
  },
  {
   "cell_type": "code",
   "execution_count": 91,
   "id": "f9b7b467",
   "metadata": {},
   "outputs": [],
   "source": [
    "get_data()"
   ]
  },
  {
   "cell_type": "code",
   "execution_count": 118,
   "id": "77a1e967",
   "metadata": {},
   "outputs": [],
   "source": [
    "def get_top_10_domain_zone():\n",
    "    top_data_df = pd.read_csv(TOP_1M_DOMAINS_FILE, names=['rank', 'domain'])\n",
    "    top_data_df['domen_zone'] = top_data_df.domain.apply(lambda x: x.split('.')[1])\n",
    "    top_10_domain_zone = pd.DataFrame(top_data_df.domen_zone \\\n",
    "                                      .value_counts() \\\n",
    "                                      .head(10)).reset_index()\n",
    "    \n",
    "    with open('top_10_domain_zone.csv', 'w') as f:\n",
    "        f.write(top_10_domain_zone.to_csv(index=False, header=False))"
   ]
  },
  {
   "cell_type": "code",
   "execution_count": null,
   "id": "d87e9471",
   "metadata": {},
   "outputs": [],
   "source": []
  },
  {
   "cell_type": "code",
   "execution_count": 119,
   "id": "6ff8edd2",
   "metadata": {},
   "outputs": [],
   "source": [
    "get_top_10_domain_zone()"
   ]
  },
  {
   "cell_type": "code",
   "execution_count": null,
   "id": "8afd30fa",
   "metadata": {},
   "outputs": [],
   "source": []
  },
  {
   "cell_type": "code",
   "execution_count": null,
   "id": "9e127bee",
   "metadata": {},
   "outputs": [],
   "source": []
  },
  {
   "cell_type": "code",
   "execution_count": 122,
   "id": "f1881f65",
   "metadata": {},
   "outputs": [],
   "source": [
    "def get_top_name_length():\n",
    "    top_doms = pd.read_csv(TOP_1M_DOMAINS_FILE, names=['rank', 'domain'])\n",
    "    top_doms['name_length'] = top_doms.domain.apply(lambda x: len(x))\n",
    "    max_length_domain = top_doms.sort_values('name_length', ascending=False).head(1)\n",
    "    \n",
    "    with open('max_length_domain.csv', 'w') as f:\n",
    "        f.write(max_length_domain.to_csv(index=False, header=False))"
   ]
  },
  {
   "cell_type": "code",
   "execution_count": 123,
   "id": "bce1cd4c",
   "metadata": {},
   "outputs": [],
   "source": [
    "get_top_name_length()"
   ]
  },
  {
   "cell_type": "code",
   "execution_count": null,
   "id": "c4d7ef32",
   "metadata": {},
   "outputs": [],
   "source": []
  },
  {
   "cell_type": "code",
   "execution_count": 144,
   "id": "c3d3f14f",
   "metadata": {},
   "outputs": [],
   "source": [
    "def get_airflow_rank():\n",
    "    top_data_df = pd.read_csv(TOP_1M_DOMAINS_FILE, names=['rank', 'domain'])\n",
    "    airflow_rank = top_data_df.query('domain == \"airflow.com\"')\n",
    "    \n",
    "    with open('airflow_rank.csv', 'w') as f:\n",
    "        f.write(airflow_rank.to_csv(index=False, header=False))"
   ]
  },
  {
   "cell_type": "code",
   "execution_count": 145,
   "id": "5b040475",
   "metadata": {},
   "outputs": [],
   "source": [
    "get_airflow_rank()"
   ]
  },
  {
   "cell_type": "code",
   "execution_count": 124,
   "id": "b37d62b2",
   "metadata": {},
   "outputs": [],
   "source": [
    "top_data_df = pd.read_csv(TOP_1M_DOMAINS_FILE, names=['rank', 'domain'])"
   ]
  },
  {
   "cell_type": "code",
   "execution_count": 136,
   "id": "bf0adf4d",
   "metadata": {},
   "outputs": [
    {
     "data": {
      "text/plain": [
       "590603"
      ]
     },
     "execution_count": 136,
     "metadata": {},
     "output_type": "execute_result"
    }
   ],
   "source": [
    "top_data_df.query('domain == \"airflow.com\"').iloc[0,0]"
   ]
  },
  {
   "cell_type": "code",
   "execution_count": null,
   "id": "4dfc7a7f",
   "metadata": {},
   "outputs": [],
   "source": []
  },
  {
   "cell_type": "code",
   "execution_count": 141,
   "id": "49a61a28",
   "metadata": {},
   "outputs": [
    {
     "data": {
      "text/html": [
       "<div>\n",
       "<style scoped>\n",
       "    .dataframe tbody tr th:only-of-type {\n",
       "        vertical-align: middle;\n",
       "    }\n",
       "\n",
       "    .dataframe tbody tr th {\n",
       "        vertical-align: top;\n",
       "    }\n",
       "\n",
       "    .dataframe thead th {\n",
       "        text-align: right;\n",
       "    }\n",
       "</style>\n",
       "<table border=\"1\" class=\"dataframe\">\n",
       "  <thead>\n",
       "    <tr style=\"text-align: right;\">\n",
       "      <th></th>\n",
       "      <th>rank</th>\n",
       "      <th>domain</th>\n",
       "    </tr>\n",
       "  </thead>\n",
       "  <tbody>\n",
       "    <tr>\n",
       "      <th>759610</th>\n",
       "      <td>759611</td>\n",
       "      <td>skygear.ru</td>\n",
       "    </tr>\n",
       "  </tbody>\n",
       "</table>\n",
       "</div>"
      ],
      "text/plain": [
       "          rank      domain\n",
       "759610  759611  skygear.ru"
      ]
     },
     "execution_count": 141,
     "metadata": {},
     "output_type": "execute_result"
    }
   ],
   "source": [
    "top_data_df.query('domain == \"skygear.ru\"')"
   ]
  },
  {
   "cell_type": "code",
   "execution_count": null,
   "id": "b2f58f51",
   "metadata": {},
   "outputs": [],
   "source": []
  },
  {
   "cell_type": "code",
   "execution_count": null,
   "id": "499ed0e5",
   "metadata": {},
   "outputs": [],
   "source": []
  },
  {
   "cell_type": "code",
   "execution_count": null,
   "id": "308b345c",
   "metadata": {},
   "outputs": [],
   "source": []
  },
  {
   "cell_type": "code",
   "execution_count": 73,
   "id": "357fa432",
   "metadata": {},
   "outputs": [],
   "source": [
    "top_doms = pd.read_csv(TOP_1M_DOMAINS, names=['rank', 'domain'])"
   ]
  },
  {
   "cell_type": "code",
   "execution_count": 74,
   "id": "cc01a2de",
   "metadata": {},
   "outputs": [
    {
     "data": {
      "text/html": [
       "<div>\n",
       "<style scoped>\n",
       "    .dataframe tbody tr th:only-of-type {\n",
       "        vertical-align: middle;\n",
       "    }\n",
       "\n",
       "    .dataframe tbody tr th {\n",
       "        vertical-align: top;\n",
       "    }\n",
       "\n",
       "    .dataframe thead th {\n",
       "        text-align: right;\n",
       "    }\n",
       "</style>\n",
       "<table border=\"1\" class=\"dataframe\">\n",
       "  <thead>\n",
       "    <tr style=\"text-align: right;\">\n",
       "      <th></th>\n",
       "      <th>rank</th>\n",
       "      <th>domain</th>\n",
       "    </tr>\n",
       "  </thead>\n",
       "  <tbody>\n",
       "    <tr>\n",
       "      <th>0</th>\n",
       "      <td>1</td>\n",
       "      <td>google.com</td>\n",
       "    </tr>\n",
       "    <tr>\n",
       "      <th>1</th>\n",
       "      <td>2</td>\n",
       "      <td>youtube.com</td>\n",
       "    </tr>\n",
       "    <tr>\n",
       "      <th>2</th>\n",
       "      <td>3</td>\n",
       "      <td>baidu.com</td>\n",
       "    </tr>\n",
       "    <tr>\n",
       "      <th>3</th>\n",
       "      <td>4</td>\n",
       "      <td>bilibili.com</td>\n",
       "    </tr>\n",
       "    <tr>\n",
       "      <th>4</th>\n",
       "      <td>5</td>\n",
       "      <td>facebook.com</td>\n",
       "    </tr>\n",
       "    <tr>\n",
       "      <th>5</th>\n",
       "      <td>6</td>\n",
       "      <td>qq.com</td>\n",
       "    </tr>\n",
       "    <tr>\n",
       "      <th>6</th>\n",
       "      <td>7</td>\n",
       "      <td>twitter.com</td>\n",
       "    </tr>\n",
       "    <tr>\n",
       "      <th>7</th>\n",
       "      <td>8</td>\n",
       "      <td>zhihu.com</td>\n",
       "    </tr>\n",
       "    <tr>\n",
       "      <th>8</th>\n",
       "      <td>9</td>\n",
       "      <td>wikipedia.org</td>\n",
       "    </tr>\n",
       "    <tr>\n",
       "      <th>9</th>\n",
       "      <td>10</td>\n",
       "      <td>amazon.com</td>\n",
       "    </tr>\n",
       "  </tbody>\n",
       "</table>\n",
       "</div>"
      ],
      "text/plain": [
       "   rank         domain\n",
       "0     1     google.com\n",
       "1     2    youtube.com\n",
       "2     3      baidu.com\n",
       "3     4   bilibili.com\n",
       "4     5   facebook.com\n",
       "5     6         qq.com\n",
       "6     7    twitter.com\n",
       "7     8      zhihu.com\n",
       "8     9  wikipedia.org\n",
       "9    10     amazon.com"
      ]
     },
     "execution_count": 74,
     "metadata": {},
     "output_type": "execute_result"
    }
   ],
   "source": [
    "top_doms.head(10)"
   ]
  },
  {
   "cell_type": "code",
   "execution_count": 79,
   "id": "f6620b66",
   "metadata": {},
   "outputs": [],
   "source": [
    "top_doms['domen_zone'] = top_doms.domain.apply(lambda x: x.split('.')[1])"
   ]
  },
  {
   "cell_type": "code",
   "execution_count": 108,
   "id": "f2c333d4",
   "metadata": {},
   "outputs": [
    {
     "data": {
      "text/html": [
       "<div>\n",
       "<style scoped>\n",
       "    .dataframe tbody tr th:only-of-type {\n",
       "        vertical-align: middle;\n",
       "    }\n",
       "\n",
       "    .dataframe tbody tr th {\n",
       "        vertical-align: top;\n",
       "    }\n",
       "\n",
       "    .dataframe thead th {\n",
       "        text-align: right;\n",
       "    }\n",
       "</style>\n",
       "<table border=\"1\" class=\"dataframe\">\n",
       "  <thead>\n",
       "    <tr style=\"text-align: right;\">\n",
       "      <th></th>\n",
       "      <th>rank</th>\n",
       "      <th>domain</th>\n",
       "      <th>domen_zone</th>\n",
       "    </tr>\n",
       "  </thead>\n",
       "  <tbody>\n",
       "    <tr>\n",
       "      <th>0</th>\n",
       "      <td>1</td>\n",
       "      <td>google.com</td>\n",
       "      <td>com</td>\n",
       "    </tr>\n",
       "    <tr>\n",
       "      <th>1</th>\n",
       "      <td>2</td>\n",
       "      <td>youtube.com</td>\n",
       "      <td>com</td>\n",
       "    </tr>\n",
       "    <tr>\n",
       "      <th>2</th>\n",
       "      <td>3</td>\n",
       "      <td>baidu.com</td>\n",
       "      <td>com</td>\n",
       "    </tr>\n",
       "    <tr>\n",
       "      <th>3</th>\n",
       "      <td>4</td>\n",
       "      <td>bilibili.com</td>\n",
       "      <td>com</td>\n",
       "    </tr>\n",
       "    <tr>\n",
       "      <th>4</th>\n",
       "      <td>5</td>\n",
       "      <td>facebook.com</td>\n",
       "      <td>com</td>\n",
       "    </tr>\n",
       "  </tbody>\n",
       "</table>\n",
       "</div>"
      ],
      "text/plain": [
       "   rank        domain domen_zone\n",
       "0     1    google.com        com\n",
       "1     2   youtube.com        com\n",
       "2     3     baidu.com        com\n",
       "3     4  bilibili.com        com\n",
       "4     5  facebook.com        com"
      ]
     },
     "execution_count": 108,
     "metadata": {},
     "output_type": "execute_result"
    }
   ],
   "source": [
    "top_doms.head()"
   ]
  },
  {
   "cell_type": "code",
   "execution_count": 109,
   "id": "258e3585",
   "metadata": {},
   "outputs": [
    {
     "data": {
      "text/plain": [
       "com           429092\n",
       "org            40447\n",
       "co             33473\n",
       "net            31103\n",
       "ru             21052\n",
       "de             16218\n",
       "nl             13995\n",
       "it             11632\n",
       "sharepoint     10772\n",
       "pl              8986\n",
       "Name: domen_zone, dtype: int64"
      ]
     },
     "execution_count": 109,
     "metadata": {},
     "output_type": "execute_result"
    }
   ],
   "source": [
    "top_doms.domen_zone.value_counts().head(10)"
   ]
  },
  {
   "cell_type": "code",
   "execution_count": 114,
   "id": "3099d798",
   "metadata": {},
   "outputs": [],
   "source": [
    "top_10_zone = pd.DataFrame(top_doms.domen_zone.value_counts() \\\n",
    "                           .head(10)).reset_index().rename(columns={'index': 'domain_zone',\n",
    "                                                                   'domen_zone': 'count'})"
   ]
  },
  {
   "cell_type": "code",
   "execution_count": 115,
   "id": "8893ecca",
   "metadata": {},
   "outputs": [
    {
     "data": {
      "text/html": [
       "<div>\n",
       "<style scoped>\n",
       "    .dataframe tbody tr th:only-of-type {\n",
       "        vertical-align: middle;\n",
       "    }\n",
       "\n",
       "    .dataframe tbody tr th {\n",
       "        vertical-align: top;\n",
       "    }\n",
       "\n",
       "    .dataframe thead th {\n",
       "        text-align: right;\n",
       "    }\n",
       "</style>\n",
       "<table border=\"1\" class=\"dataframe\">\n",
       "  <thead>\n",
       "    <tr style=\"text-align: right;\">\n",
       "      <th></th>\n",
       "      <th>domain_zone</th>\n",
       "      <th>count</th>\n",
       "    </tr>\n",
       "  </thead>\n",
       "  <tbody>\n",
       "    <tr>\n",
       "      <th>0</th>\n",
       "      <td>com</td>\n",
       "      <td>429092</td>\n",
       "    </tr>\n",
       "    <tr>\n",
       "      <th>1</th>\n",
       "      <td>org</td>\n",
       "      <td>40447</td>\n",
       "    </tr>\n",
       "    <tr>\n",
       "      <th>2</th>\n",
       "      <td>co</td>\n",
       "      <td>33473</td>\n",
       "    </tr>\n",
       "    <tr>\n",
       "      <th>3</th>\n",
       "      <td>net</td>\n",
       "      <td>31103</td>\n",
       "    </tr>\n",
       "    <tr>\n",
       "      <th>4</th>\n",
       "      <td>ru</td>\n",
       "      <td>21052</td>\n",
       "    </tr>\n",
       "    <tr>\n",
       "      <th>5</th>\n",
       "      <td>de</td>\n",
       "      <td>16218</td>\n",
       "    </tr>\n",
       "    <tr>\n",
       "      <th>6</th>\n",
       "      <td>nl</td>\n",
       "      <td>13995</td>\n",
       "    </tr>\n",
       "    <tr>\n",
       "      <th>7</th>\n",
       "      <td>it</td>\n",
       "      <td>11632</td>\n",
       "    </tr>\n",
       "    <tr>\n",
       "      <th>8</th>\n",
       "      <td>sharepoint</td>\n",
       "      <td>10772</td>\n",
       "    </tr>\n",
       "    <tr>\n",
       "      <th>9</th>\n",
       "      <td>pl</td>\n",
       "      <td>8986</td>\n",
       "    </tr>\n",
       "  </tbody>\n",
       "</table>\n",
       "</div>"
      ],
      "text/plain": [
       "  domain_zone   count\n",
       "0         com  429092\n",
       "1         org   40447\n",
       "2          co   33473\n",
       "3         net   31103\n",
       "4          ru   21052\n",
       "5          de   16218\n",
       "6          nl   13995\n",
       "7          it   11632\n",
       "8  sharepoint   10772\n",
       "9          pl    8986"
      ]
     },
     "execution_count": 115,
     "metadata": {},
     "output_type": "execute_result"
    }
   ],
   "source": [
    "top_10_zone"
   ]
  },
  {
   "cell_type": "code",
   "execution_count": null,
   "id": "0293a5da",
   "metadata": {},
   "outputs": [],
   "source": []
  },
  {
   "cell_type": "code",
   "execution_count": null,
   "id": "f9042d87",
   "metadata": {},
   "outputs": [],
   "source": []
  },
  {
   "cell_type": "code",
   "execution_count": 14,
   "id": "22386fc4",
   "metadata": {},
   "outputs": [
    {
     "data": {
      "text/plain": [
       "11"
      ]
     },
     "execution_count": 14,
     "metadata": {},
     "output_type": "execute_result"
    }
   ],
   "source": [
    "len(top_doms.iloc[1,1])"
   ]
  },
  {
   "cell_type": "code",
   "execution_count": 35,
   "id": "13d98910",
   "metadata": {},
   "outputs": [
    {
     "data": {
      "text/plain": [
       "rank                                                      589170\n",
       "domain         aaalrt-cal-nosw-xx-sse-cc-cdcdc-cklmll-dc-dcsz...\n",
       "name_length                                                   78\n",
       "Name: 589169, dtype: object"
      ]
     },
     "execution_count": 35,
     "metadata": {},
     "output_type": "execute_result"
    }
   ],
   "source": [
    "top_doms.sort_values('name_length', ascending=False).iloc[1]"
   ]
  },
  {
   "cell_type": "code",
   "execution_count": null,
   "id": "198a30ac",
   "metadata": {},
   "outputs": [],
   "source": []
  }
 ],
 "metadata": {
  "kernelspec": {
   "display_name": "Python 3 (ipykernel)",
   "language": "python",
   "name": "python3"
  },
  "language_info": {
   "codemirror_mode": {
    "name": "ipython",
    "version": 3
   },
   "file_extension": ".py",
   "mimetype": "text/x-python",
   "name": "python",
   "nbconvert_exporter": "python",
   "pygments_lexer": "ipython3",
   "version": "3.9.13"
  }
 },
 "nbformat": 4,
 "nbformat_minor": 5
}
