{
 "cells": [
  {
   "cell_type": "code",
   "execution_count": 34,
   "metadata": {},
   "outputs": [],
   "source": [
    "import requests\n",
    "import pandas as pd\n",
    "from datetime import timedelta\n",
    "from datetime import datetime\n",
    "\n",
    "from airflow import DAG\n",
    "from airflow.operators.python import PythonOperator"
   ]
  },
  {
   "cell_type": "code",
   "execution_count": 35,
   "metadata": {},
   "outputs": [],
   "source": [
    "TOP_1M_DOMAINS = 'http://s3.amazonaws.com/alexa-static/top-1m.csv.zip'\n",
    "TOP_1M_DOMAINS_FILE = 'top-1m.csv'"
   ]
  },
  {
   "cell_type": "code",
   "execution_count": 36,
   "metadata": {},
   "outputs": [],
   "source": [
    "def get_data():\n",
    "    # Здесь пока оставили запись в файл, как передавать переменую между тасками будет в третьем уроке\n",
    "    top_doms = pd.read_csv(TOP_1M_DOMAINS)\n",
    "    top_data = top_doms.to_csv(index=False)\n",
    "\n",
    "    with open(TOP_1M_DOMAINS_FILE, 'w') as f:\n",
    "        f.write(top_data)"
   ]
  },
  {
   "cell_type": "code",
   "execution_count": 37,
   "metadata": {},
   "outputs": [],
   "source": [
    "def top_10():\n",
    "    df_1 = pd.read_csv(TOP_1M_DOMAINS_FILE, names=['domain'])\n",
    "    df_1['domain_zone'] = df_1.domain.apply(lambda x: x.split('.')[-1])\n",
    "    top_domains = df_1.groupby('domain_zone', as_index=False)\\\n",
    "                      .count().sort_values('domain', ascending=False)\\\n",
    "                      .head(10)\n",
    "    return top_domains"
   ]
  },
  {
   "cell_type": "code",
   "execution_count": 38,
   "metadata": {},
   "outputs": [],
   "source": [
    "def longest_domain():\n",
    "    df_2 = pd.read_csv(TOP_1M_DOMAINS_FILE, names=['domain'])\n",
    "    df_2['true_domain'] = df_2.domain.apply(lambda x: x.split('.')[-2]) #колонка с доменами (без доменной зоны)\n",
    "    df_2['domain_length'] = df_2.true_domain.apply(lambda x: len(x)) #длина доменов\n",
    "    max_length = df_2.domain_length.max() \n",
    "    top = sorted(df_2.query('domain_length == @max_length').true_domain.to_list())\n",
    "    top_domain = top.sort()\n",
    "    return top_domain[0]"
   ]
  },
  {
   "cell_type": "code",
   "execution_count": 39,
   "metadata": {},
   "outputs": [],
   "source": [
    "def rank():\n",
    "    df_3 = pd.read_csv(TOP_1M_DOMAINS_FILE, names=['domain'])\n",
    "    try:\n",
    "        rank = df_3.loc[df_3['domain'] == \"airflow.com\"].index.item() #смотрим входит ли домен airflow.com в топ 1м \n",
    "    except:\n",
    "        rank = 'Airflow.com is not in 1M most popular domains now' #если не входит, то выводим сообщение об этом\n",
    "    return rank"
   ]
  },
  {
   "cell_type": "code",
   "execution_count": 40,
   "metadata": {},
   "outputs": [],
   "source": [
    "default_args = {\n",
    "    'owner': 'd-odintsov-24',\n",
    "    'depends_on_past': False,\n",
    "    'retries': 2,\n",
    "    'retry_delay': timedelta(minutes=8),\n",
    "    'start_date': datetime(2022, 9, 16),\n",
    "}\n",
    "schedule_interval = '0 13 * * *'"
   ]
  },
  {
   "cell_type": "code",
   "execution_count": 41,
   "metadata": {},
   "outputs": [
    {
     "data": {
      "text/plain": [
       "[<Task(PythonOperator): top_10>,\n",
       " <Task(PythonOperator): longest_domain>,\n",
       " <Task(PythonOperator): airlow_rank>]"
      ]
     },
     "execution_count": 41,
     "metadata": {},
     "output_type": "execute_result"
    }
   ],
   "source": [
    "dag = DAG('lesson_2_d-odintsov-24', default_args=default_args)\n",
    "\n",
    "t1 = PythonOperator(task_id='get_data',\n",
    "                    python_callable=get_data,\n",
    "                    dag=dag)\n",
    "\n",
    "t2 = PythonOperator(task_id='top_10',\n",
    "                    python_callable=top_10,\n",
    "                    dag=dag)\n",
    "\n",
    "t3 = PythonOperator(task_id='longest_domain',\n",
    "                    python_callable=longest_domain,\n",
    "                    dag=dag)\n",
    "\n",
    "t4 = PythonOperator(task_id='airlow_rank',\n",
    "                    python_callable=rank,\n",
    "                    dag=dag)\n",
    "\n",
    "t1 >> [t2, t3, t4]"
   ]
  }
 ],
 "metadata": {
  "kernelspec": {
   "display_name": "Python 3",
   "language": "python",
   "name": "python3"
  },
  "language_info": {
   "codemirror_mode": {
    "name": "ipython",
    "version": 3
   },
   "file_extension": ".py",
   "mimetype": "text/x-python",
   "name": "python",
   "nbconvert_exporter": "python",
   "pygments_lexer": "ipython3",
   "version": "3.7.3"
  }
 },
 "nbformat": 4,
 "nbformat_minor": 4
}
