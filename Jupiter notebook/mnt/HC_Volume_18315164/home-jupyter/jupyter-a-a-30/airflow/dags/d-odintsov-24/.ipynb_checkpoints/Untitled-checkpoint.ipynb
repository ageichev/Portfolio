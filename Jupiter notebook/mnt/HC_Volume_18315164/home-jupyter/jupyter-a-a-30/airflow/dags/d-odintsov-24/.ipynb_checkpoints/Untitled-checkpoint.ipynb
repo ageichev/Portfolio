{
 "cells": [
  {
   "cell_type": "code",
   "execution_count": null,
   "metadata": {},
   "outputs": [],
   "source": [
    "import requests\n",
    "from zipfile import ZipFile\n",
    "from io import BytesIO\n",
    "import pandas as pd\n",
    "import numpy as np\n",
    "from datetime import timedelta\n",
    "from datetime import datetime\n",
    "from io import StringIO\n",
    "\n",
    "\n",
    "from airflow.decorators import dag, task\n",
    "from airflow.operators.python import get_current_context\n",
    "from airflow.models import Variable"
   ]
  },
  {
   "cell_type": "code",
   "execution_count": null,
   "metadata": {},
   "outputs": [],
   "source": [
    "def get_table():\n",
    "    my_year = 1994 + hash('f‘{d-odintsov-24}') % 23\n",
    "    df = pd.read_csv('/var/lib/airflow/airflow.git/dags/a.batalov/vgsales.csv', sep=',')\n",
    "    df['Year'] = df['Year'].astype('Int64')\n",
    "    df_1 = df.query('Year == @my_year')\n",
    "    return(df_1)"
   ]
  },
  {
   "cell_type": "code",
   "execution_count": null,
   "metadata": {},
   "outputs": [],
   "source": [
    "df = pd.read_csv('/mnt/HC_Volume_18315164/home-jupyter/jupyter-d-odintsov-24/airflow/dags/d-odintsov-24/vgsales.csv', sep=',')"
   ]
  },
  {
   "cell_type": "code",
   "execution_count": null,
   "metadata": {},
   "outputs": [],
   "source": [
    "my_year = 1994 + hash('f‘{d-odintsov-24}') % 23\n"
   ]
  },
  {
   "cell_type": "code",
   "execution_count": null,
   "metadata": {},
   "outputs": [],
   "source": [
    "my_year"
   ]
  },
  {
   "cell_type": "code",
   "execution_count": null,
   "metadata": {},
   "outputs": [],
   "source": [
    "df.head()"
   ]
  },
  {
   "cell_type": "code",
   "execution_count": null,
   "metadata": {},
   "outputs": [],
   "source": [
    "df['Year'] = df['Year'].astype('Int64')"
   ]
  },
  {
   "cell_type": "code",
   "execution_count": null,
   "metadata": {},
   "outputs": [],
   "source": [
    "df_1 = df.query('Year == @my_year')"
   ]
  },
  {
   "cell_type": "code",
   "execution_count": null,
   "metadata": {},
   "outputs": [],
   "source": [
    "def top_game_2004(df_1):\n",
    "    top_game = df_1.query('Global_Sales == @df_1.Global_Sales.max()').Name\n",
    "    return(top_game)"
   ]
  },
  {
   "cell_type": "code",
   "execution_count": null,
   "metadata": {},
   "outputs": [],
   "source": [
    "top_game_2004(df_1)"
   ]
  },
  {
   "cell_type": "code",
   "execution_count": null,
   "metadata": {},
   "outputs": [],
   "source": [
    "def top_genre_eu_sales(df_1):    \n",
    "    top_genre_eu = df_1.groupby('Genre', as_index=False).agg({'EU_Sales': 'sum'})\\\n",
    "                       .rename(columns={'EU_Sales': 'SUM_EU_Sales'})\n",
    "    top = top_genre_eu.query('SUM_EU_Sales == @top_genre_eu.SUM_EU_Sales.max()')\n",
    "    return(top)"
   ]
  },
  {
   "cell_type": "code",
   "execution_count": null,
   "metadata": {},
   "outputs": [],
   "source": [
    "top_genre_eu_sales(df_1)"
   ]
  },
  {
   "cell_type": "code",
   "execution_count": null,
   "metadata": {},
   "outputs": [],
   "source": [
    "def top_platform_NA(df_1):\n",
    "    top_NA = df_1.query('NA_Sales > 1').groupby('Platform', as_index=False).agg({'Name': 'count'})\\\n",
    "                 .rename(columns={'Name': 'number_of_games'})\n",
    "    top =top_NA.query('number_of_games == @top_NA.number_of_games.max()')\n",
    "    return(top)"
   ]
  },
  {
   "cell_type": "code",
   "execution_count": null,
   "metadata": {},
   "outputs": [],
   "source": [
    "top_platform_NA(df_1)"
   ]
  },
  {
   "cell_type": "code",
   "execution_count": null,
   "metadata": {},
   "outputs": [],
   "source": [
    "def top_publisher_JP(df_1):\n",
    "    top_publisher = df_1.groupby('Publisher', as_index=False).agg({'JP_Sales': 'mean'})\\\n",
    "                        .rename(columns={'JP_Sales': 'mean_JP_sales'})\n",
    "    top = top_publisher.query('mean_JP_sales == @top_publisher.mean_JP_sales.max()')\n",
    "    return(top)"
   ]
  },
  {
   "cell_type": "code",
   "execution_count": null,
   "metadata": {},
   "outputs": [],
   "source": [
    "top_publisher_JP(df_1)"
   ]
  },
  {
   "cell_type": "code",
   "execution_count": null,
   "metadata": {},
   "outputs": [],
   "source": [
    "def EU_better_JPs(df_1):\n",
    "    return(df_1.query('JP_Sales < EU_Sales').Name.nunique())\n"
   ]
  },
  {
   "cell_type": "code",
   "execution_count": null,
   "metadata": {},
   "outputs": [],
   "source": [
    "EU_better_JPs(df_1)"
   ]
  },
  {
   "cell_type": "code",
   "execution_count": null,
   "metadata": {},
   "outputs": [],
   "source": []
  }
 ],
 "metadata": {
  "kernelspec": {
   "display_name": "Python 3",
   "language": "python",
   "name": "python3"
  },
  "language_info": {
   "codemirror_mode": {
    "name": "ipython",
    "version": 3
   },
   "file_extension": ".py",
   "mimetype": "text/x-python",
   "name": "python",
   "nbconvert_exporter": "python",
   "pygments_lexer": "ipython3",
   "version": "3.7.3"
  }
 },
 "nbformat": 4,
 "nbformat_minor": 4
}
