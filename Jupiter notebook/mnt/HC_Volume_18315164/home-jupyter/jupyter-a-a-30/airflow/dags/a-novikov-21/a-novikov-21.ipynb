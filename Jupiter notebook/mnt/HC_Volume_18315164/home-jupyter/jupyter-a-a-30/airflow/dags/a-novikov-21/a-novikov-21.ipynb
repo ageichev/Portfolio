{
 "cells": [
  {
   "cell_type": "code",
   "execution_count": 12,
   "metadata": {},
   "outputs": [],
   "source": [
    "import requests\n",
    "import pandas as pd\n",
    "from datetime import timedelta\n",
    "from datetime import datetime\n",
    "\n",
    "from airflow import DAG\n",
    "from airflow.operators.python import PythonOperator"
   ]
  },
  {
   "cell_type": "code",
   "execution_count": 13,
   "metadata": {},
   "outputs": [
    {
     "data": {
      "text/plain": [
       "<Task(PythonOperator): print_data>"
      ]
     },
     "execution_count": 13,
     "metadata": {},
     "output_type": "execute_result"
    }
   ],
   "source": [
    "\n",
    "TOP_1M_DOMAINS = 'http://s3.amazonaws.com/alexa-static/top-1m.csv.zip'\n",
    "TOP_1M_DOMAINS_FILE = 'top-1m.csv'\n",
    "\n",
    "\n",
    "def get_data():\n",
    "    # Здесь пока оставили запись в файл, как передавать переменую между тасками будет в третьем уроке\n",
    "    top_doms = pd.read_csv(TOP_1M_DOMAINS)\n",
    "    top_data = top_doms.to_csv(index=False)\n",
    "\n",
    "    with open(TOP_1M_DOMAINS_FILE, 'w') as f:\n",
    "        f.write(top_data)\n",
    "\n",
    "\n",
    "def get_top_10():\n",
    "    df = pd.read_csv(TOP_1M_DOMAINS_FILE, names=['rank', 'domain'])\n",
    "    df['length'] = df.apply(lambda row: len(row.domain), axis=1)\n",
    "    res = df.sort_values(['length','domain'], ascending=[False,True]).iloc[0].domain\n",
    "    with open('data_top_10.csv', 'w') as f:\n",
    "        f.write(res)\n",
    "\n",
    "def get_longest_name():\n",
    "    df = pd.read_csv(TOP_1M_DOMAINS_FILE, names=['rank', 'domain'])\n",
    "    df['length'] = df.apply(lambda row: len(row.domain), axis=1)\n",
    "    res = df.sort_values(['length','domain'], ascending=[False,True]).iloc[0].domain\n",
    "    with open('longest_name.csv', 'w') as f:\n",
    "        f.write(res)\n",
    "                       \n",
    "def get_airflow_position():\n",
    "    df = pd.read_csv(TOP_1M_DOMAINS_FILE, names=['rank', 'domain'])\n",
    "    result = df[df.domain == 'airflow.com'].iloc[0]['rank']\n",
    "    with open('airflow_position.csv', 'w') as f:\n",
    "        f.write(str(result))\n",
    "\n",
    "\n",
    "def print_data(ds):\n",
    "    with open('data_top_10.csv', 'r') as f:\n",
    "        data_top_10 = f.read()\n",
    "    with open('longest_name.csv', 'r') as f:\n",
    "        longest_name = f.read()\n",
    "    with open('airflow_position.csv', 'r') as f:\n",
    "        airflow_position = f.read()\n",
    "    date = ds\n",
    "\n",
    "    print(f'Top 10 domains zones for {date}')\n",
    "    print(data_top_10)\n",
    "\n",
    "    print(f'Longest name of domain for {date}')\n",
    "    print(longest_name)\n",
    "\n",
    "    print(f'Airflow position for {date} is')\n",
    "    print(airflow_position)\n",
    "\n",
    "\n",
    "\n",
    "\n",
    "default_args = {\n",
    "    'owner': 'a-novikov-21',\n",
    "    'depends_on_past': False,\n",
    "    'retries': 2,\n",
    "    'retry_delay': timedelta(minutes=5),\n",
    "    'start_date': datetime(2022, 6, 6),\n",
    "}\n",
    "schedule_interval = '0 10 * * *'\n",
    "\n",
    "dag = DAG('a-novikov-21_lesson2', default_args=default_args, schedule_interval=schedule_interval)\n",
    "\n",
    "t1 = PythonOperator(task_id='get_data',\n",
    "                    python_callable=get_data,\n",
    "                    dag=dag)\n",
    "\n",
    "t2 = PythonOperator(task_id='get_top_10',\n",
    "                    python_callable=get_top_10,\n",
    "                    dag=dag)\n",
    "                       \n",
    "t2_longest = PythonOperator(task_id='get_longest_name',\n",
    "                    python_callable=get_longest_name,\n",
    "                    dag=dag)\n",
    "\n",
    "t2_airflow = PythonOperator(task_id='get_airflow_position',\n",
    "                    python_callable=get_airflow_position,\n",
    "                    dag=dag)\n",
    "\n",
    "\n",
    "t3 = PythonOperator(task_id='print_data',\n",
    "                    python_callable=print_data,\n",
    "                    dag=dag)\n",
    "\n",
    "t1 >> [t2, t2_longest, t2_airflow] >> t3\n"
   ]
  }
 ],
 "metadata": {
  "kernelspec": {
   "display_name": "Python 3",
   "language": "python",
   "name": "python3"
  },
  "language_info": {
   "codemirror_mode": {
    "name": "ipython",
    "version": 3
   },
   "file_extension": ".py",
   "mimetype": "text/x-python",
   "name": "python",
   "nbconvert_exporter": "python",
   "pygments_lexer": "ipython3",
   "version": "3.7.3"
  }
 },
 "nbformat": 4,
 "nbformat_minor": 4
}
