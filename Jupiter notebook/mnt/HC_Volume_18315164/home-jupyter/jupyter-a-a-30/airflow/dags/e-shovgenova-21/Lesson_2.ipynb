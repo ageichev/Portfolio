{
 "cells": [
  {
   "cell_type": "code",
   "execution_count": 2,
   "metadata": {},
   "outputs": [],
   "source": [
    "import requests\n",
    "import pandas as pd\n",
    "from datetime import timedelta\n",
    "from datetime import datetime\n",
    "\n",
    "from airflow import DAG\n",
    "from airflow.operators.python import PythonOperator"
   ]
  },
  {
   "cell_type": "code",
   "execution_count": 3,
   "metadata": {},
   "outputs": [],
   "source": [
    "TOP_1M_DOMAINS = 'http://s3.amazonaws.com/alexa-static/top-1m.csv.zip'\n",
    "TOP_1M_DOMAINS_FILE = 'top-1m.csv'"
   ]
  },
  {
   "cell_type": "code",
   "execution_count": 4,
   "metadata": {},
   "outputs": [],
   "source": [
    "# pd.read_csv(TOP_1M_DOMAINS_FILE)"
   ]
  },
  {
   "cell_type": "code",
   "execution_count": 5,
   "metadata": {},
   "outputs": [],
   "source": [
    "def get_data():\n",
    "    top_doms = pd.read_csv(TOP_1M_DOMAINS)\n",
    "    top_data = top_doms.to_csv(index=False)\n",
    "\n",
    "    with open(TOP_1M_DOMAINS_FILE, 'w') as f:\n",
    "        f.write(top_data)"
   ]
  },
  {
   "cell_type": "code",
   "execution_count": 6,
   "metadata": {},
   "outputs": [],
   "source": [
    "def largest_domains():\n",
    "    df = pd.read_csv(TOP_1M_DOMAINS_FILE, names=['rank', 'domain'])\n",
    "    df['extend'] = df.apply(lambda row: row.domain.split('.')[-1], axis = 1) \n",
    "    result = df.groupby('extend').agg({'domain':'count'}).sort_values(by = 'domain', ascending=False).head(10) \n",
    "    \n",
    "    with open('e_shovgenova_21_largest_domains.csv', 'w') as f:\n",
    "        f.write(result.to_csv(index=False, header=False))"
   ]
  },
  {
   "cell_type": "code",
   "execution_count": 7,
   "metadata": {},
   "outputs": [],
   "source": [
    "def longest_domain():\n",
    "    df = pd.read_csv(TOP_1M_DOMAINS_FILE, names=['rank', 'domain'])\n",
    "    df['length'] = df.apply(lambda row: len(row.domain), axis=1)    \n",
    "    result = df.sort_values(['length','domain'], ascending=[False,True]).iloc[0].domain  \n",
    "\n",
    "    with open('e_shovgenova_21_longest_domain.csv', 'w') as f:\n",
    "        f.write(result.to_csv(index=False, header=False))"
   ]
  },
  {
   "cell_type": "code",
   "execution_count": 8,
   "metadata": {},
   "outputs": [],
   "source": [
    "def get_airflow_rank():\n",
    "    df = pd.read_csv(TOP_1M_DOMAINS_FILE, names=['rank', 'domain'])\n",
    "    if df[df.domain == 'airflow.com'].shape[0]:\n",
    "        result = df[df.domain == 'airflow.com'].iloc[0]['rank']\n",
    "    else:\n",
    "        result = 'There is no such domain'\n",
    "    with open('e_shovgenova_21_get_airflow.csv', 'w') as f:\n",
    "        f.write(str(result))\n"
   ]
  },
  {
   "cell_type": "code",
   "execution_count": 9,
   "metadata": {},
   "outputs": [],
   "source": [
    "def print_data(ds):\n",
    "    with open('e_shovgenova_21_largest_domains.csv', 'r') as f:\n",
    "        largest_domains = f.read()\n",
    "    with open('e_shovgenova_21_longest_domain.csv', 'r') as f:\n",
    "        longest_domain = f.read()\n",
    "    with open('e_shovgenova_21_get_airflow.csv', 'r') as f:\n",
    "        airflow_rank = f.read()\n",
    "    date = ds\n",
    "\n",
    "    print(f'Top10 largest zones for date {date}')\n",
    "    print(largest_zones)\n",
    "\n",
    "    print(f'Longest domain name for date {date}')\n",
    "    print(longest_domain)\n",
    "    \n",
    "    print(f'Airflow rank for date {date}')\n",
    "    print(airflow_rank)"
   ]
  },
  {
   "cell_type": "code",
   "execution_count": 10,
   "metadata": {},
   "outputs": [],
   "source": [
    "default_args = {\n",
    "    'owner': 'e_shovgenova_21',\n",
    "    'depends_on_past': False,\n",
    "    'retries': 2,\n",
    "    'retry_delay': timedelta(minutes=5),\n",
    "    'start_date': datetime(2022, 7, 5),\n",
    "    'schedule_interval': '40 3 * * *'\n",
    "}"
   ]
  },
  {
   "cell_type": "code",
   "execution_count": 11,
   "metadata": {},
   "outputs": [],
   "source": [
    "dag = DAG('e_shovgenova_21_HW_2', default_args=default_args)"
   ]
  },
  {
   "cell_type": "code",
   "execution_count": 12,
   "metadata": {},
   "outputs": [
    {
     "data": {
      "text/plain": [
       "<Task(PythonOperator): print_data>"
      ]
     },
     "execution_count": 12,
     "metadata": {},
     "output_type": "execute_result"
    }
   ],
   "source": [
    "t1 = PythonOperator(task_id='get_data',\n",
    "                    python_callable=get_data,\n",
    "                    dag=dag)\n",
    "\n",
    "t2 = PythonOperator(task_id='largest_domains',\n",
    "                    python_callable=largest_domains,\n",
    "                    dag=dag)\n",
    "\n",
    "t3 = PythonOperator(task_id='longest_domain',\n",
    "                    python_callable=longest_domain,\n",
    "                    dag=dag)\n",
    "\n",
    "t4 = PythonOperator(task_id='get_airflow_rank',\n",
    "                    python_callable=get_airflow_rank,\n",
    "                    dag=dag)\n",
    "\n",
    "t5 = PythonOperator(task_id='print_data',\n",
    "                    python_callable=print_data,\n",
    "                    dag=dag)\n",
    "\n",
    "t1 >> t2 >> t3 >> t4 >> t5\n"
   ]
  },
  {
   "cell_type": "code",
   "execution_count": null,
   "metadata": {},
   "outputs": [],
   "source": []
  }
 ],
 "metadata": {
  "kernelspec": {
   "display_name": "Python 3",
   "language": "python",
   "name": "python3"
  },
  "language_info": {
   "codemirror_mode": {
    "name": "ipython",
    "version": 3
   },
   "file_extension": ".py",
   "mimetype": "text/x-python",
   "name": "python",
   "nbconvert_exporter": "python",
   "pygments_lexer": "ipython3",
   "version": "3.7.3"
  }
 },
 "nbformat": 4,
 "nbformat_minor": 4
}
