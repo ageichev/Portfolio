{
 "cells": [
  {
   "cell_type": "code",
   "execution_count": 3,
   "metadata": {},
   "outputs": [],
   "source": [
    "import requests\n",
    "import pandas as pd\n",
    "import numpy as np\n",
    "from datetime import timedelta\n",
    "from datetime import datetime\n",
    "\n",
    "from airflow import DAG\n",
    "from airflow.operators.python import PythonOperator"
   ]
  },
  {
   "cell_type": "code",
   "execution_count": 4,
   "metadata": {},
   "outputs": [],
   "source": [
    "TOP_1M_DOMAINS = 'http://s3.amazonaws.com/alexa-static/top-1m.csv.zip'\n",
    "TOP_1M_DOMAINS_FILE = 'top-1m.csv'"
   ]
  },
  {
   "cell_type": "code",
   "execution_count": 5,
   "metadata": {},
   "outputs": [],
   "source": [
    "def get_data():\n",
    "    # Здесь пока оставили запись в файл, как передавать переменую между тасками будет в третьем уроке\n",
    "    top_doms = pd.read_csv(TOP_1M_DOMAINS)\n",
    "    top_data = top_doms.to_csv(index=False)\n",
    "\n",
    "    with open(TOP_1M_DOMAINS_FILE, 'w') as f:\n",
    "        f.write(top_data)"
   ]
  },
  {
   "cell_type": "code",
   "execution_count": 6,
   "metadata": {},
   "outputs": [],
   "source": [
    "def get_stat_top10_domains():\n",
    "    top_data_df = pd.read_csv(TOP_1M_DOMAINS_FILE, names=['rank', 'domain'])\n",
    "    top_data_df['domain_ends'] = top_data_df['domain'].apply(lambda x: x.split('.')[-1])\n",
    "    top_data_top_10 = top_data_df.groupby([\"domain_ends\"], as_index=False).agg({\"domain\":\"count\"}).sort_values(\"domain\", ascending=False).head(10)\n",
    "    with open('top_data_top10_domains.csv', 'w') as f:\n",
    "        f.write(top_data_top_10.to_csv(index=False, header=False))"
   ]
  },
  {
   "cell_type": "code",
   "execution_count": 7,
   "metadata": {},
   "outputs": [],
   "source": [
    "def get_stat_longest_domain():\n",
    "    top_data_df = pd.read_csv(TOP_1M_DOMAINS_FILE, names=['rank', 'domain'])\n",
    "    lengths = top_data_df[\"domain\"].str.len()\n",
    "    argmax = np.where(lengths == lengths.max())[0]\n",
    "    top_data_longest_domain = top_data_df.iloc[argmax]\n",
    "    with open('top_data_longest_domain.csv', 'w') as f:\n",
    "        f.write(top_data_longest_domain.to_csv(index=False, header=False))"
   ]
  },
  {
   "cell_type": "code",
   "execution_count": 8,
   "metadata": {},
   "outputs": [],
   "source": [
    "def get_stat_index_domain():\n",
    "    top_data_df = pd.read_csv(TOP_1M_DOMAINS_FILE, names=['rank', 'domain'])\n",
    "    index_domain = pd.DataFrame(top_data_df[top_data_df.domain.str.contains(\"airflow.com\")].index.values.astype(int))\n",
    "    with open('top_data_index_domain.csv', 'w') as f:\n",
    "        f.write(index_domain.to_csv(index=False, header=False))"
   ]
  },
  {
   "cell_type": "code",
   "execution_count": 9,
   "metadata": {},
   "outputs": [],
   "source": [
    "def print_data(ds):\n",
    "    with open('top_data_top10_domains.csv', 'r') as f:\n",
    "        all_data_top10_domains = f.read()\n",
    "    with open('top_data_longest_domain.csv', 'r') as f:\n",
    "        all_data_longest_domain = f.read()\n",
    "    with open('top_data_index_domain.csv', 'r') as f:\n",
    "        all_data_index_domain = f.read()\n",
    "    date = ds\n",
    "\n",
    "    print(f' Топ-10 доменных зон по численности доменов {date}')\n",
    "    print(all_data_top10_domains)\n",
    "\n",
    "    print(f' Домен с самым длинным именем {date}')\n",
    "    print(all_data_longest_domain)\n",
    "    \n",
    "    print(f' Индекс домена airflow.com {date}')\n",
    "    print(all_data_index_domain)"
   ]
  },
  {
   "cell_type": "code",
   "execution_count": 10,
   "metadata": {},
   "outputs": [],
   "source": [
    "default_args = {\n",
    "    'owner': 'a.burdin',\n",
    "    'depends_on_past': False,\n",
    "    'retries': 2,\n",
    "    'retry_delay': timedelta(minutes=5),\n",
    "    'start_date': datetime(2022, 8, 23),\n",
    "}\n",
    "schedule_interval = '0 8 * * *'\n",
    "\n",
    "dag_burdin = DAG('burdin_28082022_2', default_args=default_args, schedule_interval=schedule_interval)"
   ]
  },
  {
   "cell_type": "code",
   "execution_count": 11,
   "metadata": {},
   "outputs": [
    {
     "data": {
      "text/plain": [
       "<Task(PythonOperator): print_data>"
      ]
     },
     "execution_count": 11,
     "metadata": {},
     "output_type": "execute_result"
    }
   ],
   "source": [
    "t1 = PythonOperator(task_id='get_data',\n",
    "                    python_callable=get_data,\n",
    "                    dag=dag_burdin)\n",
    "\n",
    "t2_top10 = PythonOperator(task_id='get_stat_top10_domains',\n",
    "                    python_callable=get_stat_top10_domains,\n",
    "                    dag=dag_burdin)\n",
    "\n",
    "t2_longest_domain = PythonOperator(task_id='get_stat_longest_domain',\n",
    "                        python_callable=get_stat_longest_domain,\n",
    "                        dag=dag_burdin)\n",
    "\n",
    "t2_index_domain = PythonOperator(task_id='get_stat_index_domain',\n",
    "                        python_callable=get_stat_index_domain,\n",
    "                        dag=dag_burdin)\n",
    "\n",
    "t3 = PythonOperator(task_id='print_data',\n",
    "                    python_callable=print_data,\n",
    "                    dag=dag_burdin)\n",
    "\n",
    "t1 >> [t2_top10, t2_longest_domain, t2_index_domain] >> t3\n"
   ]
  },
  {
   "cell_type": "code",
   "execution_count": 1,
   "metadata": {},
   "outputs": [
    {
     "name": "stdout",
     "output_type": "stream",
     "text": [
      "That's all!\n"
     ]
    }
   ],
   "source": [
    "print(\"That's all!\")"
   ]
  },
  {
   "cell_type": "code",
   "execution_count": null,
   "metadata": {},
   "outputs": [],
   "source": []
  }
 ],
 "metadata": {
  "kernelspec": {
   "display_name": "Python 3",
   "language": "python",
   "name": "python3"
  },
  "language_info": {
   "codemirror_mode": {
    "name": "ipython",
    "version": 3
   },
   "file_extension": ".py",
   "mimetype": "text/x-python",
   "name": "python",
   "nbconvert_exporter": "python",
   "pygments_lexer": "ipython3",
   "version": "3.7.3"
  }
 },
 "nbformat": 4,
 "nbformat_minor": 4
}
