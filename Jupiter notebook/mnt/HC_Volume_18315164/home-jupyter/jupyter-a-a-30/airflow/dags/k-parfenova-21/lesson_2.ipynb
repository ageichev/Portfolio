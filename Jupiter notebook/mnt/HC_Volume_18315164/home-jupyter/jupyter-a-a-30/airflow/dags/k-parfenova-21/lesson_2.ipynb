{
 "cells": [
  {
   "cell_type": "code",
   "execution_count": 6,
   "metadata": {},
   "outputs": [],
   "source": [
    "import requests\n",
    "from zipfile import ZipFile\n",
    "from io import BytesIO\n",
    "import pandas as pd\n",
    "from datetime import timedelta\n",
    "from datetime import datetime\n",
    "\n",
    "from airflow import DAG\n",
    "from airflow.operators.python import PythonOperator"
   ]
  },
  {
   "cell_type": "code",
   "execution_count": 7,
   "metadata": {},
   "outputs": [],
   "source": [
    "TOP_1M_DOMAINS = 'http://s3.amazonaws.com/alexa-static/top-1m.csv.zip'\n",
    "TOP_1M_DOMAINS_FILE = 'top-1m.csv'"
   ]
  },
  {
   "cell_type": "markdown",
   "metadata": {},
   "source": [
    "**Таски**"
   ]
  },
  {
   "cell_type": "code",
   "execution_count": 11,
   "metadata": {},
   "outputs": [],
   "source": [
    "def get_data():\n",
    "    top_doms = requests.get(TOP_1M_DOMAINS, stream=True)\n",
    "    zipfile = ZipFile(BytesIO(top_doms.content))\n",
    "    top_data = zipfile.read(TOP_1M_DOMAINS_FILE).decode('utf-8')\n",
    "\n",
    "    with open(TOP_1M_DOMAINS_FILE, 'w') as f:\n",
    "        f.write(top_data)"
   ]
  },
  {
   "cell_type": "code",
   "execution_count": 12,
   "metadata": {},
   "outputs": [],
   "source": [
    "def get_top_10():\n",
    "    top_10 = pd.read_csv(TOP_1M_DOMAINS_FILE, names=['rank', 'domain'])\n",
    "    top_10['domain_zone'] = top_10.apply(lambda x: x['domain'].split('.')[-1], axis=1)\n",
    "    top_10_df = top_10.groupby('domain_zone', as_index = False).agg({'domain': 'count'}).sort_values('domain', ascending = False)\n",
    "    with open('top_10_df.csv', 'w') as f:\n",
    "        f.write(top_10_df.to_csv(index=False, header=False))"
   ]
  },
  {
   "cell_type": "code",
   "execution_count": 18,
   "metadata": {},
   "outputs": [],
   "source": [
    "def get_long_name():\n",
    "    long_name = pd.read_csv(TOP_1M_DOMAINS_FILE, names=['rank', 'domain'])\n",
    "    long_name['long_domain'] = long_name.apply(lambda x: len(x.domain), axis=1) \n",
    "    long_name_df = long_name.sort_values(['domain','long_domain'], ascending = False)['domain'].head(1)\n",
    "    with open('long_name_df.csv', 'w') as f:\n",
    "        f.write(long_name_df.to_csv(index=False, header=False))"
   ]
  },
  {
   "cell_type": "code",
   "execution_count": 19,
   "metadata": {},
   "outputs": [],
   "source": [
    "def get_airflow():\n",
    "    airflow = pd.read_csv(TOP_1M_DOMAINS_FILE, names=['rank', 'domain'])\n",
    "    airflow_df = airflow.query('domain == \"airflow.com\"')['rank']\n",
    "    with open('airflow_df.csv', 'w') as f:\n",
    "        f.write(airflow_df.to_csv(index=False, header=False))"
   ]
  },
  {
   "cell_type": "code",
   "execution_count": 21,
   "metadata": {},
   "outputs": [],
   "source": [
    "def print_data(ds): \n",
    "    with open('top_10_df.csv', 'r') as f:\n",
    "        top_10_data = f.read()\n",
    "    with open('long_name_df.csv', 'r') as f:\n",
    "        long_name_data = f.read()\n",
    "    with open('airflow_df.csv', 'r') as f:\n",
    "        airflow_data = f.read()\n",
    "    date = ds\n",
    "\n",
    "    print(f'Top 10 domain zones by number of domains {date}')\n",
    "    print(top_10_data)\n",
    "\n",
    "    print(f'Longest domain name {date}')\n",
    "    print(long_name_data)\n",
    "    \n",
    "    print(f'Airflow rank {date}')\n",
    "    print(airflow_data)"
   ]
  },
  {
   "cell_type": "markdown",
   "metadata": {},
   "source": [
    "**Инициализируем DAG**"
   ]
  },
  {
   "cell_type": "code",
   "execution_count": 23,
   "metadata": {},
   "outputs": [],
   "source": [
    "default_args = {\n",
    "    'owner': 'k-parfenova-21',\n",
    "    'depends_on_past': False,\n",
    "    'retries': 2,\n",
    "    'retry_delay': timedelta(minutes=3),\n",
    "    'start_date': datetime(2022, 7, 4),\n",
    "    'schedule_interval': '0 24 * * *'\n",
    "}\n",
    "dag = DAG('Answers_to_Questions', default_args=default_args)"
   ]
  },
  {
   "cell_type": "markdown",
   "metadata": {},
   "source": [
    "**Инициализируем таски**"
   ]
  },
  {
   "cell_type": "code",
   "execution_count": 24,
   "metadata": {},
   "outputs": [],
   "source": [
    "t1 = PythonOperator(task_id='get_data',\n",
    "                    python_callable=get_data,\n",
    "                    dag=dag)\n",
    "\n",
    "t2 = PythonOperator(task_id='get_top_10',\n",
    "                    python_callable=get_top_10,\n",
    "                    dag=dag)\n",
    "\n",
    "t3 = PythonOperator(task_id='get_long_name',\n",
    "                        python_callable=get_long_name,\n",
    "                        dag=dag)\n",
    "\n",
    "t4 = PythonOperator(task_id='get_airflow',\n",
    "                    python_callable=get_airflow,\n",
    "                    dag=dag)\n",
    "\n",
    "t5 = PythonOperator(task_id='print_data',\n",
    "                    python_callable=print_data,\n",
    "                    dag=dag)"
   ]
  },
  {
   "cell_type": "markdown",
   "metadata": {},
   "source": [
    "**Задаем порядок выполнения**"
   ]
  },
  {
   "cell_type": "code",
   "execution_count": 25,
   "metadata": {},
   "outputs": [
    {
     "data": {
      "text/plain": [
       "<Task(PythonOperator): print_data>"
      ]
     },
     "execution_count": 25,
     "metadata": {},
     "output_type": "execute_result"
    }
   ],
   "source": [
    "t1 >> [t2, t3, t4] >> t5"
   ]
  },
  {
   "cell_type": "markdown",
   "metadata": {},
   "source": [
    "**Links**"
   ]
  },
  {
   "cell_type": "markdown",
   "metadata": {},
   "source": [
    "https://airflow.apache.org/docs/apache-airflow/stable/_api/airflow/operators/index.html\n",
    "\n",
    "https://airflow.apache.org/docs/apache-airflow/2.1.2/_api/airflow/models/index.html\n",
    "\n",
    "https://airflow.apache.org/docs/apache-airflow/stable/templates-ref.html"
   ]
  }
 ],
 "metadata": {
  "kernelspec": {
   "display_name": "Python 3",
   "language": "python",
   "name": "python3"
  },
  "language_info": {
   "codemirror_mode": {
    "name": "ipython",
    "version": 3
   },
   "file_extension": ".py",
   "mimetype": "text/x-python",
   "name": "python",
   "nbconvert_exporter": "python",
   "pygments_lexer": "ipython3",
   "version": "3.7.3"
  }
 },
 "nbformat": 4,
 "nbformat_minor": 4
}
