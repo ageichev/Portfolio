{
 "cells": [
  {
   "cell_type": "code",
   "execution_count": 1,
   "metadata": {},
   "outputs": [],
   "source": [
    "import requests\n",
    "import pandas as pd\n",
    "import numpy as np\n",
    "from datetime import timedelta\n",
    "from datetime import datetime\n",
    "\n",
    "from airflow import DAG\n",
    "from airflow.operators.python import PythonOperator"
   ]
  },
  {
   "cell_type": "code",
   "execution_count": 2,
   "metadata": {},
   "outputs": [],
   "source": [
    "TOP_1M_DOMAINS = 'http://s3.amazonaws.com/alexa-static/top-1m.csv.zip'\n",
    "TOP_1M_DOMAINS_FILE = 'top-1m.csv'"
   ]
  },
  {
   "cell_type": "code",
   "execution_count": null,
   "metadata": {},
   "outputs": [],
   "source": [
    "def get_data():\n",
    "   \n",
    "    top_doms = pd.read_csv(TOP_1M_DOMAINS)\n",
    "    top_data = top_doms.to_csv(index=False)\n",
    "\n",
    "    with open(TOP_1M_DOMAINS_FILE, 'w') as f:\n",
    "        f.write(top_data)\n"
   ]
  },
  {
   "cell_type": "code",
   "execution_count": null,
   "metadata": {},
   "outputs": [],
   "source": [
    "def get_zones():\n",
    "    top_data_df = pd.read_csv(TOP_1M_DOMAINS_FILE, names=['rank', 'domain'])\n",
    "    top_data_df['domain_zone'] = top_data_df.domain.str.split('.', 1).str.get(1)\n",
    "    top_data_zones = top_data_df.groupby(['domain_zone'], as_index=False)\\\n",
    "                                .agg({'rank':'count'})\\\n",
    "                                .sort_values('rank', ascending=False).head(10)\\\n",
    "                                .rename(columns={\"rank\": \"number\"})\n",
    "    with open('top_data_zones.csv', 'w') as f:\n",
    "        f.write(top_data_zones.to_csv(index=False, header=False))"
   ]
  },
  {
   "cell_type": "code",
   "execution_count": null,
   "metadata": {},
   "outputs": [],
   "source": [
    "def get_longest():\n",
    "    top_data_df = pd.read_csv(TOP_1M_DOMAINS_FILE, names=['rank', 'domain'])\n",
    "    top_data_df['domain_name']=top_data_df.domain.str.split('.', 1).str.get(0)\n",
    "    lengths = top_data_df['domain_name'].str.len()\n",
    "    argmax = np.where(lengths == lengths.max())[0]\n",
    "    top_data_longest = top_data_df.iloc[argmax[1]]\n",
    "    with open('top_data_longest.csv', 'w') as f:\n",
    "        f.write(top_data_zones.to_csv(index=False, header=False))"
   ]
  },
  {
   "cell_type": "code",
   "execution_count": null,
   "metadata": {},
   "outputs": [],
   "source": [
    "def get_airflow_com():\n",
    "    top_data_df = pd.read_csv(TOP_1M_DOMAINS_FILE, names=['rank', 'domain'])\n",
    "    top_data_airflow = top_data_df[top_data_df['domain'].str.startswith('airflow.com')]\n",
    "    with open('top_data_airflow.csv', 'w') as f:\n",
    "        f.write(top_data_airflow.to_csv(index=False, header=False))"
   ]
  },
  {
   "cell_type": "code",
   "execution_count": null,
   "metadata": {},
   "outputs": [],
   "source": [
    "def print_data(ds):\n",
    "    with open('top_data_get_zones.csv', 'r') as f:\n",
    "        all_data_zones = f.read()\n",
    "    with open('top_data_longest.csv', 'r') as f:\n",
    "        all_data_longest = f.read()\n",
    "    with open('top_data_airflow.csv', 'r') as f:\n",
    "        all_data_airflow = f.read()   \n",
    "        \n",
    "    date = ds\n",
    "\n",
    "    print(f'Top 10 domain zones for date {date}')\n",
    "    print(all_data_zones)\n",
    "\n",
    "    print(f'The longest domain name for date {date}')\n",
    "    print(all_data_longest)\n",
    "    \n",
    "    print(f'The rank of airflow.com for date {date}')\n",
    "    print(all_data_airflow)"
   ]
  },
  {
   "cell_type": "code",
   "execution_count": null,
   "metadata": {},
   "outputs": [],
   "source": [
    "default_args = {\n",
    "    'owner': 'pbatsulin',\n",
    "    'depends_on_past': False,\n",
    "    'retries': 2,\n",
    "    'retry_delay': timedelta(minutes=5),\n",
    "    'start_date': datetime(2022, 11, 14),\n",
    "}\n",
    "schedule_interval = '15 9 * * *'"
   ]
  },
  {
   "cell_type": "code",
   "execution_count": null,
   "metadata": {},
   "outputs": [],
   "source": [
    "dag = DAG('airflow_pbatsulin', default_args=default_args, schedule_interval=schedule_interval)"
   ]
  },
  {
   "cell_type": "code",
   "execution_count": null,
   "metadata": {},
   "outputs": [],
   "source": [
    "t1 = PythonOperator(task_id='get_data',\n",
    "                    python_callable=get_data,\n",
    "                    dag=dag)"
   ]
  },
  {
   "cell_type": "code",
   "execution_count": null,
   "metadata": {},
   "outputs": [],
   "source": [
    "t2_zones = PythonOperator(task_id='get_zones',\n",
    "                    python_callable=get_zones,\n",
    "                    dag=dag)"
   ]
  },
  {
   "cell_type": "code",
   "execution_count": null,
   "metadata": {},
   "outputs": [],
   "source": [
    "t2_longest = PythonOperator(task_id='get_longest',\n",
    "                        python_callable=get_longest,\n",
    "                        dag=dag)"
   ]
  },
  {
   "cell_type": "code",
   "execution_count": null,
   "metadata": {},
   "outputs": [],
   "source": [
    "t2_airflow = PythonOperator(task_id='get_airflow',\n",
    "                        python_callable=get_airflow,\n",
    "                        dag=dag)"
   ]
  },
  {
   "cell_type": "code",
   "execution_count": null,
   "metadata": {},
   "outputs": [],
   "source": [
    "t3 = PythonOperator(task_id='print_data',\n",
    "                    python_callable=print_data,\n",
    "                    dag=dag)"
   ]
  },
  {
   "cell_type": "code",
   "execution_count": null,
   "metadata": {},
   "outputs": [],
   "source": [
    "t1 >> [t2_zones, t2_longest, t2_airflow] >> t3"
   ]
  }
 ],
 "metadata": {
  "kernelspec": {
   "display_name": "Python 3",
   "language": "python",
   "name": "python3"
  },
  "language_info": {
   "codemirror_mode": {
    "name": "ipython",
    "version": 3
   },
   "file_extension": ".py",
   "mimetype": "text/x-python",
   "name": "python",
   "nbconvert_exporter": "python",
   "pygments_lexer": "ipython3",
   "version": "3.7.3"
  }
 },
 "nbformat": 4,
 "nbformat_minor": 4
}
