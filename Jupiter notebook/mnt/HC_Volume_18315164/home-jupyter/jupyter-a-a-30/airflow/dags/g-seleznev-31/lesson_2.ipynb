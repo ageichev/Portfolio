{
 "cells": [
  {
   "cell_type": "code",
   "execution_count": 1,
   "metadata": {},
   "outputs": [],
   "source": [
    "import requests\n",
    "from zipfile import ZipFile\n",
    "from io import BytesIO\n",
    "import pandas as pd\n",
    "from datetime import timedelta\n",
    "from datetime import datetime\n",
    "\n",
    "import pandas as pd\n",
    "from airflow import DAG\n",
    "from airflow.operators.python import PythonOperator"
   ]
  },
  {
   "cell_type": "code",
   "execution_count": 2,
   "metadata": {},
   "outputs": [],
   "source": [
    "TOP_1M_DOMAINS = 'http://s3.amazonaws.com/alexa-static/top-1m.csv.zip'\n",
    "TOP_1M_DOMAINS_FILE = 'top-1m.csv'"
   ]
  },
  {
   "cell_type": "code",
   "execution_count": 55,
   "metadata": {},
   "outputs": [],
   "source": [
    "    def get_data():\n",
    "        top_doms = requests.get(TOP_1M_DOMAINS, stream=True)\n",
    "        zipfile = ZipFile(BytesIO(top_doms.content))\n",
    "        top_data = zipfile.read(TOP_1M_DOMAINS_FILE).decode('utf-8')\n",
    "\n",
    "        with open(TOP_1M_DOMAINS_FILE, 'w') as f:\n",
    "            f.write(top_data)\n",
    "\n",
    "    def top10_domains():   \n",
    "        top_domains = pd.read_csv(TOP_1M_DOMAINS_FILE, names=['rank', 'domain'])\n",
    "        top_domains[\"top_domain\"] = top_domains.domain.str.split(\".\").str[-1]\n",
    "        top_domains = top_domains.top_domain.value_counts().sort_values(ascending=False).reset_index().head(10)\n",
    "        top_domains.rename(columns={\"index\":\"top_domain\",\"top_domain\":\"count\"},inplace = True)\n",
    "        with open(\"top10_domains.csv\", \"w\") as f:\n",
    "            f.write(top_domains.to_csv(index=False, header=False))\n",
    "\n",
    "\n",
    "    def get_long_name():\n",
    "        long_name = pd.read_csv(TOP_1M_DOMAINS_FILE, names=['rank', 'domain'])\n",
    "        long_name['LENGTH']=long_name['domain'].astype(str).str.len()\n",
    "        long_name =long_name.sort_values(\"LENGTH\",ascending=False).domain.head(1).astype(str).iloc[0]\n",
    "        with open('the_longest.csv', 'w') as f:\n",
    "            f.write(long_name) \n",
    "        \n",
    "        \n",
    "    def airflow():   \n",
    "        airflow = pd.read_csv(TOP_1M_DOMAINS_FILE, names=['rank', 'domain'])\n",
    "        airflow = airflow[airflow['domain'] =='airflow.com'][\"rank\"].iat[0].astype(str)\n",
    "        with open(\"top_airflow.csv\", \"w\") as f:\n",
    "            f.write(airflow)          \n",
    "            \n",
    "            \n",
    "    def print_data(ds): # передаем глобальную переменную airflow\n",
    "        with open('top10_domains.csv', 'r') as f:\n",
    "            top_domains = f.read()\n",
    "        with open('the_longest.csv', 'r') as f:\n",
    "            long_name = f.read()\n",
    "        with open('top_airflow.csv', 'r') as f:\n",
    "            airflow = f.read()\n",
    "        date = ds\n",
    "        \n",
    "        print(f'Top domains zone by domain counts for date {date} is')\n",
    "        print(top_domains)\n",
    "        \n",
    "        print(f'The logest domain for date {date} is')\n",
    "        print(long_name)\n",
    "\n",
    "        print(f'Airfow rank for date {date} in')\n",
    "        print(airflow)\n"
   ]
  },
  {
   "cell_type": "code",
   "execution_count": 4,
   "metadata": {},
   "outputs": [],
   "source": [
    "default_args = {\n",
    "    'owner': 'g-seleznev-31',\n",
    "    'depends_on_past': False,\n",
    "    'retries': 2,\n",
    "    'retry_delay': timedelta(minutes=5),\n",
    "    'start_date': datetime(2023, 3, 2),\n",
    "    'schedule_interval': '0 11 * * *'\n",
    "}\n",
    "dag = DAG('top_10_ru_new', default_args=default_args)"
   ]
  },
  {
   "cell_type": "code",
   "execution_count": 5,
   "metadata": {},
   "outputs": [],
   "source": [
    "t1 = PythonOperator(task_id='get_data',\n",
    "                    python_callable=get_data,\n",
    "                    dag=dag)\n",
    "\n",
    "t2 = PythonOperator(task_id='top10_domains',\n",
    "                    python_callable=top10_domains,\n",
    "                    dag=dag)\n",
    "\n",
    "t3 = PythonOperator(task_id='get_long_name',\n",
    "                        python_callable=get_long_name,\n",
    "                        dag=dag)\n",
    "\n",
    "t4 = PythonOperator(task_id='airflow',\n",
    "                    python_callable=airflow,\n",
    "                    dag=dag)\n",
    "t5 = PythonOperator(task_id='print_data',\n",
    "                    python_callable=print_data,\n",
    "                    dag=dag)"
   ]
  },
  {
   "cell_type": "code",
   "execution_count": 6,
   "metadata": {},
   "outputs": [
    {
     "data": {
      "text/plain": [
       "<Task(PythonOperator): print_data>"
      ]
     },
     "execution_count": 6,
     "metadata": {},
     "output_type": "execute_result"
    }
   ],
   "source": [
    "t1 >> [t2,t3,t4] >> t5"
   ]
  }
 ],
 "metadata": {
  "kernelspec": {
   "display_name": "Python 3",
   "language": "python",
   "name": "python3"
  },
  "language_info": {
   "codemirror_mode": {
    "name": "ipython",
    "version": 3
   },
   "file_extension": ".py",
   "mimetype": "text/x-python",
   "name": "python",
   "nbconvert_exporter": "python",
   "pygments_lexer": "ipython3",
   "version": "3.7.3"
  }
 },
 "nbformat": 4,
 "nbformat_minor": 4
}
