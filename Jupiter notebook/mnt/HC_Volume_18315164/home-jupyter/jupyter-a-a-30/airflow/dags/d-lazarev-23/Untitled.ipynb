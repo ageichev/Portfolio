{
 "cells": [
  {
   "cell_type": "code",
   "execution_count": 10,
   "id": "e3a504d8",
   "metadata": {},
   "outputs": [],
   "source": [
    "import pandas as pd\n",
    "from datetime import timedelta\n",
    "from datetime import datetime\n",
    "\n",
    "from airflow.decorators import dag, task\n",
    "\n"
   ]
  },
  {
   "cell_type": "code",
   "execution_count": 16,
   "id": "386f71d5",
   "metadata": {},
   "outputs": [],
   "source": [
    "vgsales = '/var/lib/airflow/airflow.git/dags/a.batalov/vgsales.csv'\n",
    "\n",
    "default_args = {\n",
    "    'owner': 'd.lazarev-23',\n",
    "    'depends_on_past': False,\n",
    "    'retries': 2,\n",
    "    'retry_delay': timedelta(minutes=5),\n",
    "    'start_date': datetime(2022, 10, 8),\n",
    "    'schedule_interval': '0 10 * * *'\n",
    "}\n",
    "\n",
    "y = 1994 + hash(f'd.lazarev-23') % 23\n"
   ]
  },
  {
   "cell_type": "code",
   "execution_count": 26,
   "id": "a43214f2",
   "metadata": {},
   "outputs": [],
   "source": [
    "\n",
    "\n",
    "@dag(default_args=default_args, catchup=False)\n",
    "def d_lazarev_23_dag_lesson3():\n",
    "    \n",
    "    @task()\n",
    "    def read_data():\n",
    "        df = pd.read_csv(vgsales)\n",
    "        return df\n",
    "\n",
    "    @task()\n",
    "    def top_name(df):\n",
    "        return df.query(\"Year == @y\").groupby('Name').sum().Global_Sales.idxmax()\n",
    "\n",
    "    @task()\n",
    "    def genre_eu(df):\n",
    "        return df.query(\"Year == @y\").groupby('Genre').sum().EU_Sales.idxmax()\n",
    "\n",
    "    @task()\n",
    "    def platform_na(df):\n",
    "        return df.query(\"Year == @y & NA_Sales > 1\").groupby('Platform').sum().NA_Sales.idxmax()\n",
    "\n",
    "    @task()\n",
    "    def publisher_jp(df):\n",
    "        return df.query(\"Year == @y\").groupby('Publisher').mean().JP_Sales.idxmax()\n",
    "\n",
    "    @task()\n",
    "    def games_eu_vs_jp(df):\n",
    "        return (df.query(\"Year == @y\").EU_Sales > df.query(\"Year == @y\").JP_Sales).sum()\n",
    "\n",
    "    @task()\n",
    "    def print_data(top_name, genre_eu, platform_na, publisher_jp, games_eu_vs_jp):\n",
    "        print(f'''\n",
    "            Top sales game worldwide in {y}: {top_name}\n",
    "            Top genre in EU in {y}: {eu_genre}\n",
    "            Top platform in North America in {y}: {na_platform}\n",
    "            Top publisher in Japan in {y}: {jp_publisher}\n",
    "            Number of Games EU vs. JP in {y}: {games_eu_vs_jp}''')\n",
    "\n",
    "    df = read_data()\n",
    "\n",
    "    top_name = top_name(df)\n",
    "    genre_eu = genre_eu(df)\n",
    "    platform_na = platform_na(df)\n",
    "    publisher_jp = publisher_jp(df)\n",
    "    games_eu_vs_jp = games_eu_vs_jp(df)\n",
    "\n",
    "    print_data(top_name, genre_eu, platform_na, publisher_jp, games_eu_vs_jp)\n",
    "\n",
    "\n",
    "d_lazarev_23_dag_lesson3 = d_lazarev_23_dag_lesson3()"
   ]
  },
  {
   "cell_type": "code",
   "execution_count": null,
   "id": "5b614931",
   "metadata": {},
   "outputs": [],
   "source": [
    "\n"
   ]
  },
  {
   "cell_type": "code",
   "execution_count": null,
   "id": "e2990bf2",
   "metadata": {},
   "outputs": [],
   "source": []
  },
  {
   "cell_type": "code",
   "execution_count": null,
   "id": "23c9bab3",
   "metadata": {},
   "outputs": [],
   "source": []
  },
  {
   "cell_type": "code",
   "execution_count": null,
   "id": "6e1f22c3",
   "metadata": {},
   "outputs": [],
   "source": []
  },
  {
   "cell_type": "code",
   "execution_count": null,
   "id": "eb00f928",
   "metadata": {},
   "outputs": [],
   "source": []
  }
 ],
 "metadata": {
  "kernelspec": {
   "display_name": "Python 3 (ipykernel)",
   "language": "python",
   "name": "python3"
  },
  "language_info": {
   "codemirror_mode": {
    "name": "ipython",
    "version": 3
   },
   "file_extension": ".py",
   "mimetype": "text/x-python",
   "name": "python",
   "nbconvert_exporter": "python",
   "pygments_lexer": "ipython3",
   "version": "3.9.12"
  }
 },
 "nbformat": 4,
 "nbformat_minor": 5
}
