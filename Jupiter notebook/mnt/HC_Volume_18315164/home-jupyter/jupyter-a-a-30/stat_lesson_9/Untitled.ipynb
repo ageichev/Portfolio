{
 "cells": [
  {
   "cell_type": "code",
   "execution_count": 1,
   "metadata": {
    "pycharm": {
     "name": "#%%\n"
    }
   },
   "outputs": [],
   "source": [
    "import pandas as pd\n",
    "import numpy as np\n",
    "from scipy.stats import norm, mannwhitneyu\n",
    "from tqdm.auto import tqdm\n",
    "\n",
    "pd.set_option('display.max_rows', 500)\n",
    "pd.set_option('display.max_columns', 500)\n",
    "pd.set_option('display.width', 1000)\n",
    "\n",
    "def get_bootstrap(data_column_1, data_column_2, boot_it = 1000, statistic = np.mean, bootstrap_conf_level = 0.95):\n",
    "    boot_len = max([len(data_column_1), len(data_column_2)])\n",
    "    boot_data = []\n",
    "    for i in range(boot_it):\n",
    "        samples_1 = data_column_1.sample(boot_len, replace = True).values\n",
    "        samples_2 = data_column_2.sample(boot_len, replace = True).values\n",
    "        \n",
    "        boot_data.append(statistic(samples_1-samples_2))\n",
    "        \n",
    "    pd_boot_data = pd.DataFrame(boot_data)\n",
    "\n",
    "    p_1 = norm.cdf(x = 0, loc = np.mean(boot_data), scale = np.std(boot_data))\n",
    "    p_2 = norm.cdf(x = 0, loc = -np.mean(boot_data), scale = np.std(boot_data))\n",
    "    p_value = min(p_1, p_2) * 2\n",
    "    \n",
    "    #p_value = min(sum((np.array(boot_data) <= 0)), sum((np.array(boot_data) >= 0))) * 2 / len(boot_data)\n",
    "    return {'p_value': p_value}"
   ]
  },
  {
   "cell_type": "code",
   "execution_count": 3,
   "metadata": {
    "pycharm": {
     "name": "#%%\n"
    }
   },
   "outputs": [
    {
     "data": {
      "text/html": [
       "<div>\n",
       "<style scoped>\n",
       "    .dataframe tbody tr th:only-of-type {\n",
       "        vertical-align: middle;\n",
       "    }\n",
       "\n",
       "    .dataframe tbody tr th {\n",
       "        vertical-align: top;\n",
       "    }\n",
       "\n",
       "    .dataframe thead th {\n",
       "        text-align: right;\n",
       "    }\n",
       "</style>\n",
       "<table border=\"1\" class=\"dataframe\">\n",
       "  <thead>\n",
       "    <tr style=\"text-align: right;\">\n",
       "      <th></th>\n",
       "      <th>Unnamed: 0</th>\n",
       "      <th>value</th>\n",
       "      <th>experimentVariant</th>\n",
       "    </tr>\n",
       "  </thead>\n",
       "  <tbody>\n",
       "    <tr>\n",
       "      <th>0</th>\n",
       "      <td>1</td>\n",
       "      <td>10.380495</td>\n",
       "      <td>Control</td>\n",
       "    </tr>\n",
       "    <tr>\n",
       "      <th>1</th>\n",
       "      <td>2</td>\n",
       "      <td>9.546867</td>\n",
       "      <td>Control</td>\n",
       "    </tr>\n",
       "    <tr>\n",
       "      <th>2</th>\n",
       "      <td>3</td>\n",
       "      <td>11.088215</td>\n",
       "      <td>Control</td>\n",
       "    </tr>\n",
       "    <tr>\n",
       "      <th>3</th>\n",
       "      <td>4</td>\n",
       "      <td>10.147274</td>\n",
       "      <td>Control</td>\n",
       "    </tr>\n",
       "    <tr>\n",
       "      <th>4</th>\n",
       "      <td>5</td>\n",
       "      <td>9.789808</td>\n",
       "      <td>Control</td>\n",
       "    </tr>\n",
       "  </tbody>\n",
       "</table>\n",
       "</div>"
      ],
      "text/plain": [
       "   Unnamed: 0      value experimentVariant\n",
       "0           1  10.380495           Control\n",
       "1           2   9.546867           Control\n",
       "2           3  11.088215           Control\n",
       "3           4  10.147274           Control\n",
       "4           5   9.789808           Control"
      ]
     },
     "execution_count": 3,
     "metadata": {},
     "output_type": "execute_result"
    }
   ],
   "source": [
    "hw = pd.read_csv('/mnt/HC_Volume_18315164/home-jupyter/jupyter-a-a-30/stat_lesson_9/hw_bootstrap.csv', decimal=\",\", sep=\";\")\n",
    "hw.head()"
   ]
  },
  {
   "cell_type": "code",
   "execution_count": 8,
   "metadata": {
    "pycharm": {
     "name": "#%%\n"
    }
   },
   "outputs": [
    {
     "name": "stdout",
     "output_type": "stream",
     "text": [
      "Boot mean: 0.038055732406179314, Boot median: 0.8345645564817015, MW 0.8592148582485579\n",
      "Boot mean: 0.03253316147732088, Boot median: 0.8785591802290611, MW 0.8592148582485579\n",
      "Boot mean: 0.03300309371887371, Boot median: 0.8746091269980647, MW 0.8592148582485579\n",
      "Boot mean: 0.043511116477950335, Boot median: 0.8976058328561722, MW 0.8592148582485579\n",
      "Boot mean: 0.03407938527966393, Boot median: 0.8998362733383636, MW 0.8592148582485579\n",
      "Boot mean: 0.040658370015627575, Boot median: 0.8971696398604363, MW 0.8592148582485579\n",
      "Boot mean: 0.03703260632862535, Boot median: 0.9368056004335247, MW 0.8592148582485579\n",
      "Boot mean: 0.0459837059542177, Boot median: 0.9264141357606335, MW 0.8592148582485579\n",
      "Boot mean: 0.03840373823003397, Boot median: 0.8596727406150881, MW 0.8592148582485579\n",
      "Boot mean: 0.03237386130161351, Boot median: 0.9040509911720119, MW 0.8592148582485579\n"
     ]
    }
   ],
   "source": [
    "# Примените бутстрап (с np.mean) и критерий mann-whitney, а потом сравните p-value\n",
    "\n",
    "x = hw['value'][(hw['experimentVariant'] == 'Control')]\n",
    "y = hw['value'][(hw['experimentVariant'] == 'Treatment')]\n",
    "\n",
    "res_mw = mannwhitneyu(x, y, alternative = 'two-sided')\n",
    "for i in range(10):\n",
    "    res_b_npmean = get_bootstrap(x, y)\n",
    "    res_b_npmedian = get_bootstrap(x, y, statistic = np.median)\n",
    "    \n",
    "    print(f'Boot mean: {res_b_npmean[\"p_value\"]}, Boot median: {res_b_npmedian[\"p_value\"]}, MW {res_mw.pvalue}')"
   ]
  },
  {
   "cell_type": "code",
   "execution_count": null,
   "metadata": {
    "pycharm": {
     "name": "#%%\n"
    }
   },
   "outputs": [],
   "source": []
  }
 ],
 "metadata": {
  "kernelspec": {
   "display_name": "Python 3",
   "language": "python",
   "name": "python3"
  },
  "language_info": {
   "codemirror_mode": {
    "name": "ipython",
    "version": 3
   },
   "file_extension": ".py",
   "mimetype": "text/x-python",
   "name": "python",
   "nbconvert_exporter": "python",
   "pygments_lexer": "ipython3",
   "version": "3.7.3"
  }
 },
 "nbformat": 4,
 "nbformat_minor": 4
}