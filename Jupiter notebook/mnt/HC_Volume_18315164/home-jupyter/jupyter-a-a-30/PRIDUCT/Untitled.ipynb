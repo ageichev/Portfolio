{
 "cells": [
  {
   "cell_type": "code",
   "execution_count": 51,
   "metadata": {},
   "outputs": [],
   "source": [
    "import pandas as pd"
   ]
  },
  {
   "cell_type": "code",
   "execution_count": 52,
   "metadata": {},
   "outputs": [],
   "source": [
    "df = pd.read_csv('/mnt/HC_Volume_18315164/home-jupyter/jupyter-a-a-30/PRIDUCT/KC_case_data .csv')"
   ]
  },
  {
   "cell_type": "code",
   "execution_count": 53,
   "metadata": {},
   "outputs": [
    {
     "name": "stdout",
     "output_type": "stream",
     "text": [
      "date\n",
      "2020-01-31    99161\n",
      "2020-02-29    75032\n",
      "2020-03-31    74623\n",
      "Freq: M, Name: device_id, dtype: int64\n"
     ]
    }
   ],
   "source": [
    "# Convert the date column to a datetime format\n",
    "df['date'] = pd.to_datetime(df['date'])\n",
    "\n",
    "# Group data by date and count the number of unique device_id values\n",
    "mau = df.groupby(pd.Grouper(key='date', freq='M')).device_id.nunique()\n",
    "\n",
    "print(mau)"
   ]
  },
  {
   "cell_type": "code",
   "execution_count": 54,
   "metadata": {},
   "outputs": [
    {
     "data": {
      "text/plain": [
       "80297"
      ]
     },
     "execution_count": 54,
     "metadata": {},
     "output_type": "execute_result"
    }
   ],
   "source": [
    "january_installs = df[df[\"date\"].dt.month == 1][\"event\"].value_counts()[\"app_install\"]\n",
    "january_installs"
   ]
  },
  {
   "cell_type": "code",
   "execution_count": 61,
   "metadata": {},
   "outputs": [
    {
     "data": {
      "text/html": [
       "<div>\n",
       "<style scoped>\n",
       "    .dataframe tbody tr th:only-of-type {\n",
       "        vertical-align: middle;\n",
       "    }\n",
       "\n",
       "    .dataframe tbody tr th {\n",
       "        vertical-align: top;\n",
       "    }\n",
       "\n",
       "    .dataframe thead th {\n",
       "        text-align: right;\n",
       "    }\n",
       "</style>\n",
       "<table border=\"1\" class=\"dataframe\">\n",
       "  <thead>\n",
       "    <tr style=\"text-align: right;\">\n",
       "      <th></th>\n",
       "      <th>date</th>\n",
       "      <th>event</th>\n",
       "      <th>gender</th>\n",
       "      <th>os_name</th>\n",
       "      <th>city</th>\n",
       "      <th>device_id</th>\n",
       "      <th>urm_source</th>\n",
       "      <th>purchase_sum</th>\n",
       "    </tr>\n",
       "  </thead>\n",
       "  <tbody>\n",
       "    <tr>\n",
       "      <th>0</th>\n",
       "      <td>2022-01-01</td>\n",
       "      <td>app_install</td>\n",
       "      <td>male</td>\n",
       "      <td>iOS</td>\n",
       "      <td>New York</td>\n",
       "      <td>device_1</td>\n",
       "      <td>yandex_direct</td>\n",
       "      <td>0.0</td>\n",
       "    </tr>\n",
       "    <tr>\n",
       "      <th>1</th>\n",
       "      <td>2022-01-02</td>\n",
       "      <td>registration</td>\n",
       "      <td>female</td>\n",
       "      <td>Android</td>\n",
       "      <td>San Francisco</td>\n",
       "      <td>device_2</td>\n",
       "      <td>google_ads</td>\n",
       "      <td>0.0</td>\n",
       "    </tr>\n",
       "    <tr>\n",
       "      <th>2</th>\n",
       "      <td>2022-01-03</td>\n",
       "      <td>purchase</td>\n",
       "      <td>male</td>\n",
       "      <td>Android</td>\n",
       "      <td>London</td>\n",
       "      <td>device_3</td>\n",
       "      <td>instagram_ads</td>\n",
       "      <td>100.0</td>\n",
       "    </tr>\n",
       "    <tr>\n",
       "      <th>3</th>\n",
       "      <td>2022-01-04</td>\n",
       "      <td>search</td>\n",
       "      <td>female</td>\n",
       "      <td>iOS</td>\n",
       "      <td>Paris</td>\n",
       "      <td>device_4</td>\n",
       "      <td>vk_ads</td>\n",
       "      <td>0.0</td>\n",
       "    </tr>\n",
       "    <tr>\n",
       "      <th>4</th>\n",
       "      <td>2022-01-05</td>\n",
       "      <td>app_start</td>\n",
       "      <td>male</td>\n",
       "      <td>Android</td>\n",
       "      <td>New York</td>\n",
       "      <td>device_5</td>\n",
       "      <td>referral</td>\n",
       "      <td>0.0</td>\n",
       "    </tr>\n",
       "  </tbody>\n",
       "</table>\n",
       "</div>"
      ],
      "text/plain": [
       "         date         event  gender  os_name           city device_id  \\\n",
       "0  2022-01-01   app_install    male      iOS       New York  device_1   \n",
       "1  2022-01-02  registration  female  Android  San Francisco  device_2   \n",
       "2  2022-01-03      purchase    male  Android         London  device_3   \n",
       "3  2022-01-04        search  female      iOS          Paris  device_4   \n",
       "4  2022-01-05     app_start    male  Android       New York  device_5   \n",
       "\n",
       "      urm_source  purchase_sum  \n",
       "0  yandex_direct           0.0  \n",
       "1     google_ads           0.0  \n",
       "2  instagram_ads         100.0  \n",
       "3         vk_ads           0.0  \n",
       "4       referral           0.0  "
      ]
     },
     "execution_count": 61,
     "metadata": {},
     "output_type": "execute_result"
    }
   ],
   "source": [
    "df.groupby()"
   ]
  },
  {
   "cell_type": "code",
   "execution_count": null,
   "metadata": {},
   "outputs": [],
   "source": []
  }
 ],
 "metadata": {
  "kernelspec": {
   "display_name": "Python 3",
   "language": "python",
   "name": "python3"
  },
  "language_info": {
   "codemirror_mode": {
    "name": "ipython",
    "version": 3
   },
   "file_extension": ".py",
   "mimetype": "text/x-python",
   "name": "python",
   "nbconvert_exporter": "python",
   "pygments_lexer": "ipython3",
   "version": "3.7.3"
  }
 },
 "nbformat": 4,
 "nbformat_minor": 4
}
