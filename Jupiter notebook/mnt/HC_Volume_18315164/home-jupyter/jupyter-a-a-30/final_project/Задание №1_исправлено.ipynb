{
 "cells": [
  {
   "cell_type": "markdown",
   "metadata": {},
   "source": [
    "Для начала, импортируем необходимые библиотеки и загрузим данные из CSV-файлов"
   ]
  },
  {
   "cell_type": "code",
   "execution_count": 2,
   "metadata": {},
   "outputs": [],
   "source": [
    "import pandas as pd\n",
    "\n",
    "reg_data = pd.read_csv('/mnt/HC_Volume_18315164/home-jupyter/jupyter-a-a-30/shared/problem1-reg_data.csv', sep=';')\n",
    "auth_data = pd.read_csv('/mnt/HC_Volume_18315164/home-jupyter/jupyter-a-a-30/shared/problem1-auth_data.csv', sep=';')"
   ]
  },
  {
   "cell_type": "markdown",
   "metadata": {},
   "source": [
    "Теперь, напишем функцию, которая будет считать retention игроков (по дням от даты регистрации игрока)"
   ]
  },
  {
   "cell_type": "code",
   "execution_count": 5,
   "metadata": {},
   "outputs": [],
   "source": [
    "def calculate_retention(reg_data, auth_data, days):\n",
    "    # Преобразуем время регистрации и авторизации в datetime\n",
    "    reg_data['reg_ts'] = pd.to_datetime(reg_data['reg_ts'], unit='s')\n",
    "    auth_data['auth_ts'] = pd.to_datetime(auth_data['auth_ts'], unit='s')\n",
    "\n",
    "    # Объединяем данные о регистрации и авторизации\n",
    "    merged_data = auth_data.merge(reg_data, on='uid', how='left')\n",
    "\n",
    "    # Вычисляем разницу между датами авторизации и регистрации\n",
    "    merged_data['days_passed'] = (merged_data['auth_ts'] - merged_data['reg_ts']).dt.days\n",
    "\n",
    "    # Фильтруем данные по количеству дней\n",
    "    filtered_data = merged_data[merged_data['days_passed'] == days]\n",
    "\n",
    "    # Группируем данные по uid и подсчитываем количество авторизаций\n",
    "    retention_data = filtered_data.groupby('uid').size().reset_index(name='auth_count')\n",
    "\n",
    "    # Вычисляем retention как отношение уникальных пользователей с заданным количеством дней к общему числу уникальных пользователей\n",
    "    retention = len(retention_data) / len(reg_data)\n",
    "\n",
    "    return retention"
   ]
  },
  {
   "cell_type": "markdown",
   "metadata": {},
   "source": [
    "Эту функцию можно использовать для подсчёта retention на определенное количество дней"
   ]
  },
  {
   "cell_type": "code",
   "execution_count": 6,
   "metadata": {},
   "outputs": [
    {
     "name": "stdout",
     "output_type": "stream",
     "text": [
      "Retention for 7 day(s): 4.36%\n"
     ]
    }
   ],
   "source": [
    "days = 7\n",
    "retention = calculate_retention(reg_data, auth_data, days)\n",
    "print(f'Retention for {days} day(s): {retention:.2%}')"
   ]
  },
  {
   "cell_type": "code",
   "execution_count": null,
   "metadata": {},
   "outputs": [],
   "source": []
  }
 ],
 "metadata": {
  "kernelspec": {
   "display_name": "Python 3",
   "language": "python",
   "name": "python3"
  },
  "language_info": {
   "codemirror_mode": {
    "name": "ipython",
    "version": 3
   },
   "file_extension": ".py",
   "mimetype": "text/x-python",
   "name": "python",
   "nbconvert_exporter": "python",
   "pygments_lexer": "ipython3",
   "version": "3.7.3"
  }
 },
 "nbformat": 4,
 "nbformat_minor": 4
}
