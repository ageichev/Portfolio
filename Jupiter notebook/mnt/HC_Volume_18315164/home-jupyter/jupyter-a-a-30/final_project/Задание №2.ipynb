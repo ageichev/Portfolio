{
 "cells": [
  {
   "cell_type": "markdown",
   "metadata": {},
   "source": [
    "Для определения лучшего набора акционных предложений, стоит проанализировать несколько ключевых метрик, таких как ARPU (Average Revenue Per User), CR (Conversion Rate) и ARPPU (Average Revenue Per Paying User)."
   ]
  },
  {
   "cell_type": "markdown",
   "metadata": {},
   "source": [
    "Рассчитаем CR (Conversion Rate):"
   ]
  },
  {
   "cell_type": "code",
   "execution_count": 1,
   "metadata": {},
   "outputs": [
    {
     "name": "stdout",
     "output_type": "stream",
     "text": [
      "Конверсия в покупку (группа a): 0.0095\n",
      "Конверсия в покупку (группа b): 0.0089\n"
     ]
    }
   ],
   "source": [
    "# Данные\n",
    "n_a = 202103\n",
    "n_b = 202667\n",
    "payers_a = 1928\n",
    "payers_b = 1805\n",
    "\n",
    "# Конверсия\n",
    "CR_a = payers_a / n_a\n",
    "CR_b = payers_b / n_b\n",
    "\n",
    "print(f\"Конверсия в покупку (группа a): {CR_a:.4f}\")\n",
    "print(f\"Конверсия в покупку (группа b): {CR_b:.4f}\")"
   ]
  },
  {
   "cell_type": "markdown",
   "metadata": {},
   "source": [
    "ARPU в двух группах отличается на 5 %. Но мы не знаем, случайно ли это отличие или нет."
   ]
  },
  {
   "cell_type": "markdown",
   "metadata": {},
   "source": [
    "В таком случае, для определения статистической значимости между двумя группами, мы можем провести z-тест или t-тест (например, независимый двухвыборочный t-тест). В данной ситуации мы сравниваем между собой две независимые выборки, поэтому подходит независимый двухвыборочный t-тест."
   ]
  },
  {
   "cell_type": "markdown",
   "metadata": {},
   "source": [
    "Загрузим данные и подготовим их для анализа:"
   ]
  },
  {
   "cell_type": "code",
   "execution_count": 2,
   "metadata": {},
   "outputs": [],
   "source": [
    "import pandas as pd\n",
    "import numpy as np\n",
    "from scipy import stats\n",
    "\n",
    "data = pd.read_csv('/mnt/HC_Volume_18315164/home-jupyter/jupyter-a-a-30/final_project/Проект_1_Задание_2.csv', sep=';')\n",
    "\n",
    "revenue_control = data[data['testgroup'] == 'a']['revenue']\n",
    "revenue_test = data[data['testgroup'] == 'b']['revenue']"
   ]
  },
  {
   "cell_type": "markdown",
   "metadata": {},
   "source": [
    "Рассчитаем среднее значение и стандартное отклонение для каждой группы:"
   ]
  },
  {
   "cell_type": "code",
   "execution_count": 3,
   "metadata": {},
   "outputs": [],
   "source": [
    "mean_control = np.mean(revenue_control)\n",
    "mean_test = np.mean(revenue_test)\n",
    "\n",
    "std_control = np.std(revenue_control, ddof=1)\n",
    "std_test = np.std(revenue_test, ddof=1)"
   ]
  },
  {
   "cell_type": "markdown",
   "metadata": {},
   "source": [
    "Проведем независимый двухвыборочный t-тест:"
   ]
  },
  {
   "cell_type": "code",
   "execution_count": 4,
   "metadata": {
    "scrolled": true
   },
   "outputs": [
    {
     "name": "stdout",
     "output_type": "stream",
     "text": [
      "t-statistic: -0.6234876562792212\n",
      "p-value: 0.5329647014130866\n"
     ]
    }
   ],
   "source": [
    "t_stat, p_value = stats.ttest_ind(revenue_control, revenue_test, equal_var=False)\n",
    "print(f't-statistic: {t_stat}')\n",
    "print(f'p-value: {p_value}')"
   ]
  },
  {
   "cell_type": "markdown",
   "metadata": {},
   "source": [
    "В данном случае t-статистика равна -0.6234, что означает, что среднее значение ARPU в контрольной группе ниже, чем в тестовой группе, и разница составляет примерно 0.6235 стандартных отклонений."
   ]
  },
  {
   "cell_type": "markdown",
   "metadata": {},
   "source": [
    "Результаты показывают, что p-value составляет 0.5329, что больше обычного уровня значимости 0.05. Это означает, что мы не можем отклонить нулевую гипотезу о равенстве средних двух групп. В данной ситуации различия в ARPU между контрольной и тестовой группой не являются статистически значимыми.\n",
    "\n",
    "В связи с этим, мы не можем сделать однозначный вывод о том, какой набор акционных предложений является лучшим."
   ]
  },
  {
   "cell_type": "markdown",
   "metadata": {},
   "source": [
    "Можно провести z-тест для сравнения конверсий двух групп, используя уже полученные значения.\n",
    "\n",
    "Используя ранее полученные значения конверсии для каждой группы, проведем z-тест:"
   ]
  },
  {
   "cell_type": "code",
   "execution_count": 5,
   "metadata": {},
   "outputs": [
    {
     "name": "stdout",
     "output_type": "stream",
     "text": [
      "z-score: -2.1080\n",
      "p-value: 0.0350\n"
     ]
    }
   ],
   "source": [
    "from scipy.stats import norm\n",
    "\n",
    "# Данные\n",
    "n_a = 202103\n",
    "n_b = 202667\n",
    "payers_a = 1928\n",
    "payers_b = 1805\n",
    "\n",
    "# Конверсия\n",
    "CR_a = payers_a / n_a\n",
    "CR_b = payers_b / n_b\n",
    "\n",
    "# z-тест\n",
    "pooled_prob = (payers_a + payers_b) / (n_a + n_b)\n",
    "z_score = (CR_b - CR_a) / np.sqrt(pooled_prob * (1 - pooled_prob) * (1 / n_a + 1 / n_b))\n",
    "p_value = norm.sf(abs(z_score)) * 2  # Двусторонний тест\n",
    "\n",
    "print(f\"z-score: {z_score:.4f}\")\n",
    "print(f\"p-value: {p_value:.4f}\")"
   ]
  },
  {
   "cell_type": "markdown",
   "metadata": {},
   "source": [
    "В данном случае, z-статистика равна 2.108, что означает, что разница между конверсиями двух групп составляет примерно 2.1 стандартных отклонений."
   ]
  },
  {
   "cell_type": "markdown",
   "metadata": {},
   "source": [
    "В данном случае p-value равно 0.035, что меньше стандартного порога значимости 0.05."
   ]
  },
  {
   "cell_type": "markdown",
   "metadata": {},
   "source": [
    "Таким образом, мы можем сделать вывод, что различия между конверсиями в платящих для контрольной и тестовой групп статистически значимы. Поскольку z-статистика положительна, это означает, что конверсия в платящих выше в контрольной группе по сравнению с тестовой группой. Следовательно, на основе этой метрики можно предположить, что набор акционных предложений в контрольной группе оказался лучше для привлечения платящих пользователей."
   ]
  },
  {
   "cell_type": "markdown",
   "metadata": {},
   "source": [
    "Рассчитаем ARPPU (Average Revenue Per Paying User) для контрольной и тестовой групп. ARPPU — это средний доход от каждого платящего пользователя.\n",
    "\n",
    "Сначала найдем сумму доходов от платящих пользователей в каждой группе, затем поделим их на количество платящих пользователей."
   ]
  },
  {
   "cell_type": "code",
   "execution_count": 6,
   "metadata": {},
   "outputs": [
    {
     "name": "stdout",
     "output_type": "stream",
     "text": [
      "ARPPU (Control group): 2664.00\n",
      "ARPPU (Test group): 3003.66\n"
     ]
    }
   ],
   "source": [
    "paying_users_control = (revenue_control > 0).sum()\n",
    "paying_users_test = (revenue_test > 0).sum()\n",
    "\n",
    "total_revenue_control = revenue_control[revenue_control > 0].sum()\n",
    "total_revenue_test = revenue_test[revenue_test > 0].sum()\n",
    "\n",
    "ARPPU_control = total_revenue_control / paying_users_control\n",
    "ARPPU_test = total_revenue_test / paying_users_test\n",
    "\n",
    "print(f'ARPPU (Control group): {ARPPU_control:.2f}')\n",
    "print(f'ARPPU (Test group): {ARPPU_test:.2f}')"
   ]
  },
  {
   "cell_type": "markdown",
   "metadata": {},
   "source": [
    "Теперь у нас есть значения ARPPU для контрольной и тестовой групп. ARPPU (Average Revenue Per Paying User) — это средний доход от каждого платящего пользователя."
   ]
  },
  {
   "cell_type": "markdown",
   "metadata": {},
   "source": [
    "Согласно этим результатам, ARPPU для тестовой группы выше, чем для контрольной группы. Это может указывать на то, что акционные предложения в тестовой группе оказались более привлекательными для платящих пользователей, что привело к увеличению среднего дохода с каждого из них."
   ]
  },
  {
   "cell_type": "markdown",
   "metadata": {},
   "source": [
    "Однако, прежде чем делать окончательный вывод, может быть полезно проверить статистическую значимость различий между ARPPU контрольной и тестовой групп с использованием t-теста или z-теста, как мы делали ранее для других метрик. Это поможет убедиться, что разница между значениями ARPPU не является случайной и действительно связана с разными акционными предложениями."
   ]
  },
  {
   "cell_type": "markdown",
   "metadata": {},
   "source": [
    "Для проверки статистической значимости различий между ARPPU контрольной и тестовой групп, мы можем использовать t-тест. В данном случае мы сравниваем среднее значение дохода от платящих пользователей в двух группах.\n",
    "\n",
    "Сначала мы создадим две новые выборки, содержащие только платящих пользователей из каждой группы:"
   ]
  },
  {
   "cell_type": "code",
   "execution_count": 7,
   "metadata": {},
   "outputs": [],
   "source": [
    "paying_revenue_control = revenue_control[revenue_control > 0]\n",
    "paying_revenue_test = revenue_test[revenue_test > 0]"
   ]
  },
  {
   "cell_type": "markdown",
   "metadata": {},
   "source": [
    "Теперь мы можем провести t-тест для этих двух выборок:"
   ]
  },
  {
   "cell_type": "code",
   "execution_count": 8,
   "metadata": {},
   "outputs": [
    {
     "name": "stdout",
     "output_type": "stream",
     "text": [
      "t-statistic: -1.6446302664300838\n",
      "p-value: 0.10020780398916015\n"
     ]
    }
   ],
   "source": [
    "t_stat, p_value = stats.ttest_ind(paying_revenue_control, paying_revenue_test, equal_var=False)\n",
    "print(f't-statistic: {t_stat}')\n",
    "print(f'p-value: {p_value}')"
   ]
  },
  {
   "cell_type": "markdown",
   "metadata": {},
   "source": [
    "Таким образом, хотя ARPPU тестовой группы выше, чем контрольной группы, различия между ними не достаточно весомые, чтобы делать вывод о том, что акционные предложения в тестовой группе действительно эффективнее."
   ]
  },
  {
   "cell_type": "markdown",
   "metadata": {},
   "source": [
    "Исходя из расчетов, которые мы провели, можно сделать следующие выводы:\n",
    "\n",
    "Конверсия в платящих пользователей (CR) выше в контрольной группе по сравнению с тестовой группой. Различия в конверсии статистически значимы, что указывает на то, что акционные предложения в контрольной группе привлекли больше платящих пользователей.\n",
    "\n",
    "Средний доход от каждого платящего пользователя (ARPPU) выше в тестовой группе по сравнению с контрольной группой. Однако статистически значимых различий между этими значениями обнаружено не было, поэтому мы не можем с уверенностью сказать, что акционные предложения в тестовой группе привели к увеличению среднего дохода от каждого платящего пользователя.\n",
    "\n",
    "Таким образом, основываясь на имеющихся данных и расчетах, можно сделать вывод, что акционные предложения в контрольной группе были более эффективными в привлечении платящих пользователей. Однако, поскольку разница в ARPPU между группами не является статистически значимой, мы не можем утверждать, что одна из групп превосходит другую в смысле среднего дохода от каждого платящего пользователя."
   ]
  },
  {
   "cell_type": "code",
   "execution_count": null,
   "metadata": {},
   "outputs": [],
   "source": []
  },
  {
   "cell_type": "code",
   "execution_count": null,
   "metadata": {},
   "outputs": [],
   "source": []
  }
 ],
 "metadata": {
  "kernelspec": {
   "display_name": "Python 3",
   "language": "python",
   "name": "python3"
  },
  "language_info": {
   "codemirror_mode": {
    "name": "ipython",
    "version": 3
   },
   "file_extension": ".py",
   "mimetype": "text/x-python",
   "name": "python",
   "nbconvert_exporter": "python",
   "pygments_lexer": "ipython3",
   "version": "3.7.3"
  }
 },
 "nbformat": 4,
 "nbformat_minor": 4
}
