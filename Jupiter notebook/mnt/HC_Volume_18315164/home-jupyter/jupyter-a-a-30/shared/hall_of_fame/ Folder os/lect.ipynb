{
 "cells": [
  {
   "cell_type": "code",
   "execution_count": 2,
   "metadata": {},
   "outputs": [],
   "source": [
    "import pandas as pd\n",
    "import numpy as np\n",
    "%matplotlib inline\n",
    "import matplotlib.pyplot as plt\n",
    "import seaborn as sns\n",
    "import plotly.express as px"
   ]
  },
  {
   "cell_type": "code",
   "execution_count": 3,
   "metadata": {},
   "outputs": [],
   "source": [
    "sales_team =pd.read_csv('/home/jupyter-o-zabodaeva-19/shared/sales_team.csv')\n",
    "order_leads=pd.read_csv('/home/jupyter-o-zabodaeva-19/shared/order_leads.csv')\n",
    "invoices   =pd.read_csv('/home/jupyter-o-zabodaeva-19/shared/invoices.csv')                        "
   ]
  },
  {
   "cell_type": "code",
   "execution_count": 4,
   "metadata": {},
   "outputs": [
    {
     "data": {
      "text/html": [
       "<div>\n",
       "<style scoped>\n",
       "    .dataframe tbody tr th:only-of-type {\n",
       "        vertical-align: middle;\n",
       "    }\n",
       "\n",
       "    .dataframe tbody tr th {\n",
       "        vertical-align: top;\n",
       "    }\n",
       "\n",
       "    .dataframe thead th {\n",
       "        text-align: right;\n",
       "    }\n",
       "</style>\n",
       "<table border=\"1\" class=\"dataframe\">\n",
       "  <thead>\n",
       "    <tr style=\"text-align: right;\">\n",
       "      <th></th>\n",
       "      <th>Sales Rep</th>\n",
       "      <th>Sales Rep Id</th>\n",
       "      <th>Company Name</th>\n",
       "      <th>Company Id</th>\n",
       "    </tr>\n",
       "  </thead>\n",
       "  <tbody>\n",
       "    <tr>\n",
       "      <th>0</th>\n",
       "      <td>William Taylor</td>\n",
       "      <td>ZTZA0ZLYZR85PTUJ</td>\n",
       "      <td>Melancholy Social-Role</td>\n",
       "      <td>D0AUXPP07H6AVSGD</td>\n",
       "    </tr>\n",
       "    <tr>\n",
       "      <th>1</th>\n",
       "      <td>William Taylor</td>\n",
       "      <td>ZTZA0ZLYZR85PTUJ</td>\n",
       "      <td>Pee-Wee Pigeon</td>\n",
       "      <td>TJW99R4RWH02INII</td>\n",
       "    </tr>\n",
       "    <tr>\n",
       "      <th>2</th>\n",
       "      <td>William Taylor</td>\n",
       "      <td>ZTZA0ZLYZR85PTUJ</td>\n",
       "      <td>Vaginal 36-Year-Old</td>\n",
       "      <td>3S20IO1O1DYXMUNU</td>\n",
       "    </tr>\n",
       "    <tr>\n",
       "      <th>3</th>\n",
       "      <td>William Taylor</td>\n",
       "      <td>ZTZA0ZLYZR85PTUJ</td>\n",
       "      <td>Unhurried Musician'S</td>\n",
       "      <td>FDWW0TQRPGMVI2A7</td>\n",
       "    </tr>\n",
       "    <tr>\n",
       "      <th>4</th>\n",
       "      <td>William Taylor</td>\n",
       "      <td>ZTZA0ZLYZR85PTUJ</td>\n",
       "      <td>Comprehensive Lists</td>\n",
       "      <td>C30FY83UNLVBA0O3</td>\n",
       "    </tr>\n",
       "  </tbody>\n",
       "</table>\n",
       "</div>"
      ],
      "text/plain": [
       "        Sales Rep      Sales Rep Id            Company Name        Company Id\n",
       "0  William Taylor  ZTZA0ZLYZR85PTUJ  Melancholy Social-Role  D0AUXPP07H6AVSGD\n",
       "1  William Taylor  ZTZA0ZLYZR85PTUJ          Pee-Wee Pigeon  TJW99R4RWH02INII\n",
       "2  William Taylor  ZTZA0ZLYZR85PTUJ     Vaginal 36-Year-Old  3S20IO1O1DYXMUNU\n",
       "3  William Taylor  ZTZA0ZLYZR85PTUJ    Unhurried Musician'S  FDWW0TQRPGMVI2A7\n",
       "4  William Taylor  ZTZA0ZLYZR85PTUJ     Comprehensive Lists  C30FY83UNLVBA0O3"
      ]
     },
     "execution_count": 4,
     "metadata": {},
     "output_type": "execute_result"
    }
   ],
   "source": [
    "sales_team.head()"
   ]
  },
  {
   "cell_type": "code",
   "execution_count": 5,
   "metadata": {},
   "outputs": [
    {
     "data": {
      "text/html": [
       "<div>\n",
       "<style scoped>\n",
       "    .dataframe tbody tr th:only-of-type {\n",
       "        vertical-align: middle;\n",
       "    }\n",
       "\n",
       "    .dataframe tbody tr th {\n",
       "        vertical-align: top;\n",
       "    }\n",
       "\n",
       "    .dataframe thead th {\n",
       "        text-align: right;\n",
       "    }\n",
       "</style>\n",
       "<table border=\"1\" class=\"dataframe\">\n",
       "  <thead>\n",
       "    <tr style=\"text-align: right;\">\n",
       "      <th></th>\n",
       "      <th>Order Id</th>\n",
       "      <th>Company Id</th>\n",
       "      <th>Company Name</th>\n",
       "      <th>Date</th>\n",
       "      <th>Order Value</th>\n",
       "      <th>Converted</th>\n",
       "    </tr>\n",
       "  </thead>\n",
       "  <tbody>\n",
       "    <tr>\n",
       "      <th>0</th>\n",
       "      <td>HZSXLI1IS9RGABZW</td>\n",
       "      <td>D0AUXPP07H6AVSGD</td>\n",
       "      <td>Melancholy Social-Role</td>\n",
       "      <td>2017-10-13</td>\n",
       "      <td>6952</td>\n",
       "      <td>0</td>\n",
       "    </tr>\n",
       "    <tr>\n",
       "      <th>1</th>\n",
       "      <td>582WPS3OW8T6YT0R</td>\n",
       "      <td>D0AUXPP07H6AVSGD</td>\n",
       "      <td>Melancholy Social-Role</td>\n",
       "      <td>2017-09-02</td>\n",
       "      <td>7930</td>\n",
       "      <td>0</td>\n",
       "    </tr>\n",
       "    <tr>\n",
       "      <th>2</th>\n",
       "      <td>KRF65MQZBOYG4Y9T</td>\n",
       "      <td>D0AUXPP07H6AVSGD</td>\n",
       "      <td>Melancholy Social-Role</td>\n",
       "      <td>2016-12-21</td>\n",
       "      <td>5538</td>\n",
       "      <td>1</td>\n",
       "    </tr>\n",
       "    <tr>\n",
       "      <th>3</th>\n",
       "      <td>N3EDZ5V1WGSWW828</td>\n",
       "      <td>D0AUXPP07H6AVSGD</td>\n",
       "      <td>Melancholy Social-Role</td>\n",
       "      <td>2018-06-03</td>\n",
       "      <td>1113</td>\n",
       "      <td>0</td>\n",
       "    </tr>\n",
       "    <tr>\n",
       "      <th>4</th>\n",
       "      <td>QXBC8COXEXGFSPLP</td>\n",
       "      <td>D0AUXPP07H6AVSGD</td>\n",
       "      <td>Melancholy Social-Role</td>\n",
       "      <td>2014-07-26</td>\n",
       "      <td>4596</td>\n",
       "      <td>0</td>\n",
       "    </tr>\n",
       "  </tbody>\n",
       "</table>\n",
       "</div>"
      ],
      "text/plain": [
       "           Order Id        Company Id            Company Name        Date  \\\n",
       "0  HZSXLI1IS9RGABZW  D0AUXPP07H6AVSGD  Melancholy Social-Role  2017-10-13   \n",
       "1  582WPS3OW8T6YT0R  D0AUXPP07H6AVSGD  Melancholy Social-Role  2017-09-02   \n",
       "2  KRF65MQZBOYG4Y9T  D0AUXPP07H6AVSGD  Melancholy Social-Role  2016-12-21   \n",
       "3  N3EDZ5V1WGSWW828  D0AUXPP07H6AVSGD  Melancholy Social-Role  2018-06-03   \n",
       "4  QXBC8COXEXGFSPLP  D0AUXPP07H6AVSGD  Melancholy Social-Role  2014-07-26   \n",
       "\n",
       "   Order Value  Converted  \n",
       "0         6952          0  \n",
       "1         7930          0  \n",
       "2         5538          1  \n",
       "3         1113          0  \n",
       "4         4596          0  "
      ]
     },
     "execution_count": 5,
     "metadata": {},
     "output_type": "execute_result"
    }
   ],
   "source": [
    "order_leads.head()"
   ]
  },
  {
   "cell_type": "code",
   "execution_count": 6,
   "metadata": {},
   "outputs": [
    {
     "data": {
      "text/html": [
       "<div>\n",
       "<style scoped>\n",
       "    .dataframe tbody tr th:only-of-type {\n",
       "        vertical-align: middle;\n",
       "    }\n",
       "\n",
       "    .dataframe tbody tr th {\n",
       "        vertical-align: top;\n",
       "    }\n",
       "\n",
       "    .dataframe thead th {\n",
       "        text-align: right;\n",
       "    }\n",
       "</style>\n",
       "<table border=\"1\" class=\"dataframe\">\n",
       "  <thead>\n",
       "    <tr style=\"text-align: right;\">\n",
       "      <th></th>\n",
       "      <th>Meal Id</th>\n",
       "      <th>Company Id</th>\n",
       "      <th>Date of Meal</th>\n",
       "      <th>Participants</th>\n",
       "      <th>Meal Price</th>\n",
       "    </tr>\n",
       "  </thead>\n",
       "  <tbody>\n",
       "    <tr>\n",
       "      <th>0</th>\n",
       "      <td>QBGU1W8BRZZFHYUZ</td>\n",
       "      <td>D0AUXPP07H6AVSGD</td>\n",
       "      <td>2017-10-09 21:00:00</td>\n",
       "      <td>['Violet Medina']</td>\n",
       "      <td>598.0</td>\n",
       "    </tr>\n",
       "    <tr>\n",
       "      <th>1</th>\n",
       "      <td>QFNO07V7P3BTJSDK</td>\n",
       "      <td>D0AUXPP07H6AVSGD</td>\n",
       "      <td>2018-06-07 07:00:00</td>\n",
       "      <td>['Connie Harper']</td>\n",
       "      <td>89.0</td>\n",
       "    </tr>\n",
       "    <tr>\n",
       "      <th>2</th>\n",
       "      <td>ZDQ15BT9LLWUQ6M8</td>\n",
       "      <td>D0AUXPP07H6AVSGD</td>\n",
       "      <td>2014-12-18 20:00:00</td>\n",
       "      <td>['Arthur Lopez']</td>\n",
       "      <td>295.0</td>\n",
       "    </tr>\n",
       "    <tr>\n",
       "      <th>3</th>\n",
       "      <td>GL1ZVDU85Q9EO4TA</td>\n",
       "      <td>D0AUXPP07H6AVSGD</td>\n",
       "      <td>2018-03-05 12:00:00</td>\n",
       "      <td>['Violet Medina' 'Arthur Lopez']</td>\n",
       "      <td>193.0</td>\n",
       "    </tr>\n",
       "    <tr>\n",
       "      <th>4</th>\n",
       "      <td>42GWYA5XD8NVINY3</td>\n",
       "      <td>D0AUXPP07H6AVSGD</td>\n",
       "      <td>2017-06-17 08:00:00</td>\n",
       "      <td>['Arthur Lopez']</td>\n",
       "      <td>348.0</td>\n",
       "    </tr>\n",
       "  </tbody>\n",
       "</table>\n",
       "</div>"
      ],
      "text/plain": [
       "            Meal Id        Company Id         Date of Meal  \\\n",
       "0  QBGU1W8BRZZFHYUZ  D0AUXPP07H6AVSGD  2017-10-09 21:00:00   \n",
       "1  QFNO07V7P3BTJSDK  D0AUXPP07H6AVSGD  2018-06-07 07:00:00   \n",
       "2  ZDQ15BT9LLWUQ6M8  D0AUXPP07H6AVSGD  2014-12-18 20:00:00   \n",
       "3  GL1ZVDU85Q9EO4TA  D0AUXPP07H6AVSGD  2018-03-05 12:00:00   \n",
       "4  42GWYA5XD8NVINY3  D0AUXPP07H6AVSGD  2017-06-17 08:00:00   \n",
       "\n",
       "                       Participants  Meal Price  \n",
       "0                 ['Violet Medina']       598.0  \n",
       "1                 ['Connie Harper']        89.0  \n",
       "2                  ['Arthur Lopez']       295.0  \n",
       "3  ['Violet Medina' 'Arthur Lopez']       193.0  \n",
       "4                  ['Arthur Lopez']       348.0  "
      ]
     },
     "execution_count": 6,
     "metadata": {},
     "output_type": "execute_result"
    }
   ],
   "source": [
    "invoices.head()"
   ]
  },
  {
   "cell_type": "code",
   "execution_count": 8,
   "metadata": {},
   "outputs": [],
   "source": [
    "cr_by_day=order_leads.groupby('Date').agg({'Converted':'mean'})\\\n",
    ".rename(columns={'Converted':'CR'}).sort_values('Date')"
   ]
  },
  {
   "cell_type": "code",
   "execution_count": 9,
   "metadata": {},
   "outputs": [
    {
     "data": {
      "text/plain": [
       "<matplotlib.axes._subplots.AxesSubplot at 0x7f3ed752ccf8>"
      ]
     },
     "execution_count": 9,
     "metadata": {},
     "output_type": "execute_result"
    },
    {
     "data": {
      "image/png": "[encoded data removed]",
      "text/plain": [
       "<Figure size 432x288 with 1 Axes>"
      ]
     },
     "metadata": {
      "needs_background": "light"
     },
     "output_type": "display_data"
    }
   ],
   "source": [
    "cr_by_day.plot()"
   ]
  },
  {
   "cell_type": "code",
   "execution_count": 35,
   "metadata": {},
   "outputs": [
    {
     "data": {
      "text/html": [
       "<div>\n",
       "<style scoped>\n",
       "    .dataframe tbody tr th:only-of-type {\n",
       "        vertical-align: middle;\n",
       "    }\n",
       "\n",
       "    .dataframe tbody tr th {\n",
       "        vertical-align: top;\n",
       "    }\n",
       "\n",
       "    .dataframe thead th {\n",
       "        text-align: right;\n",
       "    }\n",
       "</style>\n",
       "<table border=\"1\" class=\"dataframe\">\n",
       "  <thead>\n",
       "    <tr style=\"text-align: right;\">\n",
       "      <th></th>\n",
       "      <th>driver_score</th>\n",
       "      <th>percentage</th>\n",
       "    </tr>\n",
       "  </thead>\n",
       "  <tbody>\n",
       "    <tr>\n",
       "      <th>2</th>\n",
       "      <td>0.0</td>\n",
       "      <td>14.30</td>\n",
       "    </tr>\n",
       "    <tr>\n",
       "      <th>4</th>\n",
       "      <td>1.0</td>\n",
       "      <td>1.23</td>\n",
       "    </tr>\n",
       "    <tr>\n",
       "      <th>5</th>\n",
       "      <td>2.0</td>\n",
       "      <td>0.81</td>\n",
       "    </tr>\n",
       "    <tr>\n",
       "      <th>3</th>\n",
       "      <td>3.0</td>\n",
       "      <td>2.97</td>\n",
       "    </tr>\n",
       "    <tr>\n",
       "      <th>1</th>\n",
       "      <td>4.0</td>\n",
       "      <td>21.88</td>\n",
       "    </tr>\n",
       "    <tr>\n",
       "      <th>0</th>\n",
       "      <td>5.0</td>\n",
       "      <td>58.81</td>\n",
       "    </tr>\n",
       "  </tbody>\n",
       "</table>\n",
       "</div>"
      ],
      "text/plain": [
       "   driver_score  percentage\n",
       "2           0.0       14.30\n",
       "4           1.0        1.23\n",
       "5           2.0        0.81\n",
       "3           3.0        2.97\n",
       "1           4.0       21.88\n",
       "0           5.0       58.81"
      ]
     },
     "execution_count": 35,
     "metadata": {},
     "output_type": "execute_result"
    }
   ],
   "source": []
  },
  {
   "cell_type": "code",
   "execution_count": 18,
   "metadata": {},
   "outputs": [
    {
     "data": {
      "text/plain": [
       "iPhone     42.0\n",
       "web        33.0\n",
       "Android    21.0\n",
       "iPad        2.0\n",
       "Wap         1.0\n",
       "Name: source, dtype: float64"
      ]
     },
     "execution_count": 18,
     "metadata": {},
     "output_type": "execute_result"
    }
   ],
   "source": []
  },
  {
   "cell_type": "code",
   "execution_count": 39,
   "metadata": {},
   "outputs": [
    {
     "data": {
      "image/png": "[encoded data removed]",
      "text/plain": [
       "<Figure size 432x288 with 1 Axes>"
      ]
     },
     "metadata": {
      "needs_background": "light"
     },
     "output_type": "display_data"
    }
   ],
   "source": []
  },
  {
   "cell_type": "code",
   "execution_count": null,
   "metadata": {},
   "outputs": [],
   "source": []
  },
  {
   "cell_type": "code",
   "execution_count": 40,
   "metadata": {},
   "outputs": [],
   "source": []
  },
  {
   "cell_type": "code",
   "execution_count": 41,
   "metadata": {},
   "outputs": [
    {
     "data": {
      "text/html": [
       "<div>\n",
       "<style scoped>\n",
       "    .dataframe tbody tr th:only-of-type {\n",
       "        vertical-align: middle;\n",
       "    }\n",
       "\n",
       "    .dataframe tbody tr th {\n",
       "        vertical-align: top;\n",
       "    }\n",
       "\n",
       "    .dataframe thead th {\n",
       "        text-align: right;\n",
       "    }\n",
       "</style>\n",
       "<table border=\"1\" class=\"dataframe\">\n",
       "  <thead>\n",
       "    <tr style=\"text-align: right;\">\n",
       "      <th></th>\n",
       "      <th>rider_score</th>\n",
       "      <th>percentage</th>\n",
       "    </tr>\n",
       "  </thead>\n",
       "  <tbody>\n",
       "    <tr>\n",
       "      <th>2</th>\n",
       "      <td>0.0</td>\n",
       "      <td>2.29</td>\n",
       "    </tr>\n",
       "    <tr>\n",
       "      <th>4</th>\n",
       "      <td>1.0</td>\n",
       "      <td>0.21</td>\n",
       "    </tr>\n",
       "    <tr>\n",
       "      <th>5</th>\n",
       "      <td>2.0</td>\n",
       "      <td>0.19</td>\n",
       "    </tr>\n",
       "    <tr>\n",
       "      <th>3</th>\n",
       "      <td>3.0</td>\n",
       "      <td>1.38</td>\n",
       "    </tr>\n",
       "    <tr>\n",
       "      <th>1</th>\n",
       "      <td>4.0</td>\n",
       "      <td>8.83</td>\n",
       "    </tr>\n",
       "    <tr>\n",
       "      <th>0</th>\n",
       "      <td>5.0</td>\n",
       "      <td>87.10</td>\n",
       "    </tr>\n",
       "  </tbody>\n",
       "</table>\n",
       "</div>"
      ],
      "text/plain": [
       "   rider_score  percentage\n",
       "2          0.0        2.29\n",
       "4          1.0        0.21\n",
       "5          2.0        0.19\n",
       "3          3.0        1.38\n",
       "1          4.0        8.83\n",
       "0          5.0       87.10"
      ]
     },
     "execution_count": 41,
     "metadata": {},
     "output_type": "execute_result"
    }
   ],
   "source": []
  },
  {
   "cell_type": "code",
   "execution_count": 42,
   "metadata": {},
   "outputs": [
    {
     "data": {
      "image/png": "[encoded data removed]",
      "text/plain": [
       "<Figure size 432x288 with 1 Axes>"
      ]
     },
     "metadata": {
      "needs_background": "light"
     },
     "output_type": "display_data"
    }
   ],
   "source": []
  },
  {
   "cell_type": "code",
   "execution_count": null,
   "metadata": {},
   "outputs": [],
   "source": []
  }
 ],
 "metadata": {
  "kernelspec": {
   "display_name": "Python 3",
   "language": "python",
   "name": "python3"
  },
  "language_info": {
   "codemirror_mode": {
    "name": "ipython",
    "version": 3
   },
   "file_extension": ".py",
   "mimetype": "text/x-python",
   "name": "python",
   "nbconvert_exporter": "python",
   "pygments_lexer": "ipython3",
   "version": "3.7.3"
  }
 },
 "nbformat": 4,
 "nbformat_minor": 4
}
