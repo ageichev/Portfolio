{
 "cells": [
  {
   "cell_type": "code",
   "execution_count": 1,
   "id": "236089b8",
   "metadata": {},
   "outputs": [],
   "source": [
    "# import numpy          as np\n",
    "import pandas         as pd\n",
    "# import seaborn        as sns\n",
    "# import plotly.express as px\n",
    "import re"
   ]
  },
  {
   "cell_type": "code",
   "execution_count": 2,
   "id": "6a90c046",
   "metadata": {},
   "outputs": [],
   "source": [
    "# sns.set(\n",
    "#     font_scale=2,\n",
    "#     style=\"whitegrid\",\n",
    "#     rc={'figure.figsize':(20,7)}\n",
    "#         )"
   ]
  },
  {
   "cell_type": "markdown",
   "id": "fb9c55d1",
   "metadata": {},
   "source": [
    "# Дополнительный проект\n",
    "В данном проекте вы поработаете с довольно нетипичными для аналитика данными: gff файлом, который описывает геном мухи (описание формата можно найти [здесь](http://gmod.org/wiki/GFF3 \"Жми сюда\")).\n",
    "\n",
    "При его выполнении вам может понадобиться часть конспекта про работу со строковыми данными, а именно – про строковые методы серий."
   ]
  },
  {
   "cell_type": "markdown",
   "id": "9f968c92",
   "metadata": {},
   "source": [
    "## Задачи:\n",
    "1. Выделите из колонки attributes значение атрибута Parent. Т.е. если там записано Parent=x, то нам нужен x. **Выясните, какое из этих значений является самым частым**\n",
    "1. Постройте распределение встречаемости значений в столбце type\n",
    "\n",
    "Данные можно достать либо с JupyterHub, либо [отсюда](https://stepik.org/media/attachments/course/72204/gff.tsv \"А теперь жми сюда\")"
   ]
  },
  {
   "cell_type": "code",
   "execution_count": 3,
   "id": "e285d1c1",
   "metadata": {},
   "outputs": [
    {
     "data": {
      "text/html": [
       "<div>\n",
       "<style scoped>\n",
       "    .dataframe tbody tr th:only-of-type {\n",
       "        vertical-align: middle;\n",
       "    }\n",
       "\n",
       "    .dataframe tbody tr th {\n",
       "        vertical-align: top;\n",
       "    }\n",
       "\n",
       "    .dataframe thead th {\n",
       "        text-align: right;\n",
       "    }\n",
       "</style>\n",
       "<table border=\"1\" class=\"dataframe\">\n",
       "  <thead>\n",
       "    <tr style=\"text-align: right;\">\n",
       "      <th></th>\n",
       "      <th>seq_id</th>\n",
       "      <th>source</th>\n",
       "      <th>type</th>\n",
       "      <th>start</th>\n",
       "      <th>end</th>\n",
       "      <th>score</th>\n",
       "      <th>strand</th>\n",
       "      <th>phase</th>\n",
       "      <th>attributes</th>\n",
       "    </tr>\n",
       "  </thead>\n",
       "  <tbody>\n",
       "    <tr>\n",
       "      <th>0</th>\n",
       "      <td>chr17</td>\n",
       "      <td>RefSeq</td>\n",
       "      <td>exon</td>\n",
       "      <td>6811330</td>\n",
       "      <td>6811453</td>\n",
       "      <td>.</td>\n",
       "      <td>+</td>\n",
       "      <td>.</td>\n",
       "      <td>Parent=XM_001475631.1</td>\n",
       "    </tr>\n",
       "    <tr>\n",
       "      <th>1</th>\n",
       "      <td>chr17</td>\n",
       "      <td>RefSeq</td>\n",
       "      <td>CDS</td>\n",
       "      <td>6808204</td>\n",
       "      <td>6808245</td>\n",
       "      <td>.</td>\n",
       "      <td>+</td>\n",
       "      <td>0</td>\n",
       "      <td>Name=CDS:NC_000083.5:LOC100040603;Parent=XM_00...</td>\n",
       "    </tr>\n",
       "    <tr>\n",
       "      <th>2</th>\n",
       "      <td>chr17</td>\n",
       "      <td>RefSeq</td>\n",
       "      <td>CDS</td>\n",
       "      <td>6811792</td>\n",
       "      <td>6811869</td>\n",
       "      <td>.</td>\n",
       "      <td>+</td>\n",
       "      <td>2</td>\n",
       "      <td>Name=CDS:NC_000083.5:LOC100040603;Parent=XM_00...</td>\n",
       "    </tr>\n",
       "    <tr>\n",
       "      <th>3</th>\n",
       "      <td>chr17</td>\n",
       "      <td>RefSeq</td>\n",
       "      <td>exon</td>\n",
       "      <td>6806513</td>\n",
       "      <td>6806553</td>\n",
       "      <td>.</td>\n",
       "      <td>+</td>\n",
       "      <td>.</td>\n",
       "      <td>Parent=XM_001475631.1</td>\n",
       "    </tr>\n",
       "    <tr>\n",
       "      <th>4</th>\n",
       "      <td>chr17</td>\n",
       "      <td>RefSeq</td>\n",
       "      <td>five_prime_UTR</td>\n",
       "      <td>6806513</td>\n",
       "      <td>6806526</td>\n",
       "      <td>.</td>\n",
       "      <td>+</td>\n",
       "      <td>.</td>\n",
       "      <td>Parent=XM_001475631.1</td>\n",
       "    </tr>\n",
       "  </tbody>\n",
       "</table>\n",
       "</div>"
      ],
      "text/plain": [
       "  seq_id  source            type    start      end score strand phase  \\\n",
       "0  chr17  RefSeq            exon  6811330  6811453     .      +     .   \n",
       "1  chr17  RefSeq             CDS  6808204  6808245     .      +     0   \n",
       "2  chr17  RefSeq             CDS  6811792  6811869     .      +     2   \n",
       "3  chr17  RefSeq            exon  6806513  6806553     .      +     .   \n",
       "4  chr17  RefSeq  five_prime_UTR  6806513  6806526     .      +     .   \n",
       "\n",
       "                                          attributes  \n",
       "0                              Parent=XM_001475631.1  \n",
       "1  Name=CDS:NC_000083.5:LOC100040603;Parent=XM_00...  \n",
       "2  Name=CDS:NC_000083.5:LOC100040603;Parent=XM_00...  \n",
       "3                              Parent=XM_001475631.1  \n",
       "4                              Parent=XM_001475631.1  "
      ]
     },
     "execution_count": 3,
     "metadata": {},
     "output_type": "execute_result"
    }
   ],
   "source": [
    "gff = pd.read_csv('https://stepik.org/media/attachments/course/72204/gff.tsv', sep='\\t')\n",
    "gff.head()"
   ]
  },
  {
   "cell_type": "markdown",
   "id": "80dcb9b8",
   "metadata": {},
   "source": [
    "## 1. Какое значение атрибута `Parent` самое частое?\n",
    "\n",
    "Note: Если вы хотите решить это задание с использование регулярных выражений, то с теорией можно познакомиться [тут](https://www.youtube.com/watch?v=oFaf3NcMudA) и [тут](https://www.youtube.com/watch?v=QBaU6CMeUUE)"
   ]
  },
  {
   "cell_type": "code",
   "execution_count": 4,
   "id": "49982518",
   "metadata": {},
   "outputs": [],
   "source": [
    "# r'Parent=(\\w+.\\d)'\n",
    "# Функция, которая выковыривает Parent\n",
    "\n",
    "def get_parent(rows, pattern=r'Parent=(\\w+.\\d)'):\n",
    "    pattern = re.compile(pattern)\n",
    "    result = []\n",
    "    for row in rows:\n",
    "        result.extend(pattern.findall(row))\n",
    "    return result\n",
    "\n",
    "# Создаем колонку\n",
    "gff['Parent'] = get_parent(gff.attributes)"
   ]
  },
  {
   "cell_type": "code",
   "execution_count": 5,
   "id": "4c72b8de",
   "metadata": {},
   "outputs": [
    {
     "data": {
      "text/plain": [
       "XM_001475631.1    479\n",
       "NC_000083.5        33\n",
       "Name: Parent, dtype: int64"
      ]
     },
     "execution_count": 5,
     "metadata": {},
     "output_type": "execute_result"
    }
   ],
   "source": [
    "gff.Parent.value_counts()"
   ]
  },
  {
   "cell_type": "markdown",
   "id": "0bd10591",
   "metadata": {},
   "source": [
    "## 2. Какое самое частое значение в колонке `type`?"
   ]
  },
  {
   "cell_type": "code",
   "execution_count": 6,
   "id": "84f4d8a4",
   "metadata": {},
   "outputs": [
    {
     "data": {
      "text/plain": [
       "'exon'"
      ]
     },
     "execution_count": 6,
     "metadata": {},
     "output_type": "execute_result"
    }
   ],
   "source": [
    "gff.type.value_counts().idxmax()"
   ]
  }
 ],
 "metadata": {
  "kernelspec": {
   "display_name": "Python 3 (ipykernel)",
   "language": "python",
   "name": "python3"
  },
  "language_info": {
   "codemirror_mode": {
    "name": "ipython",
    "version": 3
   },
   "file_extension": ".py",
   "mimetype": "text/x-python",
   "name": "python",
   "nbconvert_exporter": "python",
   "pygments_lexer": "ipython3",
   "version": "3.9.7"
  }
 },
 "nbformat": 4,
 "nbformat_minor": 5
}
