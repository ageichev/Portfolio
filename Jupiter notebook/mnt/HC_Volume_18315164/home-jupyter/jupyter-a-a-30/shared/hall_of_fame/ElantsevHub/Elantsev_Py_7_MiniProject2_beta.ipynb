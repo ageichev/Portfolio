{
 "cells": [
  {
   "cell_type": "code",
   "execution_count": null,
   "id": "dc9b93e5",
   "metadata": {},
   "outputs": [],
   "source": []
  },
  {
   "cell_type": "markdown",
   "id": "59d7f683",
   "metadata": {},
   "source": [
    "В рамках дополнительного проекта попробуем освоить API, позволяющий получать данные о музейных коллекциях. Это задание может пригодиться для большего понимания того, какими способами можно собирать и обрабатывать данные, например, для собственного проекта или другой рабочей задачи. Также вы можете более глубоко изучить документацию, чтобы потом исследовать другие интересные для себя вопросы по полученным данным :)"
   ]
  },
  {
   "cell_type": "markdown",
   "id": "840ea7b8",
   "metadata": {},
   "source": [
    "# Описание API\n",
    "Документация: https://metmuseum.github.io\n",
    "\n",
    "**Ключ:** для использования выбранного API (на момент написания задания) ключ не требуется :)\n",
    "\n",
    "Всего есть 4 основных раздела:\n",
    "\n",
    "- **Объекты** (`Objects`)\n",
    "- **Объект** (`Object`) – данные об объекте (например, о картине)\n",
    "- **Департаменты** (`Departments`) –  данные о департаменте/разделе (например, \"Современное искусство\") \n",
    "- **Поиск** (`Search`) – используется для поиска\n",
    "\n",
    "В рамках задач поработаем с блоками Object и Search.\n",
    "\n",
    "С более подробным описанием каждого доступного параметра можно ознакомиться в [документации](https://metmuseum.github.io/)."
   ]
  },
  {
   "cell_type": "markdown",
   "id": "10f56adb",
   "metadata": {},
   "source": [
    "Для начала, импортируйте нужные библиотеки:"
   ]
  },
  {
   "cell_type": "code",
   "execution_count": 1,
   "id": "19538ab8",
   "metadata": {},
   "outputs": [],
   "source": [
    "# Для начала, импортируйте нужные библиотеки:\n",
    "import requests\n",
    "import pandas as pd\n",
    "import seaborn as sns\n",
    "import matplotlib.pyplot as plt"
   ]
  },
  {
   "cell_type": "markdown",
   "id": "b68108ba",
   "metadata": {},
   "source": [
    "# 1.\n",
    "Сам запрос к API должен состоять из нескольких параметров. Пример обращения к поиску (Search):"
   ]
  },
  {
   "cell_type": "code",
   "execution_count": 2,
   "id": "011ed1ed",
   "metadata": {},
   "outputs": [],
   "source": [
    "# где QUERY – ключевое слово.\n",
    "r = requests.get('https://collectionapi.metmuseum.org/public/collection/v1/search?q=QUERY')\n",
    "res = r.json()"
   ]
  },
  {
   "cell_type": "markdown",
   "id": "8652ecd3",
   "metadata": {},
   "source": [
    "Предположим, ваша задача – найти все произведения, связанные с подсолнухами. Выполните поиск по слову \"sunflowers\". Внимательно посмотрите на формат ответа и сохраните id полученных объектов в список `sunflower_ids`.\n",
    "\n",
    "В качестве ответа выберите `id` объектов (3), которые присутствуют в полученном списке:"
   ]
  },
  {
   "cell_type": "code",
   "execution_count": 3,
   "id": "241a6955",
   "metadata": {},
   "outputs": [],
   "source": [
    "df = pd.DataFrame(res)"
   ]
  },
  {
   "cell_type": "code",
   "execution_count": 4,
   "id": "384c7b91",
   "metadata": {},
   "outputs": [
    {
     "data": {
      "text/html": [
       "<div>\n",
       "<style scoped>\n",
       "    .dataframe tbody tr th:only-of-type {\n",
       "        vertical-align: middle;\n",
       "    }\n",
       "\n",
       "    .dataframe tbody tr th {\n",
       "        vertical-align: top;\n",
       "    }\n",
       "\n",
       "    .dataframe thead th {\n",
       "        text-align: right;\n",
       "    }\n",
       "</style>\n",
       "<table border=\"1\" class=\"dataframe\">\n",
       "  <thead>\n",
       "    <tr style=\"text-align: right;\">\n",
       "      <th></th>\n",
       "      <th>total</th>\n",
       "      <th>objectIDs</th>\n",
       "    </tr>\n",
       "  </thead>\n",
       "  <tbody>\n",
       "    <tr>\n",
       "      <th>0</th>\n",
       "      <td>12</td>\n",
       "      <td>839361</td>\n",
       "    </tr>\n",
       "    <tr>\n",
       "      <th>1</th>\n",
       "      <td>12</td>\n",
       "      <td>839021</td>\n",
       "    </tr>\n",
       "    <tr>\n",
       "      <th>2</th>\n",
       "      <td>12</td>\n",
       "      <td>778803</td>\n",
       "    </tr>\n",
       "    <tr>\n",
       "      <th>3</th>\n",
       "      <td>12</td>\n",
       "      <td>208967</td>\n",
       "    </tr>\n",
       "    <tr>\n",
       "      <th>4</th>\n",
       "      <td>12</td>\n",
       "      <td>436180</td>\n",
       "    </tr>\n",
       "    <tr>\n",
       "      <th>5</th>\n",
       "      <td>12</td>\n",
       "      <td>435821</td>\n",
       "    </tr>\n",
       "    <tr>\n",
       "      <th>6</th>\n",
       "      <td>12</td>\n",
       "      <td>437449</td>\n",
       "    </tr>\n",
       "    <tr>\n",
       "      <th>7</th>\n",
       "      <td>12</td>\n",
       "      <td>60451</td>\n",
       "    </tr>\n",
       "    <tr>\n",
       "      <th>8</th>\n",
       "      <td>12</td>\n",
       "      <td>503341</td>\n",
       "    </tr>\n",
       "    <tr>\n",
       "      <th>9</th>\n",
       "      <td>12</td>\n",
       "      <td>436283</td>\n",
       "    </tr>\n",
       "    <tr>\n",
       "      <th>10</th>\n",
       "      <td>12</td>\n",
       "      <td>436105</td>\n",
       "    </tr>\n",
       "    <tr>\n",
       "      <th>11</th>\n",
       "      <td>12</td>\n",
       "      <td>436883</td>\n",
       "    </tr>\n",
       "  </tbody>\n",
       "</table>\n",
       "</div>"
      ],
      "text/plain": [
       "    total  objectIDs\n",
       "0      12     839361\n",
       "1      12     839021\n",
       "2      12     778803\n",
       "3      12     208967\n",
       "4      12     436180\n",
       "5      12     435821\n",
       "6      12     437449\n",
       "7      12      60451\n",
       "8      12     503341\n",
       "9      12     436283\n",
       "10     12     436105\n",
       "11     12     436883"
      ]
     },
     "execution_count": 4,
     "metadata": {},
     "output_type": "execute_result"
    }
   ],
   "source": [
    "df"
   ]
  },
  {
   "cell_type": "code",
   "execution_count": 5,
   "id": "efc1e247",
   "metadata": {},
   "outputs": [],
   "source": [
    "r = requests.get('https://collectionapi.metmuseum.org/public/collection/v1/search?q=sunflowers')\n",
    "res2 = r.json()\n",
    "df2 = pd.DataFrame(res2)"
   ]
  },
  {
   "cell_type": "code",
   "execution_count": 6,
   "id": "811906bb",
   "metadata": {},
   "outputs": [
    {
     "data": {
      "text/html": [
       "<div>\n",
       "<style scoped>\n",
       "    .dataframe tbody tr th:only-of-type {\n",
       "        vertical-align: middle;\n",
       "    }\n",
       "\n",
       "    .dataframe tbody tr th {\n",
       "        vertical-align: top;\n",
       "    }\n",
       "\n",
       "    .dataframe thead th {\n",
       "        text-align: right;\n",
       "    }\n",
       "</style>\n",
       "<table border=\"1\" class=\"dataframe\">\n",
       "  <thead>\n",
       "    <tr style=\"text-align: right;\">\n",
       "      <th></th>\n",
       "      <th>total</th>\n",
       "      <th>objectIDs</th>\n",
       "    </tr>\n",
       "  </thead>\n",
       "  <tbody>\n",
       "    <tr>\n",
       "      <th>0</th>\n",
       "      <td>85</td>\n",
       "      <td>436524</td>\n",
       "    </tr>\n",
       "    <tr>\n",
       "      <th>1</th>\n",
       "      <td>85</td>\n",
       "      <td>484935</td>\n",
       "    </tr>\n",
       "    <tr>\n",
       "      <th>2</th>\n",
       "      <td>85</td>\n",
       "      <td>437112</td>\n",
       "    </tr>\n",
       "    <tr>\n",
       "      <th>3</th>\n",
       "      <td>85</td>\n",
       "      <td>210191</td>\n",
       "    </tr>\n",
       "    <tr>\n",
       "      <th>4</th>\n",
       "      <td>85</td>\n",
       "      <td>431264</td>\n",
       "    </tr>\n",
       "  </tbody>\n",
       "</table>\n",
       "</div>"
      ],
      "text/plain": [
       "   total  objectIDs\n",
       "0     85     436524\n",
       "1     85     484935\n",
       "2     85     437112\n",
       "3     85     210191\n",
       "4     85     431264"
      ]
     },
     "execution_count": 6,
     "metadata": {},
     "output_type": "execute_result"
    }
   ],
   "source": [
    "df2.head()"
   ]
  },
  {
   "cell_type": "code",
   "execution_count": 7,
   "id": "81e68fa7",
   "metadata": {
    "scrolled": true
   },
   "outputs": [],
   "source": [
    "sunflower_ids = df2.objectIDs.to_list()\n"
   ]
  },
  {
   "cell_type": "code",
   "execution_count": 8,
   "id": "552403b2",
   "metadata": {},
   "outputs": [],
   "source": [
    "check_list = [20149,\n",
    "              436524,\n",
    "              2032,\n",
    "              16822570,\n",
    "              437329]"
   ]
  },
  {
   "cell_type": "code",
   "execution_count": 9,
   "id": "761c1904",
   "metadata": {},
   "outputs": [
    {
     "data": {
      "text/html": [
       "<div>\n",
       "<style scoped>\n",
       "    .dataframe tbody tr th:only-of-type {\n",
       "        vertical-align: middle;\n",
       "    }\n",
       "\n",
       "    .dataframe tbody tr th {\n",
       "        vertical-align: top;\n",
       "    }\n",
       "\n",
       "    .dataframe thead th {\n",
       "        text-align: right;\n",
       "    }\n",
       "</style>\n",
       "<table border=\"1\" class=\"dataframe\">\n",
       "  <thead>\n",
       "    <tr style=\"text-align: right;\">\n",
       "      <th></th>\n",
       "      <th>total</th>\n",
       "      <th>objectIDs</th>\n",
       "    </tr>\n",
       "  </thead>\n",
       "  <tbody>\n",
       "    <tr>\n",
       "      <th>0</th>\n",
       "      <td>85</td>\n",
       "      <td>436524</td>\n",
       "    </tr>\n",
       "    <tr>\n",
       "      <th>13</th>\n",
       "      <td>85</td>\n",
       "      <td>2032</td>\n",
       "    </tr>\n",
       "    <tr>\n",
       "      <th>40</th>\n",
       "      <td>85</td>\n",
       "      <td>437329</td>\n",
       "    </tr>\n",
       "  </tbody>\n",
       "</table>\n",
       "</div>"
      ],
      "text/plain": [
       "    total  objectIDs\n",
       "0      85     436524\n",
       "13     85       2032\n",
       "40     85     437329"
      ]
     },
     "execution_count": 9,
     "metadata": {},
     "output_type": "execute_result"
    }
   ],
   "source": [
    "df2.query(\"objectIDs in @check_list\")"
   ]
  },
  {
   "cell_type": "code",
   "execution_count": 10,
   "id": "5fa868ce",
   "metadata": {},
   "outputs": [
    {
     "data": {
      "text/html": [
       "<div>\n",
       "<style scoped>\n",
       "    .dataframe tbody tr th:only-of-type {\n",
       "        vertical-align: middle;\n",
       "    }\n",
       "\n",
       "    .dataframe tbody tr th {\n",
       "        vertical-align: top;\n",
       "    }\n",
       "\n",
       "    .dataframe thead th {\n",
       "        text-align: right;\n",
       "    }\n",
       "</style>\n",
       "<table border=\"1\" class=\"dataframe\">\n",
       "  <thead>\n",
       "    <tr style=\"text-align: right;\">\n",
       "      <th></th>\n",
       "      <th>total</th>\n",
       "      <th>objectIDs</th>\n",
       "    </tr>\n",
       "  </thead>\n",
       "  <tbody>\n",
       "    <tr>\n",
       "      <th>0</th>\n",
       "      <td>85</td>\n",
       "      <td>436524</td>\n",
       "    </tr>\n",
       "    <tr>\n",
       "      <th>1</th>\n",
       "      <td>85</td>\n",
       "      <td>484935</td>\n",
       "    </tr>\n",
       "    <tr>\n",
       "      <th>2</th>\n",
       "      <td>85</td>\n",
       "      <td>437112</td>\n",
       "    </tr>\n",
       "    <tr>\n",
       "      <th>3</th>\n",
       "      <td>85</td>\n",
       "      <td>210191</td>\n",
       "    </tr>\n",
       "    <tr>\n",
       "      <th>4</th>\n",
       "      <td>85</td>\n",
       "      <td>431264</td>\n",
       "    </tr>\n",
       "    <tr>\n",
       "      <th>...</th>\n",
       "      <td>...</td>\n",
       "      <td>...</td>\n",
       "    </tr>\n",
       "    <tr>\n",
       "      <th>80</th>\n",
       "      <td>85</td>\n",
       "      <td>437980</td>\n",
       "    </tr>\n",
       "    <tr>\n",
       "      <th>81</th>\n",
       "      <td>85</td>\n",
       "      <td>724844</td>\n",
       "    </tr>\n",
       "    <tr>\n",
       "      <th>82</th>\n",
       "      <td>85</td>\n",
       "      <td>834585</td>\n",
       "    </tr>\n",
       "    <tr>\n",
       "      <th>83</th>\n",
       "      <td>85</td>\n",
       "      <td>834580</td>\n",
       "    </tr>\n",
       "    <tr>\n",
       "      <th>84</th>\n",
       "      <td>85</td>\n",
       "      <td>834765</td>\n",
       "    </tr>\n",
       "  </tbody>\n",
       "</table>\n",
       "<p>85 rows × 2 columns</p>\n",
       "</div>"
      ],
      "text/plain": [
       "    total  objectIDs\n",
       "0      85     436524\n",
       "1      85     484935\n",
       "2      85     437112\n",
       "3      85     210191\n",
       "4      85     431264\n",
       "..    ...        ...\n",
       "80     85     437980\n",
       "81     85     724844\n",
       "82     85     834585\n",
       "83     85     834580\n",
       "84     85     834765\n",
       "\n",
       "[85 rows x 2 columns]"
      ]
     },
     "execution_count": 10,
     "metadata": {},
     "output_type": "execute_result"
    }
   ],
   "source": [
    "pd.read_json('https://collectionapi.metmuseum.org/public/collection/v1/search?q=sunflowers')"
   ]
  },
  {
   "cell_type": "markdown",
   "id": "5ecd141f",
   "metadata": {},
   "source": [
    "# 2.\n",
    "Отлично! На предыдущем шаге мы получили результаты поиска. Следущий этап – собрать информацию об этих объектах.\n",
    "\n",
    "Пример текста запроса для получения информации об одном объекте (Object):\n",
    "\n",
    "*где `OBJECT_ID` – id объекта.*"
   ]
  },
  {
   "cell_type": "code",
   "execution_count": 11,
   "id": "f0e617ef",
   "metadata": {},
   "outputs": [],
   "source": [
    "# # где OBJECT_ID – id объекта.\n",
    "# r_test = requests.get(f'https://collectionapi.metmuseum.org/public/collection/v1/objects/{OBJECT_ID}')\n",
    "# obj_test = r_test.json()"
   ]
  },
  {
   "cell_type": "markdown",
   "id": "5a8f59bd",
   "metadata": {},
   "source": [
    "Выполните запрос для объекта `437980`. Для проверки соотнесите полученные параметры с их значениями:"
   ]
  },
  {
   "cell_type": "code",
   "execution_count": 12,
   "id": "7fb582af",
   "metadata": {},
   "outputs": [],
   "source": [
    "# pd.read_json(f'https://collectionapi.metmuseum.org/public/collection/v1/objects/437980') All arrays must be of the same length\n",
    "\n",
    "OBJECT_ID = 437980\n",
    "r_test = requests.get(f'https://collectionapi.metmuseum.org/public/collection/v1/objects/{OBJECT_ID}')\n",
    "obj_test = r_test.json()"
   ]
  },
  {
   "cell_type": "code",
   "execution_count": 13,
   "id": "f1b5cd99",
   "metadata": {},
   "outputs": [
    {
     "data": {
      "text/plain": [
       "'825'"
      ]
     },
     "execution_count": 13,
     "metadata": {},
     "output_type": "execute_result"
    }
   ],
   "source": [
    "obj_test['GalleryNumber']"
   ]
  },
  {
   "cell_type": "code",
   "execution_count": 14,
   "id": "2656b114",
   "metadata": {},
   "outputs": [
    {
     "data": {
      "text/plain": [
       "437980"
      ]
     },
     "execution_count": 14,
     "metadata": {},
     "output_type": "execute_result"
    }
   ],
   "source": [
    "obj_test['objectID']"
   ]
  },
  {
   "cell_type": "code",
   "execution_count": 15,
   "id": "83389e7d",
   "metadata": {},
   "outputs": [
    {
     "data": {
      "text/plain": [
       "''"
      ]
     },
     "execution_count": 15,
     "metadata": {},
     "output_type": "execute_result"
    }
   ],
   "source": [
    "obj_test['culture']"
   ]
  },
  {
   "cell_type": "code",
   "execution_count": 16,
   "id": "ee394074",
   "metadata": {},
   "outputs": [
    {
     "data": {
      "text/plain": [
       "'Cypresses'"
      ]
     },
     "execution_count": 16,
     "metadata": {},
     "output_type": "execute_result"
    }
   ],
   "source": [
    "obj_test['title']"
   ]
  },
  {
   "cell_type": "code",
   "execution_count": 17,
   "id": "101553ad",
   "metadata": {},
   "outputs": [
    {
     "data": {
      "text/plain": [
       "'Vincent van Gogh'"
      ]
     },
     "execution_count": 17,
     "metadata": {},
     "output_type": "execute_result"
    }
   ],
   "source": [
    "obj_test['artistDisplayName']"
   ]
  },
  {
   "cell_type": "code",
   "execution_count": 18,
   "id": "fec8e4eb",
   "metadata": {},
   "outputs": [
    {
     "data": {
      "text/plain": [
       "'European Paintings'"
      ]
     },
     "execution_count": 18,
     "metadata": {},
     "output_type": "execute_result"
    }
   ],
   "source": [
    "obj_test['department']"
   ]
  },
  {
   "cell_type": "code",
   "execution_count": 19,
   "id": "b35a2a56",
   "metadata": {},
   "outputs": [
    {
     "data": {
      "text/plain": [
       "'Painting'"
      ]
     },
     "execution_count": 19,
     "metadata": {},
     "output_type": "execute_result"
    }
   ],
   "source": [
    "obj_test['objectName']"
   ]
  },
  {
   "cell_type": "code",
   "execution_count": 20,
   "id": "b16da76e",
   "metadata": {},
   "outputs": [
    {
     "data": {
      "text/plain": [
       "{'objectID': 437980,\n",
       " 'isHighlight': False,\n",
       " 'accessionNumber': '49.30',\n",
       " 'accessionYear': '1949',\n",
       " 'isPublicDomain': True,\n",
       " 'primaryImage': 'https://images.metmuseum.org/CRDImages/ep/original/DP130999.jpg',\n",
       " 'primaryImageSmall': 'https://images.metmuseum.org/CRDImages/ep/web-large/DP130999.jpg',\n",
       " 'additionalImages': [],\n",
       " 'constituents': [{'constituentID': 161947,\n",
       "   'role': 'Artist',\n",
       "   'name': 'Vincent van Gogh',\n",
       "   'constituentULAN_URL': 'http://vocab.getty.edu/page/ulan/500115588',\n",
       "   'constituentWikidata_URL': 'https://www.wikidata.org/wiki/Q5582',\n",
       "   'gender': ''}],\n",
       " 'department': 'European Paintings',\n",
       " 'objectName': 'Painting',\n",
       " 'title': 'Cypresses',\n",
       " 'culture': '',\n",
       " 'period': '',\n",
       " 'dynasty': '',\n",
       " 'reign': '',\n",
       " 'portfolio': '',\n",
       " 'artistRole': 'Artist',\n",
       " 'artistPrefix': '',\n",
       " 'artistDisplayName': 'Vincent van Gogh',\n",
       " 'artistDisplayBio': 'Dutch, Zundert 1853–1890 Auvers-sur-Oise',\n",
       " 'artistSuffix': '',\n",
       " 'artistAlphaSort': 'Gogh, Vincent van',\n",
       " 'artistNationality': 'Dutch',\n",
       " 'artistBeginDate': '1853',\n",
       " 'artistEndDate': '1890',\n",
       " 'artistGender': '',\n",
       " 'artistWikidata_URL': 'https://www.wikidata.org/wiki/Q5582',\n",
       " 'artistULAN_URL': 'http://vocab.getty.edu/page/ulan/500115588',\n",
       " 'objectDate': '1889',\n",
       " 'objectBeginDate': 1889,\n",
       " 'objectEndDate': 1889,\n",
       " 'medium': 'Oil on canvas',\n",
       " 'dimensions': '36 3/4 x 29 1/8 in. (93.4 x 74 cm)',\n",
       " 'measurements': [{'elementName': 'Overall',\n",
       "   'elementDescription': None,\n",
       "   'elementMeasurements': {'Height': 93.4, 'Width': 74}},\n",
       "  {'elementName': 'Frame',\n",
       "   'elementDescription': None,\n",
       "   'elementMeasurements': {'Depth': 10.795,\n",
       "    'Height': 116.2052,\n",
       "    'Width': 96.5202}},\n",
       "  {'elementName': 'Other',\n",
       "   'elementDescription': 'glass',\n",
       "   'elementMeasurements': {'Height': 94.29769, 'Width': 76.517654}}],\n",
       " 'creditLine': 'Rogers Fund, 1949',\n",
       " 'geographyType': '',\n",
       " 'city': '',\n",
       " 'state': '',\n",
       " 'county': '',\n",
       " 'country': '',\n",
       " 'region': '',\n",
       " 'subregion': '',\n",
       " 'locale': '',\n",
       " 'locus': '',\n",
       " 'excavation': '',\n",
       " 'river': '',\n",
       " 'classification': 'Paintings',\n",
       " 'rightsAndReproduction': '',\n",
       " 'linkResource': '',\n",
       " 'metadataDate': '2022-03-10T05:08:29.907Z',\n",
       " 'repository': 'Metropolitan Museum of Art, New York, NY',\n",
       " 'objectURL': 'https://www.metmuseum.org/art/collection/search/437980',\n",
       " 'tags': [{'term': 'Landscapes',\n",
       "   'AAT_URL': 'http://vocab.getty.edu/page/aat/300132294',\n",
       "   'Wikidata_URL': 'https://www.wikidata.org/wiki/Q191163'},\n",
       "  {'term': 'Cypresses',\n",
       "   'AAT_URL': 'http://vocab.getty.edu/page/aat/300343641',\n",
       "   'Wikidata_URL': 'https://www.wikidata.org/wiki/Q146911'}],\n",
       " 'objectWikidata_URL': 'https://www.wikidata.org/wiki/Q867510',\n",
       " 'isTimelineWork': True,\n",
       " 'GalleryNumber': '825'}"
      ]
     },
     "execution_count": 20,
     "metadata": {},
     "output_type": "execute_result"
    }
   ],
   "source": [
    "obj_test"
   ]
  },
  {
   "cell_type": "markdown",
   "id": "8050d8f1",
   "metadata": {},
   "source": [
    "# 3.\n",
    "Теперь напишите цикл, с помощью которого будет собрана информация об объектах, которые были получены на 2 шаге. Результаты запишите в датафрейм, а именно – следующие параметры:\n",
    "\n",
    "- **objectID** – id объекта\n",
    "- **title** – название\n",
    "- **artistDisplayName** – автор\n",
    "- **department** – департамент\n",
    "- **objectBeginDate** – дата (начало)\n",
    "- **objectEndDate** – дата (конец)\n",
    "- **period** – название периода\n",
    "- **objectName** – название/категория объекта\n",
    "- **culture** – культура\n",
    "\n",
    "**Сколько объектов относятся к японской культуре?** (culture –Japan)"
   ]
  },
  {
   "cell_type": "code",
   "execution_count": 21,
   "id": "f66d4266",
   "metadata": {},
   "outputs": [],
   "source": [
    "# [[obj_test['objectID'],\n",
    "# obj_test['title'],\n",
    "# obj_test['artistDisplayName'],\n",
    "# obj_test['department'],\n",
    "# obj_test['objectBeginDate'],\n",
    "# obj_test['objectEndDate'],\n",
    "# obj_test['period'],\n",
    "# obj_test['objectName'],\n",
    "# obj_test['culture']]]"
   ]
  },
  {
   "cell_type": "code",
   "execution_count": 22,
   "id": "027ca9d1",
   "metadata": {},
   "outputs": [],
   "source": [
    "# temp_df = pd.DataFrame([[obj_test['objectID'],\n",
    "#                         obj_test['title'],\n",
    "#                         obj_test['artistDisplayName'],\n",
    "#                         obj_test['department'],\n",
    "#                         obj_test['objectBeginDate'],\n",
    "#                         obj_test['objectEndDate'],\n",
    "#                         obj_test['period'],\n",
    "#                         obj_test['objectName'],\n",
    "#                         obj_test['culture']]],\n",
    "#                        columns=cols\n",
    "#                       )"
   ]
  },
  {
   "cell_type": "code",
   "execution_count": 23,
   "id": "861f1a53",
   "metadata": {},
   "outputs": [],
   "source": [
    "# df3.append(temp_df)"
   ]
  },
  {
   "cell_type": "code",
   "execution_count": 24,
   "id": "34af720d",
   "metadata": {},
   "outputs": [
    {
     "data": {
      "text/html": [
       "<div>\n",
       "<style scoped>\n",
       "    .dataframe tbody tr th:only-of-type {\n",
       "        vertical-align: middle;\n",
       "    }\n",
       "\n",
       "    .dataframe tbody tr th {\n",
       "        vertical-align: top;\n",
       "    }\n",
       "\n",
       "    .dataframe thead th {\n",
       "        text-align: right;\n",
       "    }\n",
       "</style>\n",
       "<table border=\"1\" class=\"dataframe\">\n",
       "  <thead>\n",
       "    <tr style=\"text-align: right;\">\n",
       "      <th></th>\n",
       "      <th>objectID</th>\n",
       "      <th>title</th>\n",
       "      <th>artistDisplayName</th>\n",
       "      <th>department</th>\n",
       "      <th>objectBeginDate</th>\n",
       "      <th>objectEndDate</th>\n",
       "      <th>period</th>\n",
       "      <th>objectName</th>\n",
       "      <th>culture</th>\n",
       "    </tr>\n",
       "  </thead>\n",
       "  <tbody>\n",
       "  </tbody>\n",
       "</table>\n",
       "</div>"
      ],
      "text/plain": [
       "Empty DataFrame\n",
       "Columns: [objectID, title, artistDisplayName, department, objectBeginDate, objectEndDate, period, objectName, culture]\n",
       "Index: []"
      ]
     },
     "execution_count": 24,
     "metadata": {},
     "output_type": "execute_result"
    }
   ],
   "source": [
    "cols = ['objectID',\n",
    "'title',\n",
    "'artistDisplayName',\n",
    "'department',\n",
    "'objectBeginDate',\n",
    "'objectEndDate',\n",
    "'period',\n",
    "'objectName',\n",
    "'culture']\n",
    "\n",
    "df3 = pd.DataFrame(columns=cols)\n",
    "df3"
   ]
  },
  {
   "cell_type": "code",
   "execution_count": 25,
   "id": "47f4af31",
   "metadata": {},
   "outputs": [
    {
     "name": "stdout",
     "output_type": "stream",
     "text": [
      "Error: 704667\n",
      "Error: 696949\n",
      "Error: 839296\n"
     ]
    }
   ],
   "source": [
    "for OBJECT_ID in sunflower_ids:\n",
    "    try:\n",
    "        r_test = requests.get(f'https://collectionapi.metmuseum.org/public/collection/v1/objects/{OBJECT_ID}')\n",
    "        obj = r_test.json()\n",
    "#         print(OBJECT_ID, obj['objectID'], sep='*:*')\n",
    "        temp_df = pd.DataFrame([[obj['objectID'],\n",
    "                                 obj['title'],\n",
    "                                 obj['artistDisplayName'],\n",
    "                                 obj['department'],\n",
    "                                 obj['objectBeginDate'],\n",
    "                                 obj['objectEndDate'],\n",
    "                                 obj['period'],\n",
    "                                 obj['objectName'],\n",
    "                                 obj['culture']]],\n",
    "                               columns=cols\n",
    "                              )\n",
    "        df3 = df3.append(temp_df)\n",
    "    except:\n",
    "        print(f'Error: {OBJECT_ID}')"
   ]
  },
  {
   "cell_type": "code",
   "execution_count": 26,
   "id": "4d3996eb",
   "metadata": {},
   "outputs": [
    {
     "data": {
      "text/html": [
       "<div>\n",
       "<style scoped>\n",
       "    .dataframe tbody tr th:only-of-type {\n",
       "        vertical-align: middle;\n",
       "    }\n",
       "\n",
       "    .dataframe tbody tr th {\n",
       "        vertical-align: top;\n",
       "    }\n",
       "\n",
       "    .dataframe thead th {\n",
       "        text-align: right;\n",
       "    }\n",
       "</style>\n",
       "<table border=\"1\" class=\"dataframe\">\n",
       "  <thead>\n",
       "    <tr style=\"text-align: right;\">\n",
       "      <th></th>\n",
       "      <th>objectID</th>\n",
       "      <th>title</th>\n",
       "      <th>artistDisplayName</th>\n",
       "      <th>department</th>\n",
       "      <th>objectBeginDate</th>\n",
       "      <th>objectEndDate</th>\n",
       "      <th>period</th>\n",
       "      <th>objectName</th>\n",
       "      <th>culture</th>\n",
       "    </tr>\n",
       "  </thead>\n",
       "  <tbody>\n",
       "    <tr>\n",
       "      <th>0</th>\n",
       "      <td>436524</td>\n",
       "      <td>Sunflowers</td>\n",
       "      <td>Vincent van Gogh</td>\n",
       "      <td>European Paintings</td>\n",
       "      <td>1887</td>\n",
       "      <td>1887</td>\n",
       "      <td></td>\n",
       "      <td>Painting</td>\n",
       "      <td></td>\n",
       "    </tr>\n",
       "    <tr>\n",
       "      <th>0</th>\n",
       "      <td>484935</td>\n",
       "      <td>Sunflowers</td>\n",
       "      <td>Edward McKnight Kauffer</td>\n",
       "      <td>Modern and Contemporary Art</td>\n",
       "      <td>1921</td>\n",
       "      <td>1921</td>\n",
       "      <td></td>\n",
       "      <td>Painting</td>\n",
       "      <td></td>\n",
       "    </tr>\n",
       "    <tr>\n",
       "      <th>0</th>\n",
       "      <td>437112</td>\n",
       "      <td>Bouquet of Sunflowers</td>\n",
       "      <td>Claude Monet</td>\n",
       "      <td>European Paintings</td>\n",
       "      <td>1881</td>\n",
       "      <td>1881</td>\n",
       "      <td></td>\n",
       "      <td>Painting</td>\n",
       "      <td></td>\n",
       "    </tr>\n",
       "    <tr>\n",
       "      <th>0</th>\n",
       "      <td>210191</td>\n",
       "      <td>Vase with sunflowers</td>\n",
       "      <td>Rozenburg Plateelfabriek</td>\n",
       "      <td>European Sculpture and Decorative Arts</td>\n",
       "      <td>1896</td>\n",
       "      <td>1896</td>\n",
       "      <td></td>\n",
       "      <td>Vase</td>\n",
       "      <td></td>\n",
       "    </tr>\n",
       "    <tr>\n",
       "      <th>0</th>\n",
       "      <td>431264</td>\n",
       "      <td>Sunflowers</td>\n",
       "      <td>Lily Converse</td>\n",
       "      <td>Drawings and Prints</td>\n",
       "      <td>1941</td>\n",
       "      <td>1941</td>\n",
       "      <td></td>\n",
       "      <td>Print</td>\n",
       "      <td></td>\n",
       "    </tr>\n",
       "    <tr>\n",
       "      <th>...</th>\n",
       "      <td>...</td>\n",
       "      <td>...</td>\n",
       "      <td>...</td>\n",
       "      <td>...</td>\n",
       "      <td>...</td>\n",
       "      <td>...</td>\n",
       "      <td>...</td>\n",
       "      <td>...</td>\n",
       "      <td>...</td>\n",
       "    </tr>\n",
       "    <tr>\n",
       "      <th>0</th>\n",
       "      <td>437980</td>\n",
       "      <td>Cypresses</td>\n",
       "      <td>Vincent van Gogh</td>\n",
       "      <td>European Paintings</td>\n",
       "      <td>1889</td>\n",
       "      <td>1889</td>\n",
       "      <td></td>\n",
       "      <td>Painting</td>\n",
       "      <td></td>\n",
       "    </tr>\n",
       "    <tr>\n",
       "      <th>0</th>\n",
       "      <td>724844</td>\n",
       "      <td>Design for Embroidery with Two Large Garlands ...</td>\n",
       "      <td>Italian School</td>\n",
       "      <td>Drawings and Prints</td>\n",
       "      <td>1845</td>\n",
       "      <td>1905</td>\n",
       "      <td></td>\n",
       "      <td>Drawing Ornament &amp; Architecture</td>\n",
       "      <td></td>\n",
       "    </tr>\n",
       "    <tr>\n",
       "      <th>0</th>\n",
       "      <td>834585</td>\n",
       "      <td>A Life in a Year–The Garden–Noon, from \"Pictur...</td>\n",
       "      <td>Arthur Boyd Houghton</td>\n",
       "      <td>Drawings and Prints</td>\n",
       "      <td>1866</td>\n",
       "      <td>1874</td>\n",
       "      <td></td>\n",
       "      <td>Print</td>\n",
       "      <td></td>\n",
       "    </tr>\n",
       "    <tr>\n",
       "      <th>0</th>\n",
       "      <td>834580</td>\n",
       "      <td>A Life in a Year–The Garden–Noon, from \"Pictur...</td>\n",
       "      <td>Arthur Boyd Houghton</td>\n",
       "      <td>Drawings and Prints</td>\n",
       "      <td>1866</td>\n",
       "      <td>1874</td>\n",
       "      <td></td>\n",
       "      <td>Print</td>\n",
       "      <td></td>\n",
       "    </tr>\n",
       "    <tr>\n",
       "      <th>0</th>\n",
       "      <td>834765</td>\n",
       "      <td>A Child's Garden, from \"Picture Poesies\"</td>\n",
       "      <td>Arthur Boyd Houghton</td>\n",
       "      <td>Drawings and Prints</td>\n",
       "      <td>1865</td>\n",
       "      <td>1874</td>\n",
       "      <td></td>\n",
       "      <td>Print</td>\n",
       "      <td></td>\n",
       "    </tr>\n",
       "  </tbody>\n",
       "</table>\n",
       "<p>82 rows × 9 columns</p>\n",
       "</div>"
      ],
      "text/plain": [
       "   objectID                                              title  \\\n",
       "0    436524                                         Sunflowers   \n",
       "0    484935                                         Sunflowers   \n",
       "0    437112                              Bouquet of Sunflowers   \n",
       "0    210191                               Vase with sunflowers   \n",
       "0    431264                                         Sunflowers   \n",
       "..      ...                                                ...   \n",
       "0    437980                                          Cypresses   \n",
       "0    724844  Design for Embroidery with Two Large Garlands ...   \n",
       "0    834585  A Life in a Year–The Garden–Noon, from \"Pictur...   \n",
       "0    834580  A Life in a Year–The Garden–Noon, from \"Pictur...   \n",
       "0    834765           A Child's Garden, from \"Picture Poesies\"   \n",
       "\n",
       "           artistDisplayName                              department  \\\n",
       "0           Vincent van Gogh                      European Paintings   \n",
       "0    Edward McKnight Kauffer             Modern and Contemporary Art   \n",
       "0               Claude Monet                      European Paintings   \n",
       "0   Rozenburg Plateelfabriek  European Sculpture and Decorative Arts   \n",
       "0              Lily Converse                     Drawings and Prints   \n",
       "..                       ...                                     ...   \n",
       "0           Vincent van Gogh                      European Paintings   \n",
       "0             Italian School                     Drawings and Prints   \n",
       "0       Arthur Boyd Houghton                     Drawings and Prints   \n",
       "0       Arthur Boyd Houghton                     Drawings and Prints   \n",
       "0       Arthur Boyd Houghton                     Drawings and Prints   \n",
       "\n",
       "   objectBeginDate objectEndDate period                       objectName  \\\n",
       "0             1887          1887                                Painting   \n",
       "0             1921          1921                                Painting   \n",
       "0             1881          1881                                Painting   \n",
       "0             1896          1896                                    Vase   \n",
       "0             1941          1941                                   Print   \n",
       "..             ...           ...    ...                              ...   \n",
       "0             1889          1889                                Painting   \n",
       "0             1845          1905         Drawing Ornament & Architecture   \n",
       "0             1866          1874                                   Print   \n",
       "0             1866          1874                                   Print   \n",
       "0             1865          1874                                   Print   \n",
       "\n",
       "   culture  \n",
       "0           \n",
       "0           \n",
       "0           \n",
       "0           \n",
       "0           \n",
       "..     ...  \n",
       "0           \n",
       "0           \n",
       "0           \n",
       "0           \n",
       "0           \n",
       "\n",
       "[82 rows x 9 columns]"
      ]
     },
     "execution_count": 26,
     "metadata": {},
     "output_type": "execute_result"
    }
   ],
   "source": [
    "df3"
   ]
  },
  {
   "cell_type": "code",
   "execution_count": 29,
   "id": "6e629d5f",
   "metadata": {},
   "outputs": [
    {
     "data": {
      "text/plain": [
       "                    71\n",
       "American             8\n",
       "Japan                1\n",
       "British              1\n",
       "Ancestral Pueblo     1\n",
       "Name: culture, dtype: int64"
      ]
     },
     "execution_count": 29,
     "metadata": {},
     "output_type": "execute_result"
    }
   ],
   "source": [
    "df3.culture.value_counts()"
   ]
  },
  {
   "cell_type": "markdown",
   "id": "ba99e204",
   "metadata": {},
   "source": [
    "# 4.\n",
    "Теперь попробуем построить более сложный запрос с помощью секции \"Search\"! На этот раз параметры необходимо передать через \"&\", например, `departmentId` (id департамента – 1) и `q` (ключевое слово – cat):\n",
    "\n",
    "~~~Python\n",
    "r = requests.get('https://collectionapi.metmuseum.org/public/collection/v1/search?departmentId=1&q=cat')\n",
    "cats = r.json()\n",
    "~~~\n",
    "\n",
    "Выполните поисковый запрос для департамента \"Asian art\" (departmentId = `6`) с тегом \"cat\" и запишите id объектов в `cat_ids`. Используйте цикл из шага 4, чтобы получить данные о первой `1000` объектов из списка.\n",
    "\n",
    "Note: выполнение цикла может занять некоторое время (~5 минут), поэтому проверять его работоспособность лучше на более маленькой выборке!\n",
    "\n",
    "В качестве ответа укажите, в каком периоде (`period`) было выполнено наибольшее количество работ, представленных в музее?"
   ]
  },
  {
   "cell_type": "code",
   "execution_count": 30,
   "id": "2cb60e6b",
   "metadata": {},
   "outputs": [],
   "source": [
    "r = requests.get('https://collectionapi.metmuseum.org/public/collection/v1/search?departmentId=6&q=cat')\n",
    "cats = r.json()"
   ]
  },
  {
   "cell_type": "code",
   "execution_count": 33,
   "id": "4c248b45",
   "metadata": {},
   "outputs": [
    {
     "data": {
      "text/plain": [
       "2894"
      ]
     },
     "execution_count": 33,
     "metadata": {},
     "output_type": "execute_result"
    }
   ],
   "source": [
    "cat_ids = cats['objectIDs']\n",
    "len(cat_ids)"
   ]
  },
  {
   "cell_type": "code",
   "execution_count": 38,
   "id": "68e38657",
   "metadata": {},
   "outputs": [
    {
     "data": {
      "text/html": [
       "<div>\n",
       "<style scoped>\n",
       "    .dataframe tbody tr th:only-of-type {\n",
       "        vertical-align: middle;\n",
       "    }\n",
       "\n",
       "    .dataframe tbody tr th {\n",
       "        vertical-align: top;\n",
       "    }\n",
       "\n",
       "    .dataframe thead th {\n",
       "        text-align: right;\n",
       "    }\n",
       "</style>\n",
       "<table border=\"1\" class=\"dataframe\">\n",
       "  <thead>\n",
       "    <tr style=\"text-align: right;\">\n",
       "      <th></th>\n",
       "      <th>objectID</th>\n",
       "      <th>title</th>\n",
       "      <th>artistDisplayName</th>\n",
       "      <th>department</th>\n",
       "      <th>objectBeginDate</th>\n",
       "      <th>objectEndDate</th>\n",
       "      <th>period</th>\n",
       "      <th>objectName</th>\n",
       "      <th>culture</th>\n",
       "    </tr>\n",
       "  </thead>\n",
       "  <tbody>\n",
       "  </tbody>\n",
       "</table>\n",
       "</div>"
      ],
      "text/plain": [
       "Empty DataFrame\n",
       "Columns: [objectID, title, artistDisplayName, department, objectBeginDate, objectEndDate, period, objectName, culture]\n",
       "Index: []"
      ]
     },
     "execution_count": 38,
     "metadata": {},
     "output_type": "execute_result"
    }
   ],
   "source": [
    "df4 = pd.DataFrame(columns=cols)\n",
    "df4"
   ]
  },
  {
   "cell_type": "code",
   "execution_count": 40,
   "id": "535e2c37",
   "metadata": {},
   "outputs": [],
   "source": [
    "for OBJECT_ID in cat_ids[:1000]:\n",
    "    try:\n",
    "        r_test = requests.get(f'https://collectionapi.metmuseum.org/public/collection/v1/objects/{OBJECT_ID}')\n",
    "        obj = r_test.json()\n",
    "#         print(OBJECT_ID, obj['objectID'], sep='*:*')\n",
    "        temp_df = pd.DataFrame([[obj['objectID'],\n",
    "                                 obj['title'],\n",
    "                                 obj['artistDisplayName'],\n",
    "                                 obj['department'],\n",
    "                                 obj['objectBeginDate'],\n",
    "                                 obj['objectEndDate'],\n",
    "                                 obj['period'],\n",
    "                                 obj['objectName'],\n",
    "                                 obj['culture']]],\n",
    "                               columns=cols\n",
    "                              )\n",
    "        df4 = df4.append(temp_df)\n",
    "    except:\n",
    "        print(f'Error: {OBJECT_ID}')"
   ]
  },
  {
   "cell_type": "code",
   "execution_count": 41,
   "id": "7c213560",
   "metadata": {},
   "outputs": [
    {
     "data": {
      "text/html": [
       "<div>\n",
       "<style scoped>\n",
       "    .dataframe tbody tr th:only-of-type {\n",
       "        vertical-align: middle;\n",
       "    }\n",
       "\n",
       "    .dataframe tbody tr th {\n",
       "        vertical-align: top;\n",
       "    }\n",
       "\n",
       "    .dataframe thead th {\n",
       "        text-align: right;\n",
       "    }\n",
       "</style>\n",
       "<table border=\"1\" class=\"dataframe\">\n",
       "  <thead>\n",
       "    <tr style=\"text-align: right;\">\n",
       "      <th></th>\n",
       "      <th>objectID</th>\n",
       "      <th>title</th>\n",
       "      <th>artistDisplayName</th>\n",
       "      <th>department</th>\n",
       "      <th>objectBeginDate</th>\n",
       "      <th>objectEndDate</th>\n",
       "      <th>period</th>\n",
       "      <th>objectName</th>\n",
       "      <th>culture</th>\n",
       "    </tr>\n",
       "  </thead>\n",
       "  <tbody>\n",
       "    <tr>\n",
       "      <th>0</th>\n",
       "      <td>49698</td>\n",
       "      <td>Cat</td>\n",
       "      <td>Zhang Yuguang</td>\n",
       "      <td>Asian Art</td>\n",
       "      <td>1900</td>\n",
       "      <td>1968</td>\n",
       "      <td></td>\n",
       "      <td>Folding fan mounted as an album leaf</td>\n",
       "      <td>China</td>\n",
       "    </tr>\n",
       "    <tr>\n",
       "      <th>0</th>\n",
       "      <td>49470</td>\n",
       "      <td>Cat</td>\n",
       "      <td>Wang Li</td>\n",
       "      <td>Asian Art</td>\n",
       "      <td>1813</td>\n",
       "      <td>1879</td>\n",
       "      <td>Qing dynasty (1644–1911)</td>\n",
       "      <td>Hanging scroll</td>\n",
       "      <td>China</td>\n",
       "    </tr>\n",
       "    <tr>\n",
       "      <th>0</th>\n",
       "      <td>53222</td>\n",
       "      <td>Musk Cat</td>\n",
       "      <td>Uto Gyoshi</td>\n",
       "      <td>Asian Art</td>\n",
       "      <td>1550</td>\n",
       "      <td>1599</td>\n",
       "      <td>Muromachi period (1392–1573)</td>\n",
       "      <td>Hanging scroll</td>\n",
       "      <td>Japan</td>\n",
       "    </tr>\n",
       "    <tr>\n",
       "      <th>0</th>\n",
       "      <td>36221</td>\n",
       "      <td>Cat</td>\n",
       "      <td>Wang Yun</td>\n",
       "      <td>Asian Art</td>\n",
       "      <td>1900</td>\n",
       "      <td>1933</td>\n",
       "      <td></td>\n",
       "      <td>Hanging scroll</td>\n",
       "      <td>China</td>\n",
       "    </tr>\n",
       "    <tr>\n",
       "      <th>0</th>\n",
       "      <td>60873</td>\n",
       "      <td>Burial Crown</td>\n",
       "      <td></td>\n",
       "      <td>Asian Art</td>\n",
       "      <td>960</td>\n",
       "      <td>1279</td>\n",
       "      <td>Song dynasty (960–1279) or later</td>\n",
       "      <td>Burial crown</td>\n",
       "      <td>China</td>\n",
       "    </tr>\n",
       "  </tbody>\n",
       "</table>\n",
       "</div>"
      ],
      "text/plain": [
       "  objectID         title artistDisplayName department objectBeginDate  \\\n",
       "0    49698           Cat     Zhang Yuguang  Asian Art            1900   \n",
       "0    49470           Cat           Wang Li  Asian Art            1813   \n",
       "0    53222      Musk Cat        Uto Gyoshi  Asian Art            1550   \n",
       "0    36221           Cat          Wang Yun  Asian Art            1900   \n",
       "0    60873  Burial Crown                    Asian Art             960   \n",
       "\n",
       "  objectEndDate                            period  \\\n",
       "0          1968                                     \n",
       "0          1879          Qing dynasty (1644–1911)   \n",
       "0          1599      Muromachi period (1392–1573)   \n",
       "0          1933                                     \n",
       "0          1279  Song dynasty (960–1279) or later   \n",
       "\n",
       "                             objectName culture  \n",
       "0  Folding fan mounted as an album leaf   China  \n",
       "0                        Hanging scroll   China  \n",
       "0                        Hanging scroll   Japan  \n",
       "0                        Hanging scroll   China  \n",
       "0                          Burial crown   China  "
      ]
     },
     "execution_count": 41,
     "metadata": {},
     "output_type": "execute_result"
    }
   ],
   "source": [
    "df4.head()"
   ]
  },
  {
   "cell_type": "code",
   "execution_count": 42,
   "id": "d19992c1",
   "metadata": {},
   "outputs": [
    {
     "data": {
      "text/plain": [
       "Edo period (1615–1868)                                 434\n",
       "                                                        96\n",
       "Ming dynasty (1368–1644)                                50\n",
       "Qing dynasty (1644–1911)                                49\n",
       "Muromachi period (1392–1573)                            32\n",
       "                                                      ... \n",
       "Mughal period (1526–1858)                                1\n",
       "Muromachi (1392–1573)–Momoyama (1573–1615) period        1\n",
       "Yuan (1271–1368) to early Ming (1368–1644) dynasty       1\n",
       "Momoyama (1573–1615) or Edo (1615–1868) period           1\n",
       "late Edo (1615–1868)-early Meiji period (1868–1912)      1\n",
       "Name: period, Length: 119, dtype: int64"
      ]
     },
     "execution_count": 42,
     "metadata": {},
     "output_type": "execute_result"
    }
   ],
   "source": [
    "df4.period.value_counts()"
   ]
  },
  {
   "cell_type": "code",
   "execution_count": null,
   "id": "9de84f56",
   "metadata": {},
   "outputs": [],
   "source": []
  }
 ],
 "metadata": {
  "kernelspec": {
   "display_name": "Python 3 (ipykernel)",
   "language": "python",
   "name": "python3"
  },
  "language_info": {
   "codemirror_mode": {
    "name": "ipython",
    "version": 3
   },
   "file_extension": ".py",
   "mimetype": "text/x-python",
   "name": "python",
   "nbconvert_exporter": "python",
   "pygments_lexer": "ipython3",
   "version": "3.9.7"
  }
 },
 "nbformat": 4,
 "nbformat_minor": 5
}
