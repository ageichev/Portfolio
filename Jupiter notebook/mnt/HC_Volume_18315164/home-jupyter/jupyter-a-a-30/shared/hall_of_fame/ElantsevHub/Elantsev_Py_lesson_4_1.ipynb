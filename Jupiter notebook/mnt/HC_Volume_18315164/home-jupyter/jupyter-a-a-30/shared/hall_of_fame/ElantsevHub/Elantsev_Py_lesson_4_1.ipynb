{
 "cells": [
  {
   "cell_type": "code",
   "execution_count": 1,
   "metadata": {},
   "outputs": [],
   "source": [
    "import pandas as pd\n",
    "import os"
   ]
  },
  {
   "cell_type": "code",
   "execution_count": 2,
   "metadata": {},
   "outputs": [
    {
     "data": {
      "text/plain": [
       "['.ipynb_checkpoints',\n",
       " 'ads_data.csv.zip',\n",
       " 'analytics_interview',\n",
       " 'hall_of_fame',\n",
       " 'Res_Tree',\n",
       " 'lesson_2_data.csv',\n",
       " 'lesson_3_data.csv',\n",
       " 'order_leads.csv',\n",
       " 'problem1-reg_data.csv',\n",
       " 'conspect',\n",
       " 'sales_team.csv',\n",
       " 'karpovcourse',\n",
       " 'problem2.csv',\n",
       " 'lesson_1_data.csv',\n",
       " 'problem1-auth_data.csv',\n",
       " '__pycache__',\n",
       " 'dag_osilyutina_test.py',\n",
       " 'homeworks',\n",
       " 'invoices.csv']"
      ]
     },
     "execution_count": 2,
     "metadata": {},
     "output_type": "execute_result"
    }
   ],
   "source": [
    "os.listdir('/home/jupyter-a-elantsev/shared/')"
   ]
  },
  {
   "cell_type": "code",
   "execution_count": 3,
   "metadata": {},
   "outputs": [
    {
     "data": {
      "text/plain": [
       "['F000545', 'M000547', 'F000570', '.DS_Store']"
      ]
     },
     "execution_count": 3,
     "metadata": {},
     "output_type": "execute_result"
    }
   ],
   "source": [
    "os.listdir('/home/jupyter-a-elantsev/shared/Res_Tree/')"
   ]
  },
  {
   "cell_type": "code",
   "execution_count": 5,
   "metadata": {},
   "outputs": [
    {
     "data": {
      "text/plain": [
       "['F000545', 'M000547', 'F000570']"
      ]
     },
     "execution_count": 5,
     "metadata": {},
     "output_type": "execute_result"
    }
   ],
   "source": [
    "folder_data = [i for i in os.listdir('/home/jupyter-a-elantsev/shared/Res_Tree/') if not i.startswith('.')]\n",
    "folder_data"
   ]
  },
  {
   "cell_type": "code",
   "execution_count": null,
   "metadata": {},
   "outputs": [],
   "source": []
  }
 ],
 "metadata": {
  "kernelspec": {
   "display_name": "Python 3",
   "language": "python",
   "name": "python3"
  },
  "language_info": {
   "codemirror_mode": {
    "name": "ipython",
    "version": 3
   },
   "file_extension": ".py",
   "mimetype": "text/x-python",
   "name": "python",
   "nbconvert_exporter": "python",
   "pygments_lexer": "ipython3",
   "version": "3.7.3"
  }
 },
 "nbformat": 4,
 "nbformat_minor": 4
}
