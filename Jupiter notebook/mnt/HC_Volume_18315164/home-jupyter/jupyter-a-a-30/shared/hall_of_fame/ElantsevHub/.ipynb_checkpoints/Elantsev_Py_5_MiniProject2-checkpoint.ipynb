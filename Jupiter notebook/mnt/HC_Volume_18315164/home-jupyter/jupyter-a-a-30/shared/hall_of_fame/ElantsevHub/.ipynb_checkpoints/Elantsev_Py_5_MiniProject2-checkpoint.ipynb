{
 "cells": [
  {
   "cell_type": "code",
   "execution_count": 1,
   "metadata": {},
   "outputs": [],
   "source": [
    "import pandas as pd\n",
    "import os\n",
    "from pathlib import Path"
   ]
  },
  {
   "attachments": {
    "image.png": {
     "image/png": "[encoded data removed]"
    }
   },
   "cell_type": "markdown",
   "metadata": {},
   "source": [
    "# Дополнительный проект\n",
    "В папке subsid (`shared/homeworks/python_ds_miniprojects/5_subsid`) находятся файлы (`tm_sales_1`, `tm_sales_2`, ...) с продажами продуктов через телемаркетинг. Каждый файл содержит, как минимум, 4 колонки (поля): `FILIAL_ID`, `SUBS_ID`, `PROD_ID`, `ACT_DTTM`.\n",
    "\n",
    "Суть задачи в том, чтобы проверить подключения продуктов определенным пользователям, соединив файлы о продажах с логами по подключениям в системе.\n",
    "\n",
    "**Особенности данных:**\n",
    "\n",
    "- сотрудники телемаркетинга не всегда указывают полный id, если `'id'` нет в начале `SUBS_ID`, то нужно его добавить\n",
    "- поля в файлах могут быть расположены абсолютно случайным образом, но названия полей статичны\n",
    "- продажа не засчитывается, если отключение (`END_DTTM`) произошло меньше чем через 5 минут после подключения (`START_DTTM`)\n",
    "- если в файле с продажами встречается строка без указанного `SUBS_ID`, она пропускается\n",
    "\n",
    "Сохраните результат в датафрэйм с разделителем `;`, содержащий корректные подключения.\n",
    "\n",
    "*Note:* обратите внимание на то, как pandas переводит дату из строки, возможно вам понадобится параметр `format`\n",
    "\n",
    "Пример содержания итогового файла (колонка `difference` это разница между `START_DTTM` и `END_DTTM`):\n",
    "![image.png](attachment:image.png)"
   ]
  },
  {
   "cell_type": "code",
   "execution_count": 2,
   "metadata": {},
   "outputs": [],
   "source": [
    "path = Path('/mnt/HC_Volume_18315164/home-jupyter/jupyter-a-elantsev/shared/homeworks/python_ds_miniprojects/5_subsid/subsid/')\n",
    "\n",
    "for root, folder, files in os.walk(path):\n",
    "    csvs = files[1:]\n",
    "\n",
    "paths = [path / file for file in csvs]"
   ]
  },
  {
   "cell_type": "code",
   "execution_count": 3,
   "metadata": {},
   "outputs": [],
   "source": [
    "# Готовим стартовый датафрейм\n",
    "# Открываем датафрейм с таймлогом\n",
    "prod_activations_logs = pd.read_csv(path / 'prod_activations_logs.csv', sep=';')\n",
    "\n",
    "# Открываем каждый отчет\n",
    "df = pd.read_csv(path / paths[0], sep=';')\n",
    "df = df[['ACT_DTTM', 'FILIAL_ID', 'PROD_ID','SUBS_ID']]\n",
    "\n",
    "\n",
    "df1 = pd.read_csv(path / paths[1], sep=';')\n",
    "df1 = df1[['ACT_DTTM', 'FILIAL_ID', 'PROD_ID','SUBS_ID']]\n",
    "\n",
    "\n",
    "df2 = pd.read_csv(path / paths[2], sep=';')\n",
    "df2 = df2[['ACT_DTTM', 'FILIAL_ID', 'PROD_ID','SUBS_ID']]\n",
    "\n",
    "# Объединяем в кучу\n",
    "tm_sales = pd.concat([df, df1, df2])\n",
    "# Удаляем строки с пропусками\n",
    "tm_sales.dropna(inplace=True)\n",
    "# Исправляем колоку SUBS_ID\n",
    "tm_sales.SUBS_ID = tm_sales.apply({'SUBS_ID': lambda x: x if x.startswith('id') else 'id'+x})"
   ]
  },
  {
   "cell_type": "code",
   "execution_count": 4,
   "metadata": {},
   "outputs": [
    {
     "data": {
      "text/html": [
       "<div>\n",
       "<style scoped>\n",
       "    .dataframe tbody tr th:only-of-type {\n",
       "        vertical-align: middle;\n",
       "    }\n",
       "\n",
       "    .dataframe tbody tr th {\n",
       "        vertical-align: top;\n",
       "    }\n",
       "\n",
       "    .dataframe thead th {\n",
       "        text-align: right;\n",
       "    }\n",
       "</style>\n",
       "<table border=\"1\" class=\"dataframe\">\n",
       "  <thead>\n",
       "    <tr style=\"text-align: right;\">\n",
       "      <th></th>\n",
       "      <th>ACT_DTTM</th>\n",
       "      <th>FILIAL_ID</th>\n",
       "      <th>PROD_ID</th>\n",
       "      <th>SUBS_ID</th>\n",
       "    </tr>\n",
       "  </thead>\n",
       "  <tbody>\n",
       "    <tr>\n",
       "      <th>0</th>\n",
       "      <td>20-03-2020 14:59</td>\n",
       "      <td>1</td>\n",
       "      <td>1954</td>\n",
       "      <td>id4651830</td>\n",
       "    </tr>\n",
       "    <tr>\n",
       "      <th>1</th>\n",
       "      <td>19-03-2020 13:00</td>\n",
       "      <td>5</td>\n",
       "      <td>6431</td>\n",
       "      <td>id7646509</td>\n",
       "    </tr>\n",
       "    <tr>\n",
       "      <th>2</th>\n",
       "      <td>22-03-2020 17:25</td>\n",
       "      <td>4</td>\n",
       "      <td>3313</td>\n",
       "      <td>id7412683</td>\n",
       "    </tr>\n",
       "    <tr>\n",
       "      <th>0</th>\n",
       "      <td>17-03-2020 10:17</td>\n",
       "      <td>3</td>\n",
       "      <td>1743</td>\n",
       "      <td>id5416547</td>\n",
       "    </tr>\n",
       "    <tr>\n",
       "      <th>2</th>\n",
       "      <td>05-03-2020 11:42</td>\n",
       "      <td>7</td>\n",
       "      <td>9879</td>\n",
       "      <td>id8362218</td>\n",
       "    </tr>\n",
       "    <tr>\n",
       "      <th>3</th>\n",
       "      <td>16-03-2020 16:28</td>\n",
       "      <td>2</td>\n",
       "      <td>3210</td>\n",
       "      <td>id2185490</td>\n",
       "    </tr>\n",
       "    <tr>\n",
       "      <th>0</th>\n",
       "      <td>18-03-2020 15:44</td>\n",
       "      <td>3</td>\n",
       "      <td>1499</td>\n",
       "      <td>id5764122</td>\n",
       "    </tr>\n",
       "    <tr>\n",
       "      <th>1</th>\n",
       "      <td>15-03-2020 14:21</td>\n",
       "      <td>6</td>\n",
       "      <td>3020</td>\n",
       "      <td>id7642700</td>\n",
       "    </tr>\n",
       "    <tr>\n",
       "      <th>2</th>\n",
       "      <td>17-03-2020 11:48</td>\n",
       "      <td>2</td>\n",
       "      <td>5677</td>\n",
       "      <td>id1374509</td>\n",
       "    </tr>\n",
       "  </tbody>\n",
       "</table>\n",
       "</div>"
      ],
      "text/plain": [
       "           ACT_DTTM  FILIAL_ID  PROD_ID    SUBS_ID\n",
       "0  20-03-2020 14:59          1     1954  id4651830\n",
       "1  19-03-2020 13:00          5     6431  id7646509\n",
       "2  22-03-2020 17:25          4     3313  id7412683\n",
       "0  17-03-2020 10:17          3     1743  id5416547\n",
       "2  05-03-2020 11:42          7     9879  id8362218\n",
       "3  16-03-2020 16:28          2     3210  id2185490\n",
       "0  18-03-2020 15:44          3     1499  id5764122\n",
       "1  15-03-2020 14:21          6     3020  id7642700\n",
       "2  17-03-2020 11:48          2     5677  id1374509"
      ]
     },
     "execution_count": 4,
     "metadata": {},
     "output_type": "execute_result"
    }
   ],
   "source": [
    "tm_sales"
   ]
  },
  {
   "cell_type": "code",
   "execution_count": 5,
   "metadata": {},
   "outputs": [],
   "source": [
    "subsid_log = tm_sales.merge(prod_activations_logs, how='inner', on=['PROD_ID', 'SUBS_ID'])"
   ]
  },
  {
   "cell_type": "code",
   "execution_count": 6,
   "metadata": {},
   "outputs": [
    {
     "data": {
      "text/html": [
       "<div>\n",
       "<style scoped>\n",
       "    .dataframe tbody tr th:only-of-type {\n",
       "        vertical-align: middle;\n",
       "    }\n",
       "\n",
       "    .dataframe tbody tr th {\n",
       "        vertical-align: top;\n",
       "    }\n",
       "\n",
       "    .dataframe thead th {\n",
       "        text-align: right;\n",
       "    }\n",
       "</style>\n",
       "<table border=\"1\" class=\"dataframe\">\n",
       "  <thead>\n",
       "    <tr style=\"text-align: right;\">\n",
       "      <th></th>\n",
       "      <th>ACT_DTTM</th>\n",
       "      <th>FILIAL_ID</th>\n",
       "      <th>PROD_ID</th>\n",
       "      <th>SUBS_ID</th>\n",
       "      <th>START_DTTM</th>\n",
       "      <th>END_DTTM</th>\n",
       "    </tr>\n",
       "  </thead>\n",
       "  <tbody>\n",
       "    <tr>\n",
       "      <th>0</th>\n",
       "      <td>20-03-2020 14:59</td>\n",
       "      <td>1</td>\n",
       "      <td>1954</td>\n",
       "      <td>id4651830</td>\n",
       "      <td>20-03-2020 14:59</td>\n",
       "      <td>01-12-2020 00:00</td>\n",
       "    </tr>\n",
       "    <tr>\n",
       "      <th>1</th>\n",
       "      <td>19-03-2020 13:00</td>\n",
       "      <td>5</td>\n",
       "      <td>6431</td>\n",
       "      <td>id7646509</td>\n",
       "      <td>19-03-2020 13:00</td>\n",
       "      <td>19-03-2020 13:03</td>\n",
       "    </tr>\n",
       "    <tr>\n",
       "      <th>2</th>\n",
       "      <td>17-03-2020 10:17</td>\n",
       "      <td>3</td>\n",
       "      <td>1743</td>\n",
       "      <td>id5416547</td>\n",
       "      <td>17-03-2020 10:17</td>\n",
       "      <td>25-03-2020 11:00</td>\n",
       "    </tr>\n",
       "    <tr>\n",
       "      <th>3</th>\n",
       "      <td>16-03-2020 16:28</td>\n",
       "      <td>2</td>\n",
       "      <td>3210</td>\n",
       "      <td>id2185490</td>\n",
       "      <td>16-03-2020 16:28</td>\n",
       "      <td>01-12-2020 00:00</td>\n",
       "    </tr>\n",
       "    <tr>\n",
       "      <th>4</th>\n",
       "      <td>15-03-2020 14:21</td>\n",
       "      <td>6</td>\n",
       "      <td>3020</td>\n",
       "      <td>id7642700</td>\n",
       "      <td>15-03-2020 14:21</td>\n",
       "      <td>15-03-2020 23:42</td>\n",
       "    </tr>\n",
       "  </tbody>\n",
       "</table>\n",
       "</div>"
      ],
      "text/plain": [
       "           ACT_DTTM  FILIAL_ID  PROD_ID    SUBS_ID        START_DTTM  \\\n",
       "0  20-03-2020 14:59          1     1954  id4651830  20-03-2020 14:59   \n",
       "1  19-03-2020 13:00          5     6431  id7646509  19-03-2020 13:00   \n",
       "2  17-03-2020 10:17          3     1743  id5416547  17-03-2020 10:17   \n",
       "3  16-03-2020 16:28          2     3210  id2185490  16-03-2020 16:28   \n",
       "4  15-03-2020 14:21          6     3020  id7642700  15-03-2020 14:21   \n",
       "\n",
       "           END_DTTM  \n",
       "0  01-12-2020 00:00  \n",
       "1  19-03-2020 13:03  \n",
       "2  25-03-2020 11:00  \n",
       "3  01-12-2020 00:00  \n",
       "4  15-03-2020 23:42  "
      ]
     },
     "execution_count": 6,
     "metadata": {},
     "output_type": "execute_result"
    }
   ],
   "source": [
    "subsid_log"
   ]
  },
  {
   "cell_type": "code",
   "execution_count": 7,
   "metadata": {},
   "outputs": [],
   "source": [
    "subsid_log[['ACT_DTTM', 'START_DTTM', 'END_DTTM']] = (subsid_log[['ACT_DTTM', 'START_DTTM', 'END_DTTM']]\n",
    "                                                      .apply(pd.to_datetime, dayfirst=True)\n",
    "                                                     )"
   ]
  },
  {
   "cell_type": "code",
   "execution_count": 8,
   "metadata": {},
   "outputs": [
    {
     "data": {
      "text/plain": [
       "ACT_DTTM      datetime64[ns]\n",
       "FILIAL_ID              int64\n",
       "PROD_ID                int64\n",
       "SUBS_ID               object\n",
       "START_DTTM    datetime64[ns]\n",
       "END_DTTM      datetime64[ns]\n",
       "dtype: object"
      ]
     },
     "execution_count": 8,
     "metadata": {},
     "output_type": "execute_result"
    }
   ],
   "source": [
    "subsid_log.dtypes"
   ]
  },
  {
   "cell_type": "code",
   "execution_count": 9,
   "metadata": {},
   "outputs": [],
   "source": [
    "subsid_log['difference'] = subsid_log.END_DTTM - subsid_log.START_DTTM"
   ]
  },
  {
   "cell_type": "code",
   "execution_count": 10,
   "metadata": {},
   "outputs": [
    {
     "data": {
      "text/html": [
       "<div>\n",
       "<style scoped>\n",
       "    .dataframe tbody tr th:only-of-type {\n",
       "        vertical-align: middle;\n",
       "    }\n",
       "\n",
       "    .dataframe tbody tr th {\n",
       "        vertical-align: top;\n",
       "    }\n",
       "\n",
       "    .dataframe thead th {\n",
       "        text-align: right;\n",
       "    }\n",
       "</style>\n",
       "<table border=\"1\" class=\"dataframe\">\n",
       "  <thead>\n",
       "    <tr style=\"text-align: right;\">\n",
       "      <th></th>\n",
       "      <th>ACT_DTTM</th>\n",
       "      <th>FILIAL_ID</th>\n",
       "      <th>PROD_ID</th>\n",
       "      <th>SUBS_ID</th>\n",
       "      <th>START_DTTM</th>\n",
       "      <th>END_DTTM</th>\n",
       "      <th>difference</th>\n",
       "    </tr>\n",
       "  </thead>\n",
       "  <tbody>\n",
       "    <tr>\n",
       "      <th>0</th>\n",
       "      <td>2020-03-20 14:59:00</td>\n",
       "      <td>1</td>\n",
       "      <td>1954</td>\n",
       "      <td>id4651830</td>\n",
       "      <td>2020-03-20 14:59:00</td>\n",
       "      <td>2020-12-01 00:00:00</td>\n",
       "      <td>255 days 09:01:00</td>\n",
       "    </tr>\n",
       "    <tr>\n",
       "      <th>2</th>\n",
       "      <td>2020-03-17 10:17:00</td>\n",
       "      <td>3</td>\n",
       "      <td>1743</td>\n",
       "      <td>id5416547</td>\n",
       "      <td>2020-03-17 10:17:00</td>\n",
       "      <td>2020-03-25 11:00:00</td>\n",
       "      <td>8 days 00:43:00</td>\n",
       "    </tr>\n",
       "    <tr>\n",
       "      <th>3</th>\n",
       "      <td>2020-03-16 16:28:00</td>\n",
       "      <td>2</td>\n",
       "      <td>3210</td>\n",
       "      <td>id2185490</td>\n",
       "      <td>2020-03-16 16:28:00</td>\n",
       "      <td>2020-12-01 00:00:00</td>\n",
       "      <td>259 days 07:32:00</td>\n",
       "    </tr>\n",
       "    <tr>\n",
       "      <th>4</th>\n",
       "      <td>2020-03-15 14:21:00</td>\n",
       "      <td>6</td>\n",
       "      <td>3020</td>\n",
       "      <td>id7642700</td>\n",
       "      <td>2020-03-15 14:21:00</td>\n",
       "      <td>2020-03-15 23:42:00</td>\n",
       "      <td>0 days 09:21:00</td>\n",
       "    </tr>\n",
       "  </tbody>\n",
       "</table>\n",
       "</div>"
      ],
      "text/plain": [
       "             ACT_DTTM  FILIAL_ID  PROD_ID    SUBS_ID          START_DTTM  \\\n",
       "0 2020-03-20 14:59:00          1     1954  id4651830 2020-03-20 14:59:00   \n",
       "2 2020-03-17 10:17:00          3     1743  id5416547 2020-03-17 10:17:00   \n",
       "3 2020-03-16 16:28:00          2     3210  id2185490 2020-03-16 16:28:00   \n",
       "4 2020-03-15 14:21:00          6     3020  id7642700 2020-03-15 14:21:00   \n",
       "\n",
       "             END_DTTM        difference  \n",
       "0 2020-12-01 00:00:00 255 days 09:01:00  \n",
       "2 2020-03-25 11:00:00   8 days 00:43:00  \n",
       "3 2020-12-01 00:00:00 259 days 07:32:00  \n",
       "4 2020-03-15 23:42:00   0 days 09:21:00  "
      ]
     },
     "execution_count": 10,
     "metadata": {},
     "output_type": "execute_result"
    }
   ],
   "source": [
    "subsid_log.query(\"difference >= '5m'\")"
   ]
  },
  {
   "cell_type": "markdown",
   "metadata": {},
   "source": [
    "## 💀 Сложное задание! 💀\n",
    "\n",
    "Для проверки результатов введите `SUBS_ID` из полученного датасета в порядке возрастания, через запятую с пробелом."
   ]
  },
  {
   "cell_type": "code",
   "execution_count": 11,
   "metadata": {},
   "outputs": [],
   "source": [
    "res = subsid_log.query(\"difference >= '5m'\").sort_values('SUBS_ID').SUBS_ID.to_list()"
   ]
  },
  {
   "cell_type": "code",
   "execution_count": 12,
   "metadata": {},
   "outputs": [
    {
     "name": "stdout",
     "output_type": "stream",
     "text": [
      "id2185490, id4651830, id5416547, id7642700, "
     ]
    },
    {
     "data": {
      "text/plain": [
       "[None, None, None, None]"
      ]
     },
     "execution_count": 12,
     "metadata": {},
     "output_type": "execute_result"
    }
   ],
   "source": [
    "[print(i, end=', ') for i in res]"
   ]
  },
  {
   "cell_type": "code",
   "execution_count": 13,
   "metadata": {},
   "outputs": [
    {
     "name": "stdout",
     "output_type": "stream",
     "text": [
      "id2185490, id4651830, id5416547, id7642700\n"
     ]
    }
   ],
   "source": [
    "print(', '.join(res))"
   ]
  },
  {
   "cell_type": "code",
   "execution_count": null,
   "metadata": {},
   "outputs": [],
   "source": []
  }
 ],
 "metadata": {
  "kernelspec": {
   "display_name": "Python 3",
   "language": "python",
   "name": "python3"
  },
  "language_info": {
   "codemirror_mode": {
    "name": "ipython",
    "version": 3
   },
   "file_extension": ".py",
   "mimetype": "text/x-python",
   "name": "python",
   "nbconvert_exporter": "python",
   "pygments_lexer": "ipython3",
   "version": "3.7.3"
  }
 },
 "nbformat": 4,
 "nbformat_minor": 4
}
